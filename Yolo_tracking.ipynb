{
  "nbformat": 4,
  "nbformat_minor": 0,
  "metadata": {
    "colab": {
      "name": "Yolo_tracking.ipynb",
      "provenance": [],
      "collapsed_sections": [],
      "authorship_tag": "ABX9TyNApW/mlY/B+Rp7lrRcTeIx",
      "include_colab_link": true
    },
    "kernelspec": {
      "name": "python3",
      "display_name": "Python 3"
    },
    "accelerator": "GPU"
  },
  "cells": [
    {
      "cell_type": "markdown",
      "metadata": {
        "id": "view-in-github",
        "colab_type": "text"
      },
      "source": [
        "<a href=\"https://colab.research.google.com/github/vichuroxx/YOLOV3-Custom-dataset-Object-detection/blob/master/Yolo_tracking.ipynb\" target=\"_parent\"><img src=\"https://colab.research.google.com/assets/colab-badge.svg\" alt=\"Open In Colab\"/></a>"
      ]
    },
    {
      "cell_type": "markdown",
      "metadata": {
        "id": "TsCY121GaCoy",
        "colab_type": "text"
      },
      "source": [
        "## Yolo V3 - Darknet Installation"
      ]
    },
    {
      "cell_type": "code",
      "metadata": {
        "id": "CZqepBf6TOYo",
        "colab_type": "code",
        "colab": {}
      },
      "source": [
        "from google.colab import drive\n",
        "drive.mount('/content/drive')"
      ],
      "execution_count": 0,
      "outputs": []
    },
    {
      "cell_type": "code",
      "metadata": {
        "id": "b5djAyP-akEN",
        "colab_type": "code",
        "colab": {}
      },
      "source": [
        "!ls\n",
        "!rm -fr darknet\n",
        "!git clone https://github.com/AlexeyAB/darknet/"
      ],
      "execution_count": 0,
      "outputs": []
    },
    {
      "cell_type": "code",
      "metadata": {
        "id": "B6ECXlG4aUSH",
        "colab_type": "code",
        "colab": {}
      },
      "source": [
        "cp drive/'My Drive'/project/data_for_colab.zip /content/darknet"
      ],
      "execution_count": 0,
      "outputs": []
    },
    {
      "cell_type": "code",
      "metadata": {
        "id": "kRK4_MtjbFaZ",
        "colab_type": "code",
        "colab": {}
      },
      "source": [
        "cd darknet"
      ],
      "execution_count": 0,
      "outputs": []
    },
    {
      "cell_type": "code",
      "metadata": {
        "id": "K6Qo4PpsbG2I",
        "colab_type": "code",
        "colab": {}
      },
      "source": [
        "ls"
      ],
      "execution_count": 0,
      "outputs": []
    },
    {
      "cell_type": "code",
      "metadata": {
        "id": "6mNHVum9bIax",
        "colab_type": "code",
        "colab": {}
      },
      "source": [
        "!unzip data_for_colab"
      ],
      "execution_count": 0,
      "outputs": []
    },
    {
      "cell_type": "code",
      "metadata": {
        "id": "62Arr88ebLfi",
        "colab_type": "code",
        "colab": {}
      },
      "source": [
        "#upload train test.txt files\n",
        "from google.colab import files\n",
        "uploaded = files.upload() \n",
        "for name, data in uploaded.items():\n",
        "  with open(name, 'wb') as f:\n",
        "    f.write(data)\n",
        "    print ('saved file', name)"
      ],
      "execution_count": 0,
      "outputs": []
    },
    {
      "cell_type": "code",
      "metadata": {
        "id": "lo2GFwWRbPFN",
        "colab_type": "code",
        "colab": {}
      },
      "source": [
        "!apt-get update\n",
        "!apt-get upgrade"
      ],
      "execution_count": 0,
      "outputs": []
    },
    {
      "cell_type": "code",
      "metadata": {
        "id": "pXdfzpT1bSlJ",
        "colab_type": "code",
        "colab": {}
      },
      "source": [
        "!apt-get install build-essential\n",
        "!apt-get install cmake git libgtk2.0-dev pkg-config libavcodec-dev libavformat-dev libswscale-dev"
      ],
      "execution_count": 0,
      "outputs": []
    },
    {
      "cell_type": "code",
      "metadata": {
        "id": "xE8Rm8m0dHvL",
        "colab_type": "code",
        "colab": {}
      },
      "source": [
        "!apt-get install libavcodec-dev libavformat-dev libswscale-dev"
      ],
      "execution_count": 0,
      "outputs": []
    },
    {
      "cell_type": "code",
      "metadata": {
        "id": "tPuQFR63dJmu",
        "colab_type": "code",
        "colab": {}
      },
      "source": [
        "!apt-get -y install cmake\n",
        "!which cmake\n",
        "\n",
        "!cmake --version"
      ],
      "execution_count": 0,
      "outputs": []
    },
    {
      "cell_type": "code",
      "metadata": {
        "id": "_wAnkXWbdLXQ",
        "colab_type": "code",
        "colab": {}
      },
      "source": [
        "!apt-get install libopencv-dev"
      ],
      "execution_count": 0,
      "outputs": []
    },
    {
      "cell_type": "code",
      "metadata": {
        "id": "xs-8ouURdM-7",
        "colab_type": "code",
        "colab": {}
      },
      "source": [
        "!apt-get install vim"
      ],
      "execution_count": 0,
      "outputs": []
    },
    {
      "cell_type": "code",
      "metadata": {
        "id": "miOOGsEXdPYO",
        "colab_type": "code",
        "colab": {}
      },
      "source": [
        "ls"
      ],
      "execution_count": 0,
      "outputs": []
    },
    {
      "cell_type": "code",
      "metadata": {
        "id": "GuGayL7RdQ_2",
        "colab_type": "code",
        "colab": {}
      },
      "source": [
        "#Now let's get some YOLOv3 weights from the official site\n",
        "!ls\n",
        "!wget https://pjreddie.com/media/files/yolov3.weights"
      ],
      "execution_count": 0,
      "outputs": []
    },
    {
      "cell_type": "code",
      "metadata": {
        "id": "53pc7llTdWCa",
        "colab_type": "code",
        "colab": {}
      },
      "source": [
        "#No here we're modifying the makefile to set OPENCV and GPU to 1\n",
        "!ls\n",
        "!sed -i 's/OPENCV=0/OPENCV=1/g' Makefile\n",
        "!sed -i 's/GPU=0/GPU=1/g' Makefile"
      ],
      "execution_count": 0,
      "outputs": []
    },
    {
      "cell_type": "code",
      "metadata": {
        "id": "iDD2R-JTdXoS",
        "colab_type": "code",
        "colab": {}
      },
      "source": [
        "!ls\n",
        "%cd ../\n",
        "!ls"
      ],
      "execution_count": 0,
      "outputs": []
    },
    {
      "cell_type": "code",
      "metadata": {
        "id": "x4dJV_ISdZhl",
        "colab_type": "code",
        "colab": {}
      },
      "source": [
        "!apt install g++-5\n",
        "!apt install gcc-5\n",
        "\n",
        "!update-alternatives --install /usr/bin/gcc gcc /usr/bin/gcc-5 10\n",
        "!update-alternatives --install /usr/bin/gcc gcc /usr/bin/gcc-5 20\n",
        "!update-alternatives --install /usr/bin/g++ g++ /usr/bin/g++-5 10\n",
        "!update-alternatives --install /usr/bin/g++ g++ /usr/bin/g++-5 20\n",
        "!update-alternatives --install /usr/bin/cc cc /usr/bin/gcc 30\n",
        "!update-alternatives --set cc /usr/bin/gcc\n",
        "!update-alternatives --install /usr/bin/c++ c++ /usr/bin/g++ 30\n",
        "!update-alternatives --set c++ /usr/bin/g++"
      ],
      "execution_count": 0,
      "outputs": []
    },
    {
      "cell_type": "code",
      "metadata": {
        "id": "ECAI7uQcdbWr",
        "colab_type": "code",
        "colab": {}
      },
      "source": [
        "#Now, here's a bunch of code that takes the longest to execute here but\n",
        "#It's about installing CUDA and using the beautiful Tesla K80 GPU, so that\n",
        "#Will worth it\n",
        "\n",
        "!apt update -qq;\n",
        "!wget https://developer.nvidia.com/compute/cuda/8.0/Prod2/local_installers/cuda-repo-ubuntu1604-8-0-local-ga2_8.0.61-1_amd64-deb\n",
        "!dpkg -i cuda-repo-ubuntu1604-8-0-local-ga2_8.0.61-1_amd64-deb\n",
        "!apt-get update -qq\n",
        "\n",
        "#Here were are installing compilers and creating some links\n",
        "!apt-get install cuda -y -qq #gcc-5 g++-5 \n",
        "#!ln -s /usr/bin/gcc-5 /usr/local/cuda/bin/gcc\n",
        "#!ln -s /usr/bin/g++-5 /usr/local/cuda/bin/g++\n",
        "!apt update\n",
        "!apt upgrade\n",
        "!apt install cuda-8.0 -y"
      ],
      "execution_count": 0,
      "outputs": []
    },
    {
      "cell_type": "code",
      "metadata": {
        "id": "UJ4O7hJ_d_2d",
        "colab_type": "code",
        "colab": {}
      },
      "source": [
        "#Now let's see whether the GPU is here and CUDA was successfully installed!\n",
        "import tensorflow as tf\n",
        "device_name = tf.test.gpu_device_name()\n",
        "print(device_name)\n",
        "\n",
        "print(\"'sup!'\")\n",
        "\n",
        "!/usr/local/cuda/bin/nvcc --version"
      ],
      "execution_count": 0,
      "outputs": []
    },
    {
      "cell_type": "code",
      "metadata": {
        "id": "Jhsgor4nsQgV",
        "colab_type": "code",
        "colab": {}
      },
      "source": [
        "ls"
      ],
      "execution_count": 0,
      "outputs": []
    },
    {
      "cell_type": "code",
      "metadata": {
        "id": "I7WA4DuGsUhK",
        "colab_type": "code",
        "colab": {}
      },
      "source": [
        "%cd darknet\n",
        "!make"
      ],
      "execution_count": 0,
      "outputs": []
    },
    {
      "cell_type": "code",
      "metadata": {
        "id": "s-6u1p8Q2Cch",
        "colab_type": "code",
        "colab": {}
      },
      "source": [
        "#Now let's get some YOLOv3 weights from the official site\n",
        "!ls\n",
        "!wget https://pjreddie.com/media/files/yolov3.weights"
      ],
      "execution_count": 0,
      "outputs": []
    },
    {
      "cell_type": "code",
      "metadata": {
        "id": "8rGVTZs9ssP0",
        "colab_type": "code",
        "colab": {}
      },
      "source": [
        "!ls\n",
        "#Now, let's see if everything works by running it on a test image\n",
        "!./darknet detect cfg/yolov3.cfg yolov3.weights data/person.jpg"
      ],
      "execution_count": 0,
      "outputs": []
    },
    {
      "cell_type": "code",
      "metadata": {
        "id": "DoUr7oFhszhz",
        "colab_type": "code",
        "colab": {}
      },
      "source": [
        "#Let's define some functions that will let us show images, and upload and \n",
        "#download files\n",
        "def imShow(path):\n",
        "  import cv2\n",
        "  import matplotlib.pyplot as plt\n",
        "  %matplotlib inline\n",
        "\n",
        "  image = cv2.imread(path)\n",
        "  height, width = image.shape[:2]\n",
        "  resized_image = cv2.resize(image,(3*width, 3*height), interpolation = cv2.INTER_CUBIC)\n",
        "\n",
        "  fig = plt.gcf()\n",
        "  fig.set_size_inches(18, 10)\n",
        "  plt.axis(\"off\")\n",
        "  #plt.rcParams['figure.figsize'] = [10, 5]\n",
        "  plt.imshow(cv2.cvtColor(resized_image, cv2.COLOR_BGR2RGB))\n",
        "  plt.show()\n",
        "  \n",
        "  \n",
        "def upload():\n",
        "  from google.colab import files\n",
        "  uploaded = files.upload() \n",
        "  for name, data in uploaded.items():\n",
        "    with open(name, 'wb') as f:\n",
        "      f.write(data)\n",
        "      print ('saved file', name)\n",
        "def download(path):\n",
        "  from google.colab import files\n",
        "  files.download(path)"
      ],
      "execution_count": 0,
      "outputs": []
    },
    {
      "cell_type": "code",
      "metadata": {
        "id": "x7ZYL64DtApr",
        "colab_type": "code",
        "colab": {}
      },
      "source": [
        "imShow('predictions.jpg')"
      ],
      "execution_count": 0,
      "outputs": []
    },
    {
      "cell_type": "code",
      "metadata": {
        "id": "LOtYwjz_tGL1",
        "colab_type": "code",
        "colab": {}
      },
      "source": [
        "ls"
      ],
      "execution_count": 0,
      "outputs": []
    },
    {
      "cell_type": "code",
      "metadata": {
        "id": "J1d1hA9929FB",
        "colab_type": "code",
        "colab": {}
      },
      "source": [
        "#Now let's get some YOLOv3 weights from the official site\n",
        "%cd data_for_colab\n",
        "!ls\n",
        "!wget https://pjreddie.com/media/files/darknet53.conv.74"
      ],
      "execution_count": 0,
      "outputs": []
    },
    {
      "cell_type": "code",
      "metadata": {
        "id": "GmNSh7ep3tfa",
        "colab_type": "code",
        "colab": {}
      },
      "source": [
        "#%cd ../  \n"
      ],
      "execution_count": 0,
      "outputs": []
    },
    {
      "cell_type": "code",
      "metadata": {
        "id": "wIMMM0bitJUm",
        "colab_type": "code",
        "colab": {}
      },
      "source": [
        "!./darknet detector train data_for_colab/obj.data data_for_colab/yolov3_Custom_AlexAb.cfg data_for_colab/darknet53.conv.74 -dont_show"
      ],
      "execution_count": 0,
      "outputs": []
    },
    {
      "cell_type": "code",
      "metadata": {
        "id": "dYTw_QSwrYm7",
        "colab_type": "code",
        "outputId": "785fab38-7a2f-48a2-c394-be2290006f71",
        "colab": {
          "base_uri": "https://localhost:8080/",
          "height": 1000
        }
      },
      "source": [
        "#Start training at the point where the last runtime finished\n",
        "%ls\n",
        "!./darknet detector train data_for_colab/obj.data data_for_colab/yolov3_Custom_AlexAb.cfg /content/drive/'My Drive'/project/backup/yolov3_Custom_AlexAb_last.weights -dont_show "
      ],
      "execution_count": 0,
      "outputs": [
        {
          "output_type": "stream",
          "text": [
            "v3 (mse loss, Normalizer: (iou: 0.75, cls: 1.00) Region 82 Avg (IOU: -nan, GIOU: -nan), Class: -nan, Obj: -nan, No Obj: 0.000030, .5R: -nan, .75R: -nan, count: 0, class_loss = 0.000000, iou_loss = 0.000000, total_loss = 0.000000 \n",
            "v3 (mse loss, Normalizer: (iou: 0.75, cls: 1.00) Region 94 Avg (IOU: 0.612072, GIOU: 0.599767), Class: 0.815982, Obj: 0.438613, No Obj: 0.002774, .5R: 0.833333, .75R: 0.166667, count: 12, class_loss = 2.203659, iou_loss = 1.579796, total_loss = 3.783455 \n",
            "v3 (mse loss, Normalizer: (iou: 0.75, cls: 1.00) Region 106 Avg (IOU: -nan, GIOU: -nan), Class: -nan, Obj: -nan, No Obj: 0.000006, .5R: -nan, .75R: -nan, count: 0, class_loss = 0.000000, iou_loss = 0.000000, total_loss = 0.000000 \n",
            "\n",
            " 902: 2.957964, 3.295644 avg loss, 0.000662 rate, 8.253954 seconds, 57728 images\n",
            "Loaded: 0.000063 seconds\n",
            "v3 (mse loss, Normalizer: (iou: 0.75, cls: 1.00) Region 82 Avg (IOU: -nan, GIOU: -nan), Class: -nan, Obj: -nan, No Obj: 0.000031, .5R: -nan, .75R: -nan, count: 0, class_loss = 0.000001, iou_loss = 0.000000, total_loss = 0.000001 \n",
            "v3 (mse loss, Normalizer: (iou: 0.75, cls: 1.00) Region 94 Avg (IOU: 0.509457, GIOU: 0.465167), Class: 0.958814, Obj: 0.711029, No Obj: 0.009315, .5R: 0.595745, .75R: 0.148936, count: 47, class_loss = 3.571836, iou_loss = 5.637982, total_loss = 9.209818 \n",
            "v3 (mse loss, Normalizer: (iou: 0.75, cls: 1.00) Region 106 Avg (IOU: -nan, GIOU: -nan), Class: -nan, Obj: -nan, No Obj: 0.000006, .5R: -nan, .75R: -nan, count: 0, class_loss = 0.000000, iou_loss = 0.000000, total_loss = 0.000000 \n",
            "v3 (mse loss, Normalizer: (iou: 0.75, cls: 1.00) Region 82 Avg (IOU: -nan, GIOU: -nan), Class: -nan, Obj: -nan, No Obj: 0.000031, .5R: -nan, .75R: -nan, count: 0, class_loss = 0.000001, iou_loss = 0.000000, total_loss = 0.000001 \n",
            "v3 (mse loss, Normalizer: (iou: 0.75, cls: 1.00) Region 94 Avg (IOU: 0.474380, GIOU: 0.404934), Class: 0.939195, Obj: 0.643241, No Obj: 0.008815, .5R: 0.500000, .75R: 0.115385, count: 52, class_loss = 4.338582, iou_loss = 9.794538, total_loss = 14.133120 \n",
            "v3 (mse loss, Normalizer: (iou: 0.75, cls: 1.00) Region 106 Avg (IOU: -nan, GIOU: -nan), Class: -nan, Obj: -nan, No Obj: 0.000007, .5R: -nan, .75R: -nan, count: 0, class_loss = 0.000001, iou_loss = 0.000000, total_loss = 0.000001 \n",
            "v3 (mse loss, Normalizer: (iou: 0.75, cls: 1.00) Region 82 Avg (IOU: -nan, GIOU: -nan), Class: -nan, Obj: -nan, No Obj: 0.000032, .5R: -nan, .75R: -nan, count: 0, class_loss = 0.000001, iou_loss = 0.000000, total_loss = 0.000001 \n",
            "v3 (mse loss, Normalizer: (iou: 0.75, cls: 1.00) Region 94 Avg (IOU: 0.501058, GIOU: 0.455772), Class: 0.912510, Obj: 0.655058, No Obj: 0.007485, .5R: 0.585366, .75R: 0.121951, count: 41, class_loss = 4.365303, iou_loss = 6.189012, total_loss = 10.554315 \n",
            "v3 (mse loss, Normalizer: (iou: 0.75, cls: 1.00) Region 106 Avg (IOU: -nan, GIOU: -nan), Class: -nan, Obj: -nan, No Obj: 0.000006, .5R: -nan, .75R: -nan, count: 0, class_loss = 0.000000, iou_loss = 0.000000, total_loss = 0.000000 \n",
            "v3 (mse loss, Normalizer: (iou: 0.75, cls: 1.00) Region 82 Avg (IOU: -nan, GIOU: -nan), Class: -nan, Obj: -nan, No Obj: 0.000031, .5R: -nan, .75R: -nan, count: 0, class_loss = 0.000001, iou_loss = 0.000000, total_loss = 0.000001 \n",
            "v3 (mse loss, Normalizer: (iou: 0.75, cls: 1.00) Region 94 Avg (IOU: 0.535151, GIOU: 0.478031), Class: 0.881524, Obj: 0.282159, No Obj: 0.006499, .5R: 0.553191, .75R: 0.148936, count: 47, class_loss = 10.314925, iou_loss = 12.359975, total_loss = 22.674900 \n",
            "v3 (mse loss, Normalizer: (iou: 0.75, cls: 1.00) Region 106 Avg (IOU: -nan, GIOU: -nan), Class: -nan, Obj: -nan, No Obj: 0.000006, .5R: -nan, .75R: -nan, count: 0, class_loss = 0.000000, iou_loss = 0.000000, total_loss = 0.000000 \n",
            "v3 (mse loss, Normalizer: (iou: 0.75, cls: 1.00) Region 82 Avg (IOU: -nan, GIOU: -nan), Class: -nan, Obj: -nan, No Obj: 0.000031, .5R: -nan, .75R: -nan, count: 0, class_loss = 0.000001, iou_loss = 0.000000, total_loss = 0.000001 \n",
            "v3 (mse loss, Normalizer: (iou: 0.75, cls: 1.00) Region 94 Avg (IOU: 0.676673, GIOU: 0.667297), Class: 0.971974, Obj: 0.591522, No Obj: 0.003242, .5R: 0.875000, .75R: 0.250000, count: 16, class_loss = 1.271607, iou_loss = 1.533931, total_loss = 2.805538 \n",
            "v3 (mse loss, Normalizer: (iou: 0.75, cls: 1.00) Region 106 Avg (IOU: -nan, GIOU: -nan), Class: -nan, Obj: -nan, No Obj: 0.000006, .5R: -nan, .75R: -nan, count: 0, class_loss = 0.000000, iou_loss = 0.000000, total_loss = 0.000000 \n",
            "v3 (mse loss, Normalizer: (iou: 0.75, cls: 1.00) Region 82 Avg (IOU: -nan, GIOU: -nan), Class: -nan, Obj: -nan, No Obj: 0.000032, .5R: -nan, .75R: -nan, count: 0, class_loss = 0.000001, iou_loss = 0.000000, total_loss = 0.000001 \n",
            "v3 (mse loss, Normalizer: (iou: 0.75, cls: 1.00) Region 94 Avg (IOU: 0.698940, GIOU: 0.679189), Class: 0.977916, Obj: 0.783604, No Obj: 0.003979, .5R: 0.882353, .75R: 0.411765, count: 17, class_loss = 1.379705, iou_loss = 1.442684, total_loss = 2.822389 \n",
            "v3 (mse loss, Normalizer: (iou: 0.75, cls: 1.00) Region 106 Avg (IOU: -nan, GIOU: -nan), Class: -nan, Obj: -nan, No Obj: 0.000006, .5R: -nan, .75R: -nan, count: 0, class_loss = 0.000000, iou_loss = 0.000000, total_loss = 0.000000 \n",
            "v3 (mse loss, Normalizer: (iou: 0.75, cls: 1.00) Region 82 Avg (IOU: -nan, GIOU: -nan), Class: -nan, Obj: -nan, No Obj: 0.000032, .5R: -nan, .75R: -nan, count: 0, class_loss = 0.000001, iou_loss = 0.000000, total_loss = 0.000001 \n",
            "v3 (mse loss, Normalizer: (iou: 0.75, cls: 1.00) Region 94 Avg (IOU: 0.665394, GIOU: 0.652838), Class: 0.911319, Obj: 0.371098, No Obj: 0.002464, .5R: 0.785714, .75R: 0.357143, count: 14, class_loss = 2.583012, iou_loss = 2.110068, total_loss = 4.693080 \n",
            "v3 (mse loss, Normalizer: (iou: 0.75, cls: 1.00) Region 106 Avg (IOU: -nan, GIOU: -nan), Class: -nan, Obj: -nan, No Obj: 0.000006, .5R: -nan, .75R: -nan, count: 0, class_loss = 0.000000, iou_loss = 0.000000, total_loss = 0.000000 \n",
            "v3 (mse loss, Normalizer: (iou: 0.75, cls: 1.00) Region 82 Avg (IOU: -nan, GIOU: -nan), Class: -nan, Obj: -nan, No Obj: 0.000031, .5R: -nan, .75R: -nan, count: 0, class_loss = 0.000001, iou_loss = 0.000000, total_loss = 0.000001 \n",
            "v3 (mse loss, Normalizer: (iou: 0.75, cls: 1.00) Region 94 Avg (IOU: 0.594184, GIOU: 0.581244), Class: 0.919826, Obj: 0.413841, No Obj: 0.003263, .5R: 0.733333, .75R: 0.200000, count: 15, class_loss = 2.702019, iou_loss = 2.620707, total_loss = 5.322726 \n",
            "v3 (mse loss, Normalizer: (iou: 0.75, cls: 1.00) Region 106 Avg (IOU: -nan, GIOU: -nan), Class: -nan, Obj: -nan, No Obj: 0.000006, .5R: -nan, .75R: -nan, count: 0, class_loss = 0.000001, iou_loss = 0.000000, total_loss = 0.000001 \n",
            "v3 (mse loss, Normalizer: (iou: 0.75, cls: 1.00) Region 82 Avg (IOU: -nan, GIOU: -nan), Class: -nan, Obj: -nan, No Obj: 0.000033, .5R: -nan, .75R: -nan, count: 0, class_loss = 0.000001, iou_loss = 0.000000, total_loss = 0.000001 \n",
            "v3 (mse loss, Normalizer: (iou: 0.75, cls: 1.00) Region 94 Avg (IOU: 0.604333, GIOU: 0.599680), Class: 0.983205, Obj: 0.522423, No Obj: 0.002975, .5R: 0.714286, .75R: 0.142857, count: 14, class_loss = 1.567058, iou_loss = 1.730728, total_loss = 3.297786 \n",
            "v3 (mse loss, Normalizer: (iou: 0.75, cls: 1.00) Region 106 Avg (IOU: -nan, GIOU: -nan), Class: -nan, Obj: -nan, No Obj: 0.000006, .5R: -nan, .75R: -nan, count: 0, class_loss = 0.000000, iou_loss = 0.000000, total_loss = 0.000000 \n",
            "v3 (mse loss, Normalizer: (iou: 0.75, cls: 1.00) Region 82 Avg (IOU: -nan, GIOU: -nan), Class: -nan, Obj: -nan, No Obj: 0.000030, .5R: -nan, .75R: -nan, count: 0, class_loss = 0.000000, iou_loss = 0.000000, total_loss = 0.000000 \n",
            "v3 (mse loss, Normalizer: (iou: 0.75, cls: 1.00) Region 94 Avg (IOU: 0.576702, GIOU: 0.547484), Class: 0.945233, Obj: 0.487124, No Obj: 0.010294, .5R: 0.621212, .75R: 0.196970, count: 66, class_loss = 9.041578, iou_loss = 10.181719, total_loss = 19.223297 \n",
            "v3 (mse loss, Normalizer: (iou: 0.75, cls: 1.00) Region 106 Avg (IOU: -nan, GIOU: -nan), Class: -nan, Obj: -nan, No Obj: 0.000006, .5R: -nan, .75R: -nan, count: 0, class_loss = 0.000000, iou_loss = 0.000000, total_loss = 0.000000 \n",
            "v3 (mse loss, Normalizer: (iou: 0.75, cls: 1.00) Region 82 Avg (IOU: -nan, GIOU: -nan), Class: -nan, Obj: -nan, No Obj: 0.000031, .5R: -nan, .75R: -nan, count: 0, class_loss = 0.000001, iou_loss = 0.000000, total_loss = 0.000001 \n",
            "v3 (mse loss, Normalizer: (iou: 0.75, cls: 1.00) Region 94 Avg (IOU: 0.604245, GIOU: 0.575117), Class: 0.937269, Obj: 0.433015, No Obj: 0.007866, .5R: 0.888889, .75R: 0.111111, count: 45, class_loss = 7.639047, iou_loss = 7.666126, total_loss = 15.305173 \n",
            "v3 (mse loss, Normalizer: (iou: 0.75, cls: 1.00) Region 106 Avg (IOU: -nan, GIOU: -nan), Class: -nan, Obj: -nan, No Obj: 0.000006, .5R: -nan, .75R: -nan, count: 0, class_loss = 0.000000, iou_loss = 0.000000, total_loss = 0.000000 \n",
            "v3 (mse loss, Normalizer: (iou: 0.75, cls: 1.00) Region 82 Avg (IOU: -nan, GIOU: -nan), Class: -nan, Obj: -nan, No Obj: 0.000032, .5R: -nan, .75R: -nan, count: 0, class_loss = 0.000001, iou_loss = 0.000000, total_loss = 0.000001 \n",
            "v3 (mse loss, Normalizer: (iou: 0.75, cls: 1.00) Region 94 Avg (IOU: 0.523842, GIOU: 0.474915), Class: 0.898148, Obj: 0.655350, No Obj: 0.010711, .5R: 0.583333, .75R: 0.183333, count: 60, class_loss = 6.195016, iou_loss = 7.597250, total_loss = 13.792266 \n",
            "v3 (mse loss, Normalizer: (iou: 0.75, cls: 1.00) Region 106 Avg (IOU: -nan, GIOU: -nan), Class: -nan, Obj: -nan, No Obj: 0.000006, .5R: -nan, .75R: -nan, count: 0, class_loss = 0.000000, iou_loss = 0.000000, total_loss = 0.000000 \n",
            "v3 (mse loss, Normalizer: (iou: 0.75, cls: 1.00) Region 82 Avg (IOU: -nan, GIOU: -nan), Class: -nan, Obj: -nan, No Obj: 0.000030, .5R: -nan, .75R: -nan, count: 0, class_loss = 0.000001, iou_loss = 0.000000, total_loss = 0.000001 \n",
            "v3 (mse loss, Normalizer: (iou: 0.75, cls: 1.00) Region 94 Avg (IOU: 0.618850, GIOU: 0.593888), Class: 0.940109, Obj: 0.604101, No Obj: 0.010262, .5R: 0.820000, .75R: 0.160000, count: 50, class_loss = 6.804893, iou_loss = 9.053585, total_loss = 15.858479 \n",
            "v3 (mse loss, Normalizer: (iou: 0.75, cls: 1.00) Region 106 Avg (IOU: -nan, GIOU: -nan), Class: -nan, Obj: -nan, No Obj: 0.000006, .5R: -nan, .75R: -nan, count: 0, class_loss = 0.000000, iou_loss = 0.000000, total_loss = 0.000000 \n",
            "v3 (mse loss, Normalizer: (iou: 0.75, cls: 1.00) Region 82 Avg (IOU: -nan, GIOU: -nan), Class: -nan, Obj: -nan, No Obj: 0.000030, .5R: -nan, .75R: -nan, count: 0, class_loss = 0.000001, iou_loss = 0.000000, total_loss = 0.000001 \n",
            "v3 (mse loss, Normalizer: (iou: 0.75, cls: 1.00) Region 94 Avg (IOU: 0.558011, GIOU: 0.545359), Class: 0.990179, Obj: 0.535315, No Obj: 0.003046, .5R: 0.625000, .75R: 0.187500, count: 16, class_loss = 1.669178, iou_loss = 2.639409, total_loss = 4.308587 \n",
            "v3 (mse loss, Normalizer: (iou: 0.75, cls: 1.00) Region 106 Avg (IOU: -nan, GIOU: -nan), Class: -nan, Obj: -nan, No Obj: 0.000006, .5R: -nan, .75R: -nan, count: 0, class_loss = 0.000000, iou_loss = 0.000000, total_loss = 0.000000 \n",
            "v3 (mse loss, Normalizer: (iou: 0.75, cls: 1.00) Region 82 Avg (IOU: -nan, GIOU: -nan), Class: -nan, Obj: -nan, No Obj: 0.000031, .5R: -nan, .75R: -nan, count: 0, class_loss = 0.000001, iou_loss = 0.000000, total_loss = 0.000001 \n",
            "v3 (mse loss, Normalizer: (iou: 0.75, cls: 1.00) Region 94 Avg (IOU: 0.622897, GIOU: 0.600929), Class: 0.909626, Obj: 0.585658, No Obj: 0.007983, .5R: 0.804878, .75R: 0.292683, count: 41, class_loss = 4.949769, iou_loss = 6.363901, total_loss = 11.313670 \n",
            "v3 (mse loss, Normalizer: (iou: 0.75, cls: 1.00) Region 106 Avg (IOU: -nan, GIOU: -nan), Class: -nan, Obj: -nan, No Obj: 0.000006, .5R: -nan, .75R: -nan, count: 0, class_loss = 0.000000, iou_loss = 0.000000, total_loss = 0.000000 \n",
            "v3 (mse loss, Normalizer: (iou: 0.75, cls: 1.00) Region 82 Avg (IOU: -nan, GIOU: -nan), Class: -nan, Obj: -nan, No Obj: 0.000031, .5R: -nan, .75R: -nan, count: 0, class_loss = 0.000001, iou_loss = 0.000000, total_loss = 0.000001 \n",
            "v3 (mse loss, Normalizer: (iou: 0.75, cls: 1.00) Region 94 Avg (IOU: 0.647138, GIOU: 0.620566), Class: 0.943151, Obj: 0.595844, No Obj: 0.003098, .5R: 0.785714, .75R: 0.357143, count: 14, class_loss = 1.757096, iou_loss = 1.572466, total_loss = 3.329561 \n",
            "v3 (mse loss, Normalizer: (iou: 0.75, cls: 1.00) Region 106 Avg (IOU: -nan, GIOU: -nan), Class: -nan, Obj: -nan, No Obj: 0.000006, .5R: -nan, .75R: -nan, count: 0, class_loss = 0.000000, iou_loss = 0.000000, total_loss = 0.000000 \n",
            "\n",
            " 903: 3.305099, 3.296589 avg loss, 0.000665 rate, 8.303597 seconds, 57792 images\n",
            "Loaded: 0.000057 seconds\n",
            "v3 (mse loss, Normalizer: (iou: 0.75, cls: 1.00) Region 82 Avg (IOU: -nan, GIOU: -nan), Class: -nan, Obj: -nan, No Obj: 0.000030, .5R: -nan, .75R: -nan, count: 0, class_loss = 0.000001, iou_loss = 0.000000, total_loss = 0.000001 \n",
            "v3 (mse loss, Normalizer: (iou: 0.75, cls: 1.00) Region 94 Avg (IOU: 0.575762, GIOU: 0.555092), Class: 0.957321, Obj: 0.657063, No Obj: 0.009838, .5R: 0.729167, .75R: 0.083333, count: 48, class_loss = 5.124191, iou_loss = 8.079384, total_loss = 13.203574 \n",
            "v3 (mse loss, Normalizer: (iou: 0.75, cls: 1.00) Region 106 Avg (IOU: -nan, GIOU: -nan), Class: -nan, Obj: -nan, No Obj: 0.000007, .5R: -nan, .75R: -nan, count: 0, class_loss = 0.000001, iou_loss = 0.000000, total_loss = 0.000001 \n",
            "v3 (mse loss, Normalizer: (iou: 0.75, cls: 1.00) Region 82 Avg (IOU: -nan, GIOU: -nan), Class: -nan, Obj: -nan, No Obj: 0.000031, .5R: -nan, .75R: -nan, count: 0, class_loss = 0.000001, iou_loss = 0.000000, total_loss = 0.000001 \n",
            "v3 (mse loss, Normalizer: (iou: 0.75, cls: 1.00) Region 94 Avg (IOU: 0.626508, GIOU: 0.610612), Class: 0.910283, Obj: 0.486709, No Obj: 0.003318, .5R: 0.692308, .75R: 0.230769, count: 13, class_loss = 2.208741, iou_loss = 1.630366, total_loss = 3.839107 \n",
            "v3 (mse loss, Normalizer: (iou: 0.75, cls: 1.00) Region 106 Avg (IOU: -nan, GIOU: -nan), Class: -nan, Obj: -nan, No Obj: 0.000007, .5R: -nan, .75R: -nan, count: 0, class_loss = 0.000001, iou_loss = 0.000000, total_loss = 0.000001 \n",
            "v3 (mse loss, Normalizer: (iou: 0.75, cls: 1.00) Region 82 Avg (IOU: -nan, GIOU: -nan), Class: -nan, Obj: -nan, No Obj: 0.000030, .5R: -nan, .75R: -nan, count: 0, class_loss = 0.000000, iou_loss = 0.000000, total_loss = 0.000000 \n",
            "v3 (mse loss, Normalizer: (iou: 0.75, cls: 1.00) Region 94 Avg (IOU: 0.604974, GIOU: 0.589369), Class: 0.957353, Obj: 0.702221, No Obj: 0.005822, .5R: 0.769231, .75R: 0.192308, count: 26, class_loss = 2.465989, iou_loss = 3.469974, total_loss = 5.935963 \n",
            "v3 (mse loss, Normalizer: (iou: 0.75, cls: 1.00) Region 106 Avg (IOU: -nan, GIOU: -nan), Class: -nan, Obj: -nan, No Obj: 0.000007, .5R: -nan, .75R: -nan, count: 0, class_loss = 0.000001, iou_loss = 0.000000, total_loss = 0.000001 \n",
            "v3 (mse loss, Normalizer: (iou: 0.75, cls: 1.00) Region 82 Avg (IOU: -nan, GIOU: -nan), Class: -nan, Obj: -nan, No Obj: 0.000032, .5R: -nan, .75R: -nan, count: 0, class_loss = 0.000001, iou_loss = 0.000000, total_loss = 0.000001 \n",
            "v3 (mse loss, Normalizer: (iou: 0.75, cls: 1.00) Region 94 Avg (IOU: 0.597234, GIOU: 0.578847), Class: 0.972241, Obj: 0.524824, No Obj: 0.002678, .5R: 0.777778, .75R: 0.111111, count: 9, class_loss = 1.436626, iou_loss = 1.356646, total_loss = 2.793272 \n",
            "v3 (mse loss, Normalizer: (iou: 0.75, cls: 1.00) Region 106 Avg (IOU: -nan, GIOU: -nan), Class: -nan, Obj: -nan, No Obj: 0.000006, .5R: -nan, .75R: -nan, count: 0, class_loss = 0.000000, iou_loss = 0.000000, total_loss = 0.000000 \n",
            "v3 (mse loss, Normalizer: (iou: 0.75, cls: 1.00) Region 82 Avg (IOU: -nan, GIOU: -nan), Class: -nan, Obj: -nan, No Obj: 0.000030, .5R: -nan, .75R: -nan, count: 0, class_loss = 0.000000, iou_loss = 0.000000, total_loss = 0.000000 \n",
            "v3 (mse loss, Normalizer: (iou: 0.75, cls: 1.00) Region 94 Avg (IOU: 0.436148, GIOU: 0.360154), Class: 0.936721, Obj: 0.598918, No Obj: 0.007380, .5R: 0.382353, .75R: 0.058824, count: 34, class_loss = 4.904329, iou_loss = 10.131872, total_loss = 15.036201 \n",
            "v3 (mse loss, Normalizer: (iou: 0.75, cls: 1.00) Region 106 Avg (IOU: -nan, GIOU: -nan), Class: -nan, Obj: -nan, No Obj: 0.000006, .5R: -nan, .75R: -nan, count: 0, class_loss = 0.000000, iou_loss = 0.000000, total_loss = 0.000000 \n",
            "v3 (mse loss, Normalizer: (iou: 0.75, cls: 1.00) Region 82 Avg (IOU: -nan, GIOU: -nan), Class: -nan, Obj: -nan, No Obj: 0.000031, .5R: -nan, .75R: -nan, count: 0, class_loss = 0.000001, iou_loss = 0.000000, total_loss = 0.000001 \n",
            "v3 (mse loss, Normalizer: (iou: 0.75, cls: 1.00) Region 94 Avg (IOU: 0.509854, GIOU: 0.494271), Class: 0.985135, Obj: 0.613067, No Obj: 0.004756, .5R: 0.578947, .75R: 0.000000, count: 19, class_loss = 2.226137, iou_loss = 4.019613, total_loss = 6.245750 \n",
            "v3 (mse loss, Normalizer: (iou: 0.75, cls: 1.00) Region 106 Avg (IOU: -nan, GIOU: -nan), Class: -nan, Obj: -nan, No Obj: 0.000006, .5R: -nan, .75R: -nan, count: 0, class_loss = 0.000000, iou_loss = 0.000000, total_loss = 0.000000 \n",
            "v3 (mse loss, Normalizer: (iou: 0.75, cls: 1.00) Region 82 Avg (IOU: -nan, GIOU: -nan), Class: -nan, Obj: -nan, No Obj: 0.000031, .5R: -nan, .75R: -nan, count: 0, class_loss = 0.000001, iou_loss = 0.000000, total_loss = 0.000001 \n",
            "v3 (mse loss, Normalizer: (iou: 0.75, cls: 1.00) Region 94 Avg (IOU: 0.541294, GIOU: 0.511706), Class: 0.929557, Obj: 0.567557, No Obj: 0.014551, .5R: 0.611111, .75R: 0.122222, count: 90, class_loss = 10.305533, iou_loss = 13.407195, total_loss = 23.712729 \n",
            "v3 (mse loss, Normalizer: (iou: 0.75, cls: 1.00) Region 106 Avg (IOU: -nan, GIOU: -nan), Class: -nan, Obj: -nan, No Obj: 0.000006, .5R: -nan, .75R: -nan, count: 0, class_loss = 0.000000, iou_loss = 0.000000, total_loss = 0.000000 \n",
            "v3 (mse loss, Normalizer: (iou: 0.75, cls: 1.00) Region 82 Avg (IOU: -nan, GIOU: -nan), Class: -nan, Obj: -nan, No Obj: 0.000032, .5R: -nan, .75R: -nan, count: 0, class_loss = 0.000001, iou_loss = 0.000000, total_loss = 0.000001 \n",
            "v3 (mse loss, Normalizer: (iou: 0.75, cls: 1.00) Region 94 Avg (IOU: 0.510898, GIOU: 0.481058), Class: 0.959200, Obj: 0.749223, No Obj: 0.006922, .5R: 0.529412, .75R: 0.205882, count: 34, class_loss = 2.893855, iou_loss = 5.749469, total_loss = 8.643324 \n",
            "v3 (mse loss, Normalizer: (iou: 0.75, cls: 1.00) Region 106 Avg (IOU: -nan, GIOU: -nan), Class: -nan, Obj: -nan, No Obj: 0.000006, .5R: -nan, .75R: -nan, count: 0, class_loss = 0.000000, iou_loss = 0.000000, total_loss = 0.000000 \n",
            "v3 (mse loss, Normalizer: (iou: 0.75, cls: 1.00) Region 82 Avg (IOU: -nan, GIOU: -nan), Class: -nan, Obj: -nan, No Obj: 0.000031, .5R: -nan, .75R: -nan, count: 0, class_loss = 0.000001, iou_loss = 0.000000, total_loss = 0.000001 \n",
            "v3 (mse loss, Normalizer: (iou: 0.75, cls: 1.00) Region 94 Avg (IOU: 0.585835, GIOU: 0.574584), Class: 0.936165, Obj: 0.461416, No Obj: 0.005995, .5R: 0.800000, .75R: 0.166667, count: 30, class_loss = 4.494874, iou_loss = 7.238740, total_loss = 11.733614 \n",
            "v3 (mse loss, Normalizer: (iou: 0.75, cls: 1.00) Region 106 Avg (IOU: -nan, GIOU: -nan), Class: -nan, Obj: -nan, No Obj: 0.000006, .5R: -nan, .75R: -nan, count: 0, class_loss = 0.000000, iou_loss = 0.000000, total_loss = 0.000000 \n",
            "v3 (mse loss, Normalizer: (iou: 0.75, cls: 1.00) Region 82 Avg (IOU: -nan, GIOU: -nan), Class: -nan, Obj: -nan, No Obj: 0.000032, .5R: -nan, .75R: -nan, count: 0, class_loss = 0.000001, iou_loss = 0.000000, total_loss = 0.000001 \n",
            "v3 (mse loss, Normalizer: (iou: 0.75, cls: 1.00) Region 94 Avg (IOU: 0.600294, GIOU: 0.582069), Class: 0.959486, Obj: 0.553708, No Obj: 0.010279, .5R: 0.733333, .75R: 0.177778, count: 45, class_loss = 7.272738, iou_loss = 7.993820, total_loss = 15.266558 \n",
            "v3 (mse loss, Normalizer: (iou: 0.75, cls: 1.00) Region 106 Avg (IOU: -nan, GIOU: -nan), Class: -nan, Obj: -nan, No Obj: 0.000006, .5R: -nan, .75R: -nan, count: 0, class_loss = 0.000000, iou_loss = 0.000000, total_loss = 0.000000 \n",
            "v3 (mse loss, Normalizer: (iou: 0.75, cls: 1.00) Region 82 Avg (IOU: -nan, GIOU: -nan), Class: -nan, Obj: -nan, No Obj: 0.000031, .5R: -nan, .75R: -nan, count: 0, class_loss = 0.000001, iou_loss = 0.000000, total_loss = 0.000001 \n",
            "v3 (mse loss, Normalizer: (iou: 0.75, cls: 1.00) Region 94 Avg (IOU: 0.529142, GIOU: 0.497785), Class: 0.919632, Obj: 0.651501, No Obj: 0.006812, .5R: 0.647059, .75R: 0.058824, count: 34, class_loss = 4.236226, iou_loss = 6.485525, total_loss = 10.721751 \n",
            "v3 (mse loss, Normalizer: (iou: 0.75, cls: 1.00) Region 106 Avg (IOU: -nan, GIOU: -nan), Class: -nan, Obj: -nan, No Obj: 0.000006, .5R: -nan, .75R: -nan, count: 0, class_loss = 0.000000, iou_loss = 0.000000, total_loss = 0.000000 \n",
            "v3 (mse loss, Normalizer: (iou: 0.75, cls: 1.00) Region 82 Avg (IOU: -nan, GIOU: -nan), Class: -nan, Obj: -nan, No Obj: 0.000031, .5R: -nan, .75R: -nan, count: 0, class_loss = 0.000001, iou_loss = 0.000000, total_loss = 0.000001 \n",
            "v3 (mse loss, Normalizer: (iou: 0.75, cls: 1.00) Region 94 Avg (IOU: 0.507643, GIOU: 0.470879), Class: 0.923113, Obj: 0.465186, No Obj: 0.004731, .5R: 0.560000, .75R: 0.160000, count: 25, class_loss = 3.940545, iou_loss = 8.776272, total_loss = 12.716817 \n",
            "v3 (mse loss, Normalizer: (iou: 0.75, cls: 1.00) Region 106 Avg (IOU: -nan, GIOU: -nan), Class: -nan, Obj: -nan, No Obj: 0.000006, .5R: -nan, .75R: -nan, count: 0, class_loss = 0.000000, iou_loss = 0.000000, total_loss = 0.000000 \n",
            "v3 (mse loss, Normalizer: (iou: 0.75, cls: 1.00) Region 82 Avg (IOU: -nan, GIOU: -nan), Class: -nan, Obj: -nan, No Obj: 0.000031, .5R: -nan, .75R: -nan, count: 0, class_loss = 0.000001, iou_loss = 0.000000, total_loss = 0.000001 \n",
            "v3 (mse loss, Normalizer: (iou: 0.75, cls: 1.00) Region 94 Avg (IOU: 0.568644, GIOU: 0.540244), Class: 0.916636, Obj: 0.460841, No Obj: 0.014328, .5R: 0.620000, .75R: 0.150000, count: 100, class_loss = 13.430776, iou_loss = 20.171238, total_loss = 33.602013 \n",
            "v3 (mse loss, Normalizer: (iou: 0.75, cls: 1.00) Region 106 Avg (IOU: -nan, GIOU: -nan), Class: -nan, Obj: -nan, No Obj: 0.000006, .5R: -nan, .75R: -nan, count: 0, class_loss = 0.000000, iou_loss = 0.000000, total_loss = 0.000000 \n",
            "v3 (mse loss, Normalizer: (iou: 0.75, cls: 1.00) Region 82 Avg (IOU: -nan, GIOU: -nan), Class: -nan, Obj: -nan, No Obj: 0.000031, .5R: -nan, .75R: -nan, count: 0, class_loss = 0.000001, iou_loss = 0.000000, total_loss = 0.000001 \n",
            "v3 (mse loss, Normalizer: (iou: 0.75, cls: 1.00) Region 94 Avg (IOU: 0.603684, GIOU: 0.589467), Class: 0.866493, Obj: 0.705210, No Obj: 0.003347, .5R: 0.733333, .75R: 0.200000, count: 15, class_loss = 1.655603, iou_loss = 2.111763, total_loss = 3.767366 \n",
            "v3 (mse loss, Normalizer: (iou: 0.75, cls: 1.00) Region 106 Avg (IOU: -nan, GIOU: -nan), Class: -nan, Obj: -nan, No Obj: 0.000006, .5R: -nan, .75R: -nan, count: 0, class_loss = 0.000000, iou_loss = 0.000000, total_loss = 0.000000 \n",
            "v3 (mse loss, Normalizer: (iou: 0.75, cls: 1.00) Region 82 Avg (IOU: -nan, GIOU: -nan), Class: -nan, Obj: -nan, No Obj: 0.000032, .5R: -nan, .75R: -nan, count: 0, class_loss = 0.000001, iou_loss = 0.000000, total_loss = 0.000001 \n",
            "v3 (mse loss, Normalizer: (iou: 0.75, cls: 1.00) Region 94 Avg (IOU: 0.603353, GIOU: 0.590617), Class: 0.968102, Obj: 0.751851, No Obj: 0.010755, .5R: 0.888889, .75R: 0.111111, count: 45, class_loss = 4.717338, iou_loss = 6.411598, total_loss = 11.128936 \n",
            "v3 (mse loss, Normalizer: (iou: 0.75, cls: 1.00) Region 106 Avg (IOU: -nan, GIOU: -nan), Class: -nan, Obj: -nan, No Obj: 0.000006, .5R: -nan, .75R: -nan, count: 0, class_loss = 0.000000, iou_loss = 0.000000, total_loss = 0.000000 \n",
            "v3 (mse loss, Normalizer: (iou: 0.75, cls: 1.00) Region 82 Avg (IOU: -nan, GIOU: -nan), Class: -nan, Obj: -nan, No Obj: 0.000031, .5R: -nan, .75R: -nan, count: 0, class_loss = 0.000001, iou_loss = 0.000000, total_loss = 0.000001 \n",
            "v3 (mse loss, Normalizer: (iou: 0.75, cls: 1.00) Region 94 Avg (IOU: 0.467210, GIOU: 0.425239), Class: 0.927237, Obj: 0.484002, No Obj: 0.007106, .5R: 0.392157, .75R: 0.098039, count: 51, class_loss = 6.519447, iou_loss = 14.352264, total_loss = 20.871712 \n",
            "v3 (mse loss, Normalizer: (iou: 0.75, cls: 1.00) Region 106 Avg (IOU: -nan, GIOU: -nan), Class: -nan, Obj: -nan, No Obj: 0.000006, .5R: -nan, .75R: -nan, count: 0, class_loss = 0.000000, iou_loss = 0.000000, total_loss = 0.000000 \n",
            "\n",
            " 904: 4.150390, 3.381969 avg loss, 0.000668 rate, 8.324634 seconds, 57856 images\n",
            "Loaded: 0.000057 seconds\n",
            "v3 (mse loss, Normalizer: (iou: 0.75, cls: 1.00) Region 82 Avg (IOU: -nan, GIOU: -nan), Class: -nan, Obj: -nan, No Obj: 0.000031, .5R: -nan, .75R: -nan, count: 0, class_loss = 0.000001, iou_loss = 0.000000, total_loss = 0.000001 \n",
            "v3 (mse loss, Normalizer: (iou: 0.75, cls: 1.00) Region 94 Avg (IOU: 0.641738, GIOU: 0.633796), Class: 0.882536, Obj: 0.398831, No Obj: 0.002573, .5R: 0.909091, .75R: 0.272727, count: 11, class_loss = 2.438569, iou_loss = 1.562770, total_loss = 4.001339 \n",
            "v3 (mse loss, Normalizer: (iou: 0.75, cls: 1.00) Region 106 Avg (IOU: -nan, GIOU: -nan), Class: -nan, Obj: -nan, No Obj: 0.000006, .5R: -nan, .75R: -nan, count: 0, class_loss = 0.000000, iou_loss = 0.000000, total_loss = 0.000000 \n",
            "v3 (mse loss, Normalizer: (iou: 0.75, cls: 1.00) Region 82 Avg (IOU: -nan, GIOU: -nan), Class: -nan, Obj: -nan, No Obj: 0.000031, .5R: -nan, .75R: -nan, count: 0, class_loss = 0.000001, iou_loss = 0.000000, total_loss = 0.000001 \n",
            "v3 (mse loss, Normalizer: (iou: 0.75, cls: 1.00) Region 94 Avg (IOU: 0.564893, GIOU: 0.531912), Class: 0.993752, Obj: 0.493089, No Obj: 0.003749, .5R: 0.600000, .75R: 0.133333, count: 15, class_loss = 1.951837, iou_loss = 2.123037, total_loss = 4.074874 \n",
            "v3 (mse loss, Normalizer: (iou: 0.75, cls: 1.00) Region 106 Avg (IOU: -nan, GIOU: -nan), Class: -nan, Obj: -nan, No Obj: 0.000006, .5R: -nan, .75R: -nan, count: 0, class_loss = 0.000000, iou_loss = 0.000000, total_loss = 0.000000 \n",
            "v3 (mse loss, Normalizer: (iou: 0.75, cls: 1.00) Region 82 Avg (IOU: -nan, GIOU: -nan), Class: -nan, Obj: -nan, No Obj: 0.000031, .5R: -nan, .75R: -nan, count: 0, class_loss = 0.000001, iou_loss = 0.000000, total_loss = 0.000001 \n",
            "v3 (mse loss, Normalizer: (iou: 0.75, cls: 1.00) Region 94 Avg (IOU: 0.570410, GIOU: 0.535725), Class: 0.917226, Obj: 0.544519, No Obj: 0.014393, .5R: 0.666667, .75R: 0.172414, count: 87, class_loss = 11.058963, iou_loss = 19.044449, total_loss = 30.103413 \n",
            "v3 (mse loss, Normalizer: (iou: 0.75, cls: 1.00) Region 106 Avg (IOU: -nan, GIOU: -nan), Class: -nan, Obj: -nan, No Obj: 0.000006, .5R: -nan, .75R: -nan, count: 0, class_loss = 0.000000, iou_loss = 0.000000, total_loss = 0.000000 \n",
            "v3 (mse loss, Normalizer: (iou: 0.75, cls: 1.00) Region 82 Avg (IOU: -nan, GIOU: -nan), Class: -nan, Obj: -nan, No Obj: 0.000031, .5R: -nan, .75R: -nan, count: 0, class_loss = 0.000001, iou_loss = 0.000000, total_loss = 0.000001 \n",
            "v3 (mse loss, Normalizer: (iou: 0.75, cls: 1.00) Region 94 Avg (IOU: 0.582462, GIOU: 0.541243), Class: 0.908362, Obj: 0.659693, No Obj: 0.007691, .5R: 0.702703, .75R: 0.270270, count: 37, class_loss = 3.743642, iou_loss = 5.847083, total_loss = 9.590725 \n",
            "v3 (mse loss, Normalizer: (iou: 0.75, cls: 1.00) Region 106 Avg (IOU: -nan, GIOU: -nan), Class: -nan, Obj: -nan, No Obj: 0.000006, .5R: -nan, .75R: -nan, count: 0, class_loss = 0.000000, iou_loss = 0.000000, total_loss = 0.000000 \n",
            "v3 (mse loss, Normalizer: (iou: 0.75, cls: 1.00) Region 82 Avg (IOU: -nan, GIOU: -nan), Class: -nan, Obj: -nan, No Obj: 0.000031, .5R: -nan, .75R: -nan, count: 0, class_loss = 0.000001, iou_loss = 0.000000, total_loss = 0.000001 \n",
            "v3 (mse loss, Normalizer: (iou: 0.75, cls: 1.00) Region 94 Avg (IOU: 0.535889, GIOU: 0.506097), Class: 0.934592, Obj: 0.467268, No Obj: 0.010113, .5R: 0.590164, .75R: 0.114754, count: 61, class_loss = 8.857306, iou_loss = 11.521915, total_loss = 20.379221 \n",
            "v3 (mse loss, Normalizer: (iou: 0.75, cls: 1.00) Region 106 Avg (IOU: -nan, GIOU: -nan), Class: -nan, Obj: -nan, No Obj: 0.000006, .5R: -nan, .75R: -nan, count: 0, class_loss = 0.000000, iou_loss = 0.000000, total_loss = 0.000000 \n",
            "v3 (mse loss, Normalizer: (iou: 0.75, cls: 1.00) Region 82 Avg (IOU: -nan, GIOU: -nan), Class: -nan, Obj: -nan, No Obj: 0.000031, .5R: -nan, .75R: -nan, count: 0, class_loss = 0.000001, iou_loss = 0.000000, total_loss = 0.000001 \n",
            "v3 (mse loss, Normalizer: (iou: 0.75, cls: 1.00) Region 94 Avg (IOU: 0.562833, GIOU: 0.548482), Class: 0.985122, Obj: 0.434011, No Obj: 0.003187, .5R: 0.600000, .75R: 0.133333, count: 15, class_loss = 2.439072, iou_loss = 2.499306, total_loss = 4.938378 \n",
            "v3 (mse loss, Normalizer: (iou: 0.75, cls: 1.00) Region 106 Avg (IOU: -nan, GIOU: -nan), Class: -nan, Obj: -nan, No Obj: 0.000007, .5R: -nan, .75R: -nan, count: 0, class_loss = 0.000001, iou_loss = 0.000000, total_loss = 0.000001 \n",
            "v3 (mse loss, Normalizer: (iou: 0.75, cls: 1.00) Region 82 Avg (IOU: -nan, GIOU: -nan), Class: -nan, Obj: -nan, No Obj: 0.000030, .5R: -nan, .75R: -nan, count: 0, class_loss = 0.000001, iou_loss = 0.000000, total_loss = 0.000001 \n",
            "v3 (mse loss, Normalizer: (iou: 0.75, cls: 1.00) Region 94 Avg (IOU: 0.639647, GIOU: 0.626960), Class: 0.943658, Obj: 0.537159, No Obj: 0.007174, .5R: 0.810811, .75R: 0.243243, count: 37, class_loss = 4.329443, iou_loss = 5.183953, total_loss = 9.513396 \n",
            "v3 (mse loss, Normalizer: (iou: 0.75, cls: 1.00) Region 106 Avg (IOU: -nan, GIOU: -nan), Class: -nan, Obj: -nan, No Obj: 0.000006, .5R: -nan, .75R: -nan, count: 0, class_loss = 0.000000, iou_loss = 0.000000, total_loss = 0.000000 \n",
            "v3 (mse loss, Normalizer: (iou: 0.75, cls: 1.00) Region 82 Avg (IOU: -nan, GIOU: -nan), Class: -nan, Obj: -nan, No Obj: 0.000030, .5R: -nan, .75R: -nan, count: 0, class_loss = 0.000000, iou_loss = 0.000000, total_loss = 0.000000 \n",
            "v3 (mse loss, Normalizer: (iou: 0.75, cls: 1.00) Region 94 Avg (IOU: 0.617275, GIOU: 0.593033), Class: 0.905254, Obj: 0.367495, No Obj: 0.004838, .5R: 0.833333, .75R: 0.125000, count: 24, class_loss = 5.064603, iou_loss = 3.747964, total_loss = 8.812567 \n",
            "v3 (mse loss, Normalizer: (iou: 0.75, cls: 1.00) Region 106 Avg (IOU: -nan, GIOU: -nan), Class: -nan, Obj: -nan, No Obj: 0.000006, .5R: -nan, .75R: -nan, count: 0, class_loss = 0.000000, iou_loss = 0.000000, total_loss = 0.000000 \n",
            "v3 (mse loss, Normalizer: (iou: 0.75, cls: 1.00) Region 82 Avg (IOU: -nan, GIOU: -nan), Class: -nan, Obj: -nan, No Obj: 0.000032, .5R: -nan, .75R: -nan, count: 0, class_loss = 0.000001, iou_loss = 0.000000, total_loss = 0.000001 \n",
            "v3 (mse loss, Normalizer: (iou: 0.75, cls: 1.00) Region 94 Avg (IOU: 0.656963, GIOU: 0.644525), Class: 0.992020, Obj: 0.608205, No Obj: 0.003025, .5R: 0.714286, .75R: 0.428571, count: 7, class_loss = 1.433126, iou_loss = 0.946890, total_loss = 2.380016 \n",
            "v3 (mse loss, Normalizer: (iou: 0.75, cls: 1.00) Region 106 Avg (IOU: -nan, GIOU: -nan), Class: -nan, Obj: -nan, No Obj: 0.000006, .5R: -nan, .75R: -nan, count: 0, class_loss = 0.000000, iou_loss = 0.000000, total_loss = 0.000000 \n",
            "v3 (mse loss, Normalizer: (iou: 0.75, cls: 1.00) Region 82 Avg (IOU: -nan, GIOU: -nan), Class: -nan, Obj: -nan, No Obj: 0.000031, .5R: -nan, .75R: -nan, count: 0, class_loss = 0.000001, iou_loss = 0.000000, total_loss = 0.000001 \n",
            "v3 (mse loss, Normalizer: (iou: 0.75, cls: 1.00) Region 94 Avg (IOU: 0.478280, GIOU: 0.425743), Class: 0.902777, Obj: 0.480008, No Obj: 0.009299, .5R: 0.508475, .75R: 0.101695, count: 59, class_loss = 9.193763, iou_loss = 13.967853, total_loss = 23.161615 \n",
            "v3 (mse loss, Normalizer: (iou: 0.75, cls: 1.00) Region 106 Avg (IOU: -nan, GIOU: -nan), Class: -nan, Obj: -nan, No Obj: 0.000006, .5R: -nan, .75R: -nan, count: 0, class_loss = 0.000000, iou_loss = 0.000000, total_loss = 0.000000 \n",
            "v3 (mse loss, Normalizer: (iou: 0.75, cls: 1.00) Region 82 Avg (IOU: -nan, GIOU: -nan), Class: -nan, Obj: -nan, No Obj: 0.000031, .5R: -nan, .75R: -nan, count: 0, class_loss = 0.000001, iou_loss = 0.000000, total_loss = 0.000001 \n",
            "v3 (mse loss, Normalizer: (iou: 0.75, cls: 1.00) Region 94 Avg (IOU: 0.619820, GIOU: 0.579386), Class: 0.957227, Obj: 0.578770, No Obj: 0.004080, .5R: 0.809524, .75R: 0.380952, count: 21, class_loss = 2.293919, iou_loss = 3.889339, total_loss = 6.183259 \n",
            "v3 (mse loss, Normalizer: (iou: 0.75, cls: 1.00) Region 106 Avg (IOU: -nan, GIOU: -nan), Class: -nan, Obj: -nan, No Obj: 0.000006, .5R: -nan, .75R: -nan, count: 0, class_loss = 0.000000, iou_loss = 0.000000, total_loss = 0.000000 \n",
            "v3 (mse loss, Normalizer: (iou: 0.75, cls: 1.00) Region 82 Avg (IOU: -nan, GIOU: -nan), Class: -nan, Obj: -nan, No Obj: 0.000030, .5R: -nan, .75R: -nan, count: 0, class_loss = 0.000000, iou_loss = 0.000000, total_loss = 0.000000 \n",
            "v3 (mse loss, Normalizer: (iou: 0.75, cls: 1.00) Region 94 Avg (IOU: 0.590319, GIOU: 0.557805), Class: 0.945589, Obj: 0.708701, No Obj: 0.007226, .5R: 0.757576, .75R: 0.151515, count: 33, class_loss = 3.529495, iou_loss = 4.338634, total_loss = 7.868130 \n",
            "v3 (mse loss, Normalizer: (iou: 0.75, cls: 1.00) Region 106 Avg (IOU: -nan, GIOU: -nan), Class: -nan, Obj: -nan, No Obj: 0.000006, .5R: -nan, .75R: -nan, count: 0, class_loss = 0.000000, iou_loss = 0.000000, total_loss = 0.000000 \n",
            "v3 (mse loss, Normalizer: (iou: 0.75, cls: 1.00) Region 82 Avg (IOU: -nan, GIOU: -nan), Class: -nan, Obj: -nan, No Obj: 0.000031, .5R: -nan, .75R: -nan, count: 0, class_loss = 0.000001, iou_loss = 0.000000, total_loss = 0.000001 \n",
            "v3 (mse loss, Normalizer: (iou: 0.75, cls: 1.00) Region 94 Avg (IOU: 0.629915, GIOU: 0.610564), Class: 0.961732, Obj: 0.612247, No Obj: 0.006478, .5R: 0.812500, .75R: 0.281250, count: 32, class_loss = 3.003634, iou_loss = 4.151844, total_loss = 7.155478 \n",
            "v3 (mse loss, Normalizer: (iou: 0.75, cls: 1.00) Region 106 Avg (IOU: -nan, GIOU: -nan), Class: -nan, Obj: -nan, No Obj: 0.000006, .5R: -nan, .75R: -nan, count: 0, class_loss = 0.000000, iou_loss = 0.000000, total_loss = 0.000000 \n",
            "v3 (mse loss, Normalizer: (iou: 0.75, cls: 1.00) Region 82 Avg (IOU: -nan, GIOU: -nan), Class: -nan, Obj: -nan, No Obj: 0.000032, .5R: -nan, .75R: -nan, count: 0, class_loss = 0.000001, iou_loss = 0.000000, total_loss = 0.000001 \n",
            "v3 (mse loss, Normalizer: (iou: 0.75, cls: 1.00) Region 94 Avg (IOU: 0.484870, GIOU: 0.422025), Class: 0.906759, Obj: 0.580379, No Obj: 0.006152, .5R: 0.512821, .75R: 0.102564, count: 39, class_loss = 4.070664, iou_loss = 5.783749, total_loss = 9.854413 \n",
            "v3 (mse loss, Normalizer: (iou: 0.75, cls: 1.00) Region 106 Avg (IOU: -nan, GIOU: -nan), Class: -nan, Obj: -nan, No Obj: 0.000006, .5R: -nan, .75R: -nan, count: 0, class_loss = 0.000000, iou_loss = 0.000000, total_loss = 0.000000 \n",
            "v3 (mse loss, Normalizer: (iou: 0.75, cls: 1.00) Region 82 Avg (IOU: -nan, GIOU: -nan), Class: -nan, Obj: -nan, No Obj: 0.000031, .5R: -nan, .75R: -nan, count: 0, class_loss = 0.000001, iou_loss = 0.000000, total_loss = 0.000001 \n",
            "v3 (mse loss, Normalizer: (iou: 0.75, cls: 1.00) Region 94 Avg (IOU: 0.574150, GIOU: 0.532894), Class: 0.911248, Obj: 0.534620, No Obj: 0.008721, .5R: 0.642857, .75R: 0.142857, count: 42, class_loss = 6.746044, iou_loss = 7.502580, total_loss = 14.248624 \n",
            "v3 (mse loss, Normalizer: (iou: 0.75, cls: 1.00) Region 106 Avg (IOU: -nan, GIOU: -nan), Class: -nan, Obj: -nan, No Obj: 0.000006, .5R: -nan, .75R: -nan, count: 0, class_loss = 0.000000, iou_loss = 0.000000, total_loss = 0.000000 \n",
            "v3 (mse loss, Normalizer: (iou: 0.75, cls: 1.00) Region 82 Avg (IOU: -nan, GIOU: -nan), Class: -nan, Obj: -nan, No Obj: 0.000031, .5R: -nan, .75R: -nan, count: 0, class_loss = 0.000001, iou_loss = 0.000000, total_loss = 0.000001 \n",
            "v3 (mse loss, Normalizer: (iou: 0.75, cls: 1.00) Region 94 Avg (IOU: 0.625147, GIOU: 0.606750), Class: 0.978676, Obj: 0.591868, No Obj: 0.002513, .5R: 0.875000, .75R: 0.125000, count: 8, class_loss = 1.125210, iou_loss = 0.844755, total_loss = 1.969965 \n",
            "v3 (mse loss, Normalizer: (iou: 0.75, cls: 1.00) Region 106 Avg (IOU: -nan, GIOU: -nan), Class: -nan, Obj: -nan, No Obj: 0.000007, .5R: -nan, .75R: -nan, count: 0, class_loss = 0.000001, iou_loss = 0.000000, total_loss = 0.000001 \n",
            "\n",
            " 905: 3.421571, 3.385929 avg loss, 0.000671 rate, 8.259571 seconds, 57920 images\n",
            "Loaded: 0.000057 seconds\n",
            "v3 (mse loss, Normalizer: (iou: 0.75, cls: 1.00) Region 82 Avg (IOU: -nan, GIOU: -nan), Class: -nan, Obj: -nan, No Obj: 0.000031, .5R: -nan, .75R: -nan, count: 0, class_loss = 0.000001, iou_loss = 0.000000, total_loss = 0.000001 \n",
            "v3 (mse loss, Normalizer: (iou: 0.75, cls: 1.00) Region 94 Avg (IOU: 0.703294, GIOU: 0.696524), Class: 0.990519, Obj: 0.742460, No Obj: 0.003564, .5R: 0.937500, .75R: 0.437500, count: 16, class_loss = 0.893016, iou_loss = 0.981396, total_loss = 1.874412 \n",
            "v3 (mse loss, Normalizer: (iou: 0.75, cls: 1.00) Region 106 Avg (IOU: -nan, GIOU: -nan), Class: -nan, Obj: -nan, No Obj: 0.000006, .5R: -nan, .75R: -nan, count: 0, class_loss = 0.000000, iou_loss = 0.000000, total_loss = 0.000000 \n",
            "v3 (mse loss, Normalizer: (iou: 0.75, cls: 1.00) Region 82 Avg (IOU: -nan, GIOU: -nan), Class: -nan, Obj: -nan, No Obj: 0.000031, .5R: -nan, .75R: -nan, count: 0, class_loss = 0.000001, iou_loss = 0.000000, total_loss = 0.000001 \n",
            "v3 (mse loss, Normalizer: (iou: 0.75, cls: 1.00) Region 94 Avg (IOU: 0.521785, GIOU: 0.506297), Class: 0.934282, Obj: 0.567392, No Obj: 0.003436, .5R: 0.611111, .75R: 0.055556, count: 18, class_loss = 2.042341, iou_loss = 2.838476, total_loss = 4.880818 \n",
            "v3 (mse loss, Normalizer: (iou: 0.75, cls: 1.00) Region 106 Avg (IOU: -nan, GIOU: -nan), Class: -nan, Obj: -nan, No Obj: 0.000006, .5R: -nan, .75R: -nan, count: 0, class_loss = 0.000000, iou_loss = 0.000000, total_loss = 0.000000 \n",
            "v3 (mse loss, Normalizer: (iou: 0.75, cls: 1.00) Region 82 Avg (IOU: -nan, GIOU: -nan), Class: -nan, Obj: -nan, No Obj: 0.000031, .5R: -nan, .75R: -nan, count: 0, class_loss = 0.000001, iou_loss = 0.000000, total_loss = 0.000001 \n",
            "v3 (mse loss, Normalizer: (iou: 0.75, cls: 1.00) Region 94 Avg (IOU: 0.549776, GIOU: 0.542988), Class: 0.935047, Obj: 0.565853, No Obj: 0.008016, .5R: 0.558824, .75R: 0.176471, count: 34, class_loss = 5.275679, iou_loss = 6.863939, total_loss = 12.139618 \n",
            "v3 (mse loss, Normalizer: (iou: 0.75, cls: 1.00) Region 106 Avg (IOU: -nan, GIOU: -nan), Class: -nan, Obj: -nan, No Obj: 0.000006, .5R: -nan, .75R: -nan, count: 0, class_loss = 0.000001, iou_loss = 0.000000, total_loss = 0.000001 \n",
            "v3 (mse loss, Normalizer: (iou: 0.75, cls: 1.00) Region 82 Avg (IOU: -nan, GIOU: -nan), Class: -nan, Obj: -nan, No Obj: 0.000031, .5R: -nan, .75R: -nan, count: 0, class_loss = 0.000001, iou_loss = 0.000000, total_loss = 0.000001 \n",
            "v3 (mse loss, Normalizer: (iou: 0.75, cls: 1.00) Region 94 Avg (IOU: 0.569803, GIOU: 0.548251), Class: 0.979634, Obj: 0.567260, No Obj: 0.010700, .5R: 0.618182, .75R: 0.181818, count: 55, class_loss = 6.253361, iou_loss = 9.229351, total_loss = 15.482712 \n",
            "v3 (mse loss, Normalizer: (iou: 0.75, cls: 1.00) Region 106 Avg (IOU: -nan, GIOU: -nan), Class: -nan, Obj: -nan, No Obj: 0.000006, .5R: -nan, .75R: -nan, count: 0, class_loss = 0.000000, iou_loss = 0.000000, total_loss = 0.000000 \n",
            "v3 (mse loss, Normalizer: (iou: 0.75, cls: 1.00) Region 82 Avg (IOU: -nan, GIOU: -nan), Class: -nan, Obj: -nan, No Obj: 0.000030, .5R: -nan, .75R: -nan, count: 0, class_loss = 0.000001, iou_loss = 0.000000, total_loss = 0.000001 \n",
            "v3 (mse loss, Normalizer: (iou: 0.75, cls: 1.00) Region 94 Avg (IOU: 0.594479, GIOU: 0.568006), Class: 0.898719, Obj: 0.393325, No Obj: 0.005848, .5R: 0.675000, .75R: 0.275000, count: 40, class_loss = 6.549413, iou_loss = 7.425781, total_loss = 13.975194 \n",
            "v3 (mse loss, Normalizer: (iou: 0.75, cls: 1.00) Region 106 Avg (IOU: -nan, GIOU: -nan), Class: -nan, Obj: -nan, No Obj: 0.000006, .5R: -nan, .75R: -nan, count: 0, class_loss = 0.000000, iou_loss = 0.000000, total_loss = 0.000000 \n",
            "v3 (mse loss, Normalizer: (iou: 0.75, cls: 1.00) Region 82 Avg (IOU: -nan, GIOU: -nan), Class: -nan, Obj: -nan, No Obj: 0.000031, .5R: -nan, .75R: -nan, count: 0, class_loss = 0.000001, iou_loss = 0.000000, total_loss = 0.000001 \n",
            "v3 (mse loss, Normalizer: (iou: 0.75, cls: 1.00) Region 94 Avg (IOU: 0.630869, GIOU: 0.623254), Class: 0.936121, Obj: 0.468575, No Obj: 0.003488, .5R: 0.941176, .75R: 0.235294, count: 17, class_loss = 2.877035, iou_loss = 1.740203, total_loss = 4.617239 \n",
            "v3 (mse loss, Normalizer: (iou: 0.75, cls: 1.00) Region 106 Avg (IOU: -nan, GIOU: -nan), Class: -nan, Obj: -nan, No Obj: 0.000006, .5R: -nan, .75R: -nan, count: 0, class_loss = 0.000000, iou_loss = 0.000000, total_loss = 0.000000 \n",
            "v3 (mse loss, Normalizer: (iou: 0.75, cls: 1.00) Region 82 Avg (IOU: -nan, GIOU: -nan), Class: -nan, Obj: -nan, No Obj: 0.000032, .5R: -nan, .75R: -nan, count: 0, class_loss = 0.000001, iou_loss = 0.000000, total_loss = 0.000001 \n",
            "v3 (mse loss, Normalizer: (iou: 0.75, cls: 1.00) Region 94 Avg (IOU: 0.478690, GIOU: 0.434279), Class: 0.990447, Obj: 0.527674, No Obj: 0.001661, .5R: 0.500000, .75R: 0.250000, count: 8, class_loss = 0.896757, iou_loss = 2.113560, total_loss = 3.010317 \n",
            "v3 (mse loss, Normalizer: (iou: 0.75, cls: 1.00) Region 106 Avg (IOU: -nan, GIOU: -nan), Class: -nan, Obj: -nan, No Obj: 0.000006, .5R: -nan, .75R: -nan, count: 0, class_loss = 0.000001, iou_loss = 0.000000, total_loss = 0.000001 \n",
            "v3 (mse loss, Normalizer: (iou: 0.75, cls: 1.00) Region 82 Avg (IOU: -nan, GIOU: -nan), Class: -nan, Obj: -nan, No Obj: 0.000031, .5R: -nan, .75R: -nan, count: 0, class_loss = 0.000001, iou_loss = 0.000000, total_loss = 0.000001 \n",
            "v3 (mse loss, Normalizer: (iou: 0.75, cls: 1.00) Region 94 Avg (IOU: 0.567899, GIOU: 0.549065), Class: 0.968251, Obj: 0.474063, No Obj: 0.008331, .5R: 0.684211, .75R: 0.122807, count: 57, class_loss = 6.944023, iou_loss = 8.667913, total_loss = 15.611937 \n",
            "v3 (mse loss, Normalizer: (iou: 0.75, cls: 1.00) Region 106 Avg (IOU: -nan, GIOU: -nan), Class: -nan, Obj: -nan, No Obj: 0.000006, .5R: -nan, .75R: -nan, count: 0, class_loss = 0.000000, iou_loss = 0.000000, total_loss = 0.000000 \n",
            "v3 (mse loss, Normalizer: (iou: 0.75, cls: 1.00) Region 82 Avg (IOU: -nan, GIOU: -nan), Class: -nan, Obj: -nan, No Obj: 0.000030, .5R: -nan, .75R: -nan, count: 0, class_loss = 0.000001, iou_loss = 0.000000, total_loss = 0.000001 \n",
            "v3 (mse loss, Normalizer: (iou: 0.75, cls: 1.00) Region 94 Avg (IOU: 0.454645, GIOU: 0.383549), Class: 0.901185, Obj: 0.613547, No Obj: 0.010960, .5R: 0.462687, .75R: 0.059701, count: 67, class_loss = 8.189122, iou_loss = 13.236741, total_loss = 21.425863 \n",
            "v3 (mse loss, Normalizer: (iou: 0.75, cls: 1.00) Region 106 Avg (IOU: -nan, GIOU: -nan), Class: -nan, Obj: -nan, No Obj: 0.000006, .5R: -nan, .75R: -nan, count: 0, class_loss = 0.000000, iou_loss = 0.000000, total_loss = 0.000000 \n",
            "v3 (mse loss, Normalizer: (iou: 0.75, cls: 1.00) Region 82 Avg (IOU: -nan, GIOU: -nan), Class: -nan, Obj: -nan, No Obj: 0.000030, .5R: -nan, .75R: -nan, count: 0, class_loss = 0.000001, iou_loss = 0.000000, total_loss = 0.000001 \n",
            "v3 (mse loss, Normalizer: (iou: 0.75, cls: 1.00) Region 94 Avg (IOU: 0.526936, GIOU: 0.489134), Class: 0.956518, Obj: 0.592277, No Obj: 0.013773, .5R: 0.645570, .75R: 0.126582, count: 79, class_loss = 7.778036, iou_loss = 11.551659, total_loss = 19.329695 \n",
            "v3 (mse loss, Normalizer: (iou: 0.75, cls: 1.00) Region 106 Avg (IOU: -nan, GIOU: -nan), Class: -nan, Obj: -nan, No Obj: 0.000006, .5R: -nan, .75R: -nan, count: 0, class_loss = 0.000000, iou_loss = 0.000000, total_loss = 0.000000 \n",
            "v3 (mse loss, Normalizer: (iou: 0.75, cls: 1.00) Region 82 Avg (IOU: -nan, GIOU: -nan), Class: -nan, Obj: -nan, No Obj: 0.000031, .5R: -nan, .75R: -nan, count: 0, class_loss = 0.000001, iou_loss = 0.000000, total_loss = 0.000001 \n",
            "v3 (mse loss, Normalizer: (iou: 0.75, cls: 1.00) Region 94 Avg (IOU: 0.484836, GIOU: 0.428420), Class: 0.897310, Obj: 0.546391, No Obj: 0.009825, .5R: 0.536232, .75R: 0.144928, count: 69, class_loss = 7.242366, iou_loss = 13.748484, total_loss = 20.990850 \n",
            "v3 (mse loss, Normalizer: (iou: 0.75, cls: 1.00) Region 106 Avg (IOU: -nan, GIOU: -nan), Class: -nan, Obj: -nan, No Obj: 0.000006, .5R: -nan, .75R: -nan, count: 0, class_loss = 0.000000, iou_loss = 0.000000, total_loss = 0.000000 \n",
            "v3 (mse loss, Normalizer: (iou: 0.75, cls: 1.00) Region 82 Avg (IOU: -nan, GIOU: -nan), Class: -nan, Obj: -nan, No Obj: 0.000031, .5R: -nan, .75R: -nan, count: 0, class_loss = 0.000001, iou_loss = 0.000000, total_loss = 0.000001 \n",
            "v3 (mse loss, Normalizer: (iou: 0.75, cls: 1.00) Region 94 Avg (IOU: 0.571430, GIOU: 0.559183), Class: 0.960308, Obj: 0.562955, No Obj: 0.005612, .5R: 0.678571, .75R: 0.250000, count: 28, class_loss = 3.326776, iou_loss = 5.427763, total_loss = 8.754539 \n",
            "v3 (mse loss, Normalizer: (iou: 0.75, cls: 1.00) Region 106 Avg (IOU: -nan, GIOU: -nan), Class: -nan, Obj: -nan, No Obj: 0.000006, .5R: -nan, .75R: -nan, count: 0, class_loss = 0.000000, iou_loss = 0.000000, total_loss = 0.000000 \n",
            "v3 (mse loss, Normalizer: (iou: 0.75, cls: 1.00) Region 82 Avg (IOU: -nan, GIOU: -nan), Class: -nan, Obj: -nan, No Obj: 0.000032, .5R: -nan, .75R: -nan, count: 0, class_loss = 0.000001, iou_loss = 0.000000, total_loss = 0.000001 \n",
            "v3 (mse loss, Normalizer: (iou: 0.75, cls: 1.00) Region 94 Avg (IOU: 0.493351, GIOU: 0.467360), Class: 0.993334, Obj: 0.413473, No Obj: 0.002704, .5R: 0.444444, .75R: 0.055556, count: 18, class_loss = 2.133533, iou_loss = 3.701527, total_loss = 5.835060 \n",
            "v3 (mse loss, Normalizer: (iou: 0.75, cls: 1.00) Region 106 Avg (IOU: -nan, GIOU: -nan), Class: -nan, Obj: -nan, No Obj: 0.000006, .5R: -nan, .75R: -nan, count: 0, class_loss = 0.000000, iou_loss = 0.000000, total_loss = 0.000000 \n",
            "v3 (mse loss, Normalizer: (iou: 0.75, cls: 1.00) Region 82 Avg (IOU: -nan, GIOU: -nan), Class: -nan, Obj: -nan, No Obj: 0.000031, .5R: -nan, .75R: -nan, count: 0, class_loss = 0.000001, iou_loss = 0.000000, total_loss = 0.000001 \n",
            "v3 (mse loss, Normalizer: (iou: 0.75, cls: 1.00) Region 94 Avg (IOU: 0.566681, GIOU: 0.554784), Class: 0.821022, Obj: 0.498798, No Obj: 0.002508, .5R: 0.692308, .75R: 0.230769, count: 13, class_loss = 2.602402, iou_loss = 2.700397, total_loss = 5.302800 \n",
            "v3 (mse loss, Normalizer: (iou: 0.75, cls: 1.00) Region 106 Avg (IOU: -nan, GIOU: -nan), Class: -nan, Obj: -nan, No Obj: 0.000006, .5R: -nan, .75R: -nan, count: 0, class_loss = 0.000000, iou_loss = 0.000000, total_loss = 0.000000 \n",
            "v3 (mse loss, Normalizer: (iou: 0.75, cls: 1.00) Region 82 Avg (IOU: -nan, GIOU: -nan), Class: -nan, Obj: -nan, No Obj: 0.000031, .5R: -nan, .75R: -nan, count: 0, class_loss = 0.000001, iou_loss = 0.000000, total_loss = 0.000001 \n",
            "v3 (mse loss, Normalizer: (iou: 0.75, cls: 1.00) Region 94 Avg (IOU: 0.558170, GIOU: 0.536846), Class: 0.962247, Obj: 0.602553, No Obj: 0.009518, .5R: 0.659574, .75R: 0.170213, count: 47, class_loss = 5.679794, iou_loss = 11.431957, total_loss = 17.111752 \n",
            "v3 (mse loss, Normalizer: (iou: 0.75, cls: 1.00) Region 106 Avg (IOU: -nan, GIOU: -nan), Class: -nan, Obj: -nan, No Obj: 0.000007, .5R: -nan, .75R: -nan, count: 0, class_loss = 0.000001, iou_loss = 0.000000, total_loss = 0.000001 \n",
            "v3 (mse loss, Normalizer: (iou: 0.75, cls: 1.00) Region 82 Avg (IOU: -nan, GIOU: -nan), Class: -nan, Obj: -nan, No Obj: 0.000031, .5R: -nan, .75R: -nan, count: 0, class_loss = 0.000001, iou_loss = 0.000000, total_loss = 0.000001 \n",
            "v3 (mse loss, Normalizer: (iou: 0.75, cls: 1.00) Region 94 Avg (IOU: 0.561938, GIOU: 0.529984), Class: 0.931159, Obj: 0.493394, No Obj: 0.014034, .5R: 0.676471, .75R: 0.117647, count: 102, class_loss = 11.943727, iou_loss = 18.710255, total_loss = 30.653982 \n",
            "v3 (mse loss, Normalizer: (iou: 0.75, cls: 1.00) Region 106 Avg (IOU: -nan, GIOU: -nan), Class: -nan, Obj: -nan, No Obj: 0.000006, .5R: -nan, .75R: -nan, count: 0, class_loss = 0.000001, iou_loss = 0.000000, total_loss = 0.000001 \n",
            "\n",
            " 906: 4.187433, 3.466080 avg loss, 0.000674 rate, 8.256092 seconds, 57984 images\n",
            "Loaded: 0.000056 seconds\n",
            "v3 (mse loss, Normalizer: (iou: 0.75, cls: 1.00) Region 82 Avg (IOU: -nan, GIOU: -nan), Class: -nan, Obj: -nan, No Obj: 0.000032, .5R: -nan, .75R: -nan, count: 0, class_loss = 0.000001, iou_loss = 0.000000, total_loss = 0.000001 \n",
            "v3 (mse loss, Normalizer: (iou: 0.75, cls: 1.00) Region 94 Avg (IOU: 0.575922, GIOU: 0.541890), Class: 0.934718, Obj: 0.563393, No Obj: 0.006015, .5R: 0.647059, .75R: 0.294118, count: 34, class_loss = 4.020411, iou_loss = 4.313593, total_loss = 8.334004 \n",
            "v3 (mse loss, Normalizer: (iou: 0.75, cls: 1.00) Region 106 Avg (IOU: -nan, GIOU: -nan), Class: -nan, Obj: -nan, No Obj: 0.000006, .5R: -nan, .75R: -nan, count: 0, class_loss = 0.000000, iou_loss = 0.000000, total_loss = 0.000000 \n",
            "v3 (mse loss, Normalizer: (iou: 0.75, cls: 1.00) Region 82 Avg (IOU: -nan, GIOU: -nan), Class: -nan, Obj: -nan, No Obj: 0.000031, .5R: -nan, .75R: -nan, count: 0, class_loss = 0.000001, iou_loss = 0.000000, total_loss = 0.000001 \n",
            "v3 (mse loss, Normalizer: (iou: 0.75, cls: 1.00) Region 94 Avg (IOU: 0.684643, GIOU: 0.674106), Class: 0.983782, Obj: 0.736250, No Obj: 0.004235, .5R: 0.863636, .75R: 0.409091, count: 22, class_loss = 1.226225, iou_loss = 1.838531, total_loss = 3.064756 \n",
            "v3 (mse loss, Normalizer: (iou: 0.75, cls: 1.00) Region 106 Avg (IOU: -nan, GIOU: -nan), Class: -nan, Obj: -nan, No Obj: 0.000006, .5R: -nan, .75R: -nan, count: 0, class_loss = 0.000000, iou_loss = 0.000000, total_loss = 0.000000 \n",
            "v3 (mse loss, Normalizer: (iou: 0.75, cls: 1.00) Region 82 Avg (IOU: -nan, GIOU: -nan), Class: -nan, Obj: -nan, No Obj: 0.000031, .5R: -nan, .75R: -nan, count: 0, class_loss = 0.000001, iou_loss = 0.000000, total_loss = 0.000001 \n",
            "v3 (mse loss, Normalizer: (iou: 0.75, cls: 1.00) Region 94 Avg (IOU: 0.607600, GIOU: 0.589468), Class: 0.864179, Obj: 0.541796, No Obj: 0.003369, .5R: 0.857143, .75R: 0.190476, count: 21, class_loss = 2.710757, iou_loss = 5.260672, total_loss = 7.971429 \n",
            "v3 (mse loss, Normalizer: (iou: 0.75, cls: 1.00) Region 106 Avg (IOU: -nan, GIOU: -nan), Class: -nan, Obj: -nan, No Obj: 0.000006, .5R: -nan, .75R: -nan, count: 0, class_loss = 0.000000, iou_loss = 0.000000, total_loss = 0.000000 \n",
            "v3 (mse loss, Normalizer: (iou: 0.75, cls: 1.00) Region 82 Avg (IOU: -nan, GIOU: -nan), Class: -nan, Obj: -nan, No Obj: 0.000031, .5R: -nan, .75R: -nan, count: 0, class_loss = 0.000001, iou_loss = 0.000000, total_loss = 0.000001 \n",
            "v3 (mse loss, Normalizer: (iou: 0.75, cls: 1.00) Region 94 Avg (IOU: 0.585000, GIOU: 0.581785), Class: 0.988469, Obj: 0.488119, No Obj: 0.001491, .5R: 0.666667, .75R: 0.166667, count: 6, class_loss = 0.931102, iou_loss = 0.913950, total_loss = 1.845052 \n",
            "v3 (mse loss, Normalizer: (iou: 0.75, cls: 1.00) Region 106 Avg (IOU: -nan, GIOU: -nan), Class: -nan, Obj: -nan, No Obj: 0.000006, .5R: -nan, .75R: -nan, count: 0, class_loss = 0.000000, iou_loss = 0.000000, total_loss = 0.000000 \n",
            "v3 (mse loss, Normalizer: (iou: 0.75, cls: 1.00) Region 82 Avg (IOU: -nan, GIOU: -nan), Class: -nan, Obj: -nan, No Obj: 0.000032, .5R: -nan, .75R: -nan, count: 0, class_loss = 0.000001, iou_loss = 0.000000, total_loss = 0.000001 \n",
            "v3 (mse loss, Normalizer: (iou: 0.75, cls: 1.00) Region 94 Avg (IOU: 0.513306, GIOU: 0.470408), Class: 0.892825, Obj: 0.568257, No Obj: 0.005747, .5R: 0.589744, .75R: 0.128205, count: 39, class_loss = 3.857060, iou_loss = 4.413339, total_loss = 8.270399 \n",
            "v3 (mse loss, Normalizer: (iou: 0.75, cls: 1.00) Region 106 Avg (IOU: -nan, GIOU: -nan), Class: -nan, Obj: -nan, No Obj: 0.000006, .5R: -nan, .75R: -nan, count: 0, class_loss = 0.000000, iou_loss = 0.000000, total_loss = 0.000000 \n",
            "v3 (mse loss, Normalizer: (iou: 0.75, cls: 1.00) Region 82 Avg (IOU: -nan, GIOU: -nan), Class: -nan, Obj: -nan, No Obj: 0.000031, .5R: -nan, .75R: -nan, count: 0, class_loss = 0.000001, iou_loss = 0.000000, total_loss = 0.000001 \n",
            "v3 (mse loss, Normalizer: (iou: 0.75, cls: 1.00) Region 94 Avg (IOU: 0.597632, GIOU: 0.569653), Class: 0.929736, Obj: 0.546570, No Obj: 0.009412, .5R: 0.762712, .75R: 0.237288, count: 59, class_loss = 6.954400, iou_loss = 8.017441, total_loss = 14.971840 \n",
            "v3 (mse loss, Normalizer: (iou: 0.75, cls: 1.00) Region 106 Avg (IOU: -nan, GIOU: -nan), Class: -nan, Obj: -nan, No Obj: 0.000007, .5R: -nan, .75R: -nan, count: 0, class_loss = 0.000001, iou_loss = 0.000000, total_loss = 0.000001 \n",
            "v3 (mse loss, Normalizer: (iou: 0.75, cls: 1.00) Region 82 Avg (IOU: -nan, GIOU: -nan), Class: -nan, Obj: -nan, No Obj: 0.000031, .5R: -nan, .75R: -nan, count: 0, class_loss = 0.000001, iou_loss = 0.000000, total_loss = 0.000001 \n",
            "v3 (mse loss, Normalizer: (iou: 0.75, cls: 1.00) Region 94 Avg (IOU: 0.697583, GIOU: 0.678320), Class: 0.940247, Obj: 0.618282, No Obj: 0.004642, .5R: 0.962963, .75R: 0.333333, count: 27, class_loss = 2.412176, iou_loss = 2.531769, total_loss = 4.943945 \n",
            "v3 (mse loss, Normalizer: (iou: 0.75, cls: 1.00) Region 106 Avg (IOU: -nan, GIOU: -nan), Class: -nan, Obj: -nan, No Obj: 0.000006, .5R: -nan, .75R: -nan, count: 0, class_loss = 0.000000, iou_loss = 0.000000, total_loss = 0.000000 \n",
            "v3 (mse loss, Normalizer: (iou: 0.75, cls: 1.00) Region 82 Avg (IOU: -nan, GIOU: -nan), Class: -nan, Obj: -nan, No Obj: 0.000031, .5R: -nan, .75R: -nan, count: 0, class_loss = 0.000001, iou_loss = 0.000000, total_loss = 0.000001 \n",
            "v3 (mse loss, Normalizer: (iou: 0.75, cls: 1.00) Region 94 Avg (IOU: 0.660604, GIOU: 0.652235), Class: 0.993994, Obj: 0.544478, No Obj: 0.002804, .5R: 0.866667, .75R: 0.266667, count: 15, class_loss = 1.257059, iou_loss = 1.860623, total_loss = 3.117682 \n",
            "v3 (mse loss, Normalizer: (iou: 0.75, cls: 1.00) Region 106 Avg (IOU: -nan, GIOU: -nan), Class: -nan, Obj: -nan, No Obj: 0.000006, .5R: -nan, .75R: -nan, count: 0, class_loss = 0.000000, iou_loss = 0.000000, total_loss = 0.000000 \n",
            "v3 (mse loss, Normalizer: (iou: 0.75, cls: 1.00) Region 82 Avg (IOU: -nan, GIOU: -nan), Class: -nan, Obj: -nan, No Obj: 0.000031, .5R: -nan, .75R: -nan, count: 0, class_loss = 0.000001, iou_loss = 0.000000, total_loss = 0.000001 \n",
            "v3 (mse loss, Normalizer: (iou: 0.75, cls: 1.00) Region 94 Avg (IOU: 0.611227, GIOU: 0.603087), Class: 0.965838, Obj: 0.517819, No Obj: 0.002012, .5R: 0.666667, .75R: 0.444444, count: 9, class_loss = 0.993336, iou_loss = 1.225257, total_loss = 2.218593 \n",
            "v3 (mse loss, Normalizer: (iou: 0.75, cls: 1.00) Region 106 Avg (IOU: -nan, GIOU: -nan), Class: -nan, Obj: -nan, No Obj: 0.000006, .5R: -nan, .75R: -nan, count: 0, class_loss = 0.000000, iou_loss = 0.000000, total_loss = 0.000000 \n",
            "v3 (mse loss, Normalizer: (iou: 0.75, cls: 1.00) Region 82 Avg (IOU: -nan, GIOU: -nan), Class: -nan, Obj: -nan, No Obj: 0.000031, .5R: -nan, .75R: -nan, count: 0, class_loss = 0.000001, iou_loss = 0.000000, total_loss = 0.000001 \n",
            "v3 (mse loss, Normalizer: (iou: 0.75, cls: 1.00) Region 94 Avg (IOU: 0.660055, GIOU: 0.642600), Class: 0.977393, Obj: 0.524274, No Obj: 0.002564, .5R: 0.846154, .75R: 0.307692, count: 13, class_loss = 1.408242, iou_loss = 1.846869, total_loss = 3.255111 \n",
            "v3 (mse loss, Normalizer: (iou: 0.75, cls: 1.00) Region 106 Avg (IOU: -nan, GIOU: -nan), Class: -nan, Obj: -nan, No Obj: 0.000006, .5R: -nan, .75R: -nan, count: 0, class_loss = 0.000000, iou_loss = 0.000000, total_loss = 0.000000 \n",
            "v3 (mse loss, Normalizer: (iou: 0.75, cls: 1.00) Region 82 Avg (IOU: -nan, GIOU: -nan), Class: -nan, Obj: -nan, No Obj: 0.000031, .5R: -nan, .75R: -nan, count: 0, class_loss = 0.000001, iou_loss = 0.000000, total_loss = 0.000001 \n",
            "v3 (mse loss, Normalizer: (iou: 0.75, cls: 1.00) Region 94 Avg (IOU: 0.606408, GIOU: 0.599052), Class: 0.985748, Obj: 0.561343, No Obj: 0.002022, .5R: 0.900000, .75R: 0.200000, count: 10, class_loss = 0.999026, iou_loss = 1.261450, total_loss = 2.260476 \n",
            "v3 (mse loss, Normalizer: (iou: 0.75, cls: 1.00) Region 106 Avg (IOU: -nan, GIOU: -nan), Class: -nan, Obj: -nan, No Obj: 0.000006, .5R: -nan, .75R: -nan, count: 0, class_loss = 0.000000, iou_loss = 0.000000, total_loss = 0.000000 \n",
            "v3 (mse loss, Normalizer: (iou: 0.75, cls: 1.00) Region 82 Avg (IOU: -nan, GIOU: -nan), Class: -nan, Obj: -nan, No Obj: 0.000032, .5R: -nan, .75R: -nan, count: 0, class_loss = 0.000001, iou_loss = 0.000000, total_loss = 0.000001 \n",
            "v3 (mse loss, Normalizer: (iou: 0.75, cls: 1.00) Region 94 Avg (IOU: 0.635195, GIOU: 0.620649), Class: 0.928307, Obj: 0.226047, No Obj: 0.001674, .5R: 0.750000, .75R: 0.125000, count: 8, class_loss = 1.649117, iou_loss = 1.014802, total_loss = 2.663919 \n",
            "v3 (mse loss, Normalizer: (iou: 0.75, cls: 1.00) Region 106 Avg (IOU: -nan, GIOU: -nan), Class: -nan, Obj: -nan, No Obj: 0.000006, .5R: -nan, .75R: -nan, count: 0, class_loss = 0.000000, iou_loss = 0.000000, total_loss = 0.000000 \n",
            "v3 (mse loss, Normalizer: (iou: 0.75, cls: 1.00) Region 82 Avg (IOU: -nan, GIOU: -nan), Class: -nan, Obj: -nan, No Obj: 0.000031, .5R: -nan, .75R: -nan, count: 0, class_loss = 0.000001, iou_loss = 0.000000, total_loss = 0.000001 \n",
            "v3 (mse loss, Normalizer: (iou: 0.75, cls: 1.00) Region 94 Avg (IOU: 0.658978, GIOU: 0.646927), Class: 0.966195, Obj: 0.558536, No Obj: 0.005741, .5R: 0.821429, .75R: 0.357143, count: 28, class_loss = 2.884850, iou_loss = 2.742854, total_loss = 5.627704 \n",
            "v3 (mse loss, Normalizer: (iou: 0.75, cls: 1.00) Region 106 Avg (IOU: -nan, GIOU: -nan), Class: -nan, Obj: -nan, No Obj: 0.000006, .5R: -nan, .75R: -nan, count: 0, class_loss = 0.000000, iou_loss = 0.000000, total_loss = 0.000000 \n",
            "v3 (mse loss, Normalizer: (iou: 0.75, cls: 1.00) Region 82 Avg (IOU: -nan, GIOU: -nan), Class: -nan, Obj: -nan, No Obj: 0.000031, .5R: -nan, .75R: -nan, count: 0, class_loss = 0.000001, iou_loss = 0.000000, total_loss = 0.000001 \n",
            "v3 (mse loss, Normalizer: (iou: 0.75, cls: 1.00) Region 94 Avg (IOU: 0.677039, GIOU: 0.667227), Class: 0.950532, Obj: 0.560494, No Obj: 0.002806, .5R: 0.928571, .75R: 0.285714, count: 14, class_loss = 1.542131, iou_loss = 1.463253, total_loss = 3.005384 \n",
            "v3 (mse loss, Normalizer: (iou: 0.75, cls: 1.00) Region 106 Avg (IOU: -nan, GIOU: -nan), Class: -nan, Obj: -nan, No Obj: 0.000007, .5R: -nan, .75R: -nan, count: 0, class_loss = 0.000001, iou_loss = 0.000000, total_loss = 0.000001 \n",
            "v3 (mse loss, Normalizer: (iou: 0.75, cls: 1.00) Region 82 Avg (IOU: -nan, GIOU: -nan), Class: -nan, Obj: -nan, No Obj: 0.000030, .5R: -nan, .75R: -nan, count: 0, class_loss = 0.000001, iou_loss = 0.000000, total_loss = 0.000001 \n",
            "v3 (mse loss, Normalizer: (iou: 0.75, cls: 1.00) Region 94 Avg (IOU: 0.589568, GIOU: 0.554983), Class: 0.957720, Obj: 0.657401, No Obj: 0.007436, .5R: 0.704545, .75R: 0.272727, count: 44, class_loss = 3.542033, iou_loss = 5.256447, total_loss = 8.798480 \n",
            "v3 (mse loss, Normalizer: (iou: 0.75, cls: 1.00) Region 106 Avg (IOU: -nan, GIOU: -nan), Class: -nan, Obj: -nan, No Obj: 0.000006, .5R: -nan, .75R: -nan, count: 0, class_loss = 0.000000, iou_loss = 0.000000, total_loss = 0.000000 \n",
            "v3 (mse loss, Normalizer: (iou: 0.75, cls: 1.00) Region 82 Avg (IOU: -nan, GIOU: -nan), Class: -nan, Obj: -nan, No Obj: 0.000031, .5R: -nan, .75R: -nan, count: 0, class_loss = 0.000001, iou_loss = 0.000000, total_loss = 0.000001 \n",
            "v3 (mse loss, Normalizer: (iou: 0.75, cls: 1.00) Region 94 Avg (IOU: 0.641100, GIOU: 0.624271), Class: 0.926792, Obj: 0.568144, No Obj: 0.003923, .5R: 0.842105, .75R: 0.210526, count: 19, class_loss = 2.719790, iou_loss = 2.495286, total_loss = 5.215075 \n",
            "v3 (mse loss, Normalizer: (iou: 0.75, cls: 1.00) Region 106 Avg (IOU: -nan, GIOU: -nan), Class: -nan, Obj: -nan, No Obj: 0.000006, .5R: -nan, .75R: -nan, count: 0, class_loss = 0.000000, iou_loss = 0.000000, total_loss = 0.000000 \n",
            "\n",
            " 907: 1.782581, 3.297730 avg loss, 0.000677 rate, 8.208519 seconds, 58048 images\n",
            "Loaded: 0.000056 seconds\n",
            "v3 (mse loss, Normalizer: (iou: 0.75, cls: 1.00) Region 82 Avg (IOU: -nan, GIOU: -nan), Class: -nan, Obj: -nan, No Obj: 0.000031, .5R: -nan, .75R: -nan, count: 0, class_loss = 0.000001, iou_loss = 0.000000, total_loss = 0.000001 \n",
            "v3 (mse loss, Normalizer: (iou: 0.75, cls: 1.00) Region 94 Avg (IOU: 0.584171, GIOU: 0.569156), Class: 0.918353, Obj: 0.460406, No Obj: 0.007403, .5R: 0.690909, .75R: 0.181818, count: 55, class_loss = 7.843391, iou_loss = 14.470455, total_loss = 22.313847 \n",
            "v3 (mse loss, Normalizer: (iou: 0.75, cls: 1.00) Region 106 Avg (IOU: -nan, GIOU: -nan), Class: -nan, Obj: -nan, No Obj: 0.000006, .5R: -nan, .75R: -nan, count: 0, class_loss = 0.000000, iou_loss = 0.000000, total_loss = 0.000000 \n",
            "v3 (mse loss, Normalizer: (iou: 0.75, cls: 1.00) Region 82 Avg (IOU: -nan, GIOU: -nan), Class: -nan, Obj: -nan, No Obj: 0.000030, .5R: -nan, .75R: -nan, count: 0, class_loss = 0.000000, iou_loss = 0.000000, total_loss = 0.000000 \n",
            "v3 (mse loss, Normalizer: (iou: 0.75, cls: 1.00) Region 94 Avg (IOU: 0.501899, GIOU: 0.478684), Class: 0.930755, Obj: 0.560507, No Obj: 0.008504, .5R: 0.500000, .75R: 0.020000, count: 50, class_loss = 5.833831, iou_loss = 10.240725, total_loss = 16.074556 \n",
            "v3 (mse loss, Normalizer: (iou: 0.75, cls: 1.00) Region 106 Avg (IOU: -nan, GIOU: -nan), Class: -nan, Obj: -nan, No Obj: 0.000006, .5R: -nan, .75R: -nan, count: 0, class_loss = 0.000000, iou_loss = 0.000000, total_loss = 0.000000 \n",
            "v3 (mse loss, Normalizer: (iou: 0.75, cls: 1.00) Region 82 Avg (IOU: -nan, GIOU: -nan), Class: -nan, Obj: -nan, No Obj: 0.000031, .5R: -nan, .75R: -nan, count: 0, class_loss = 0.000001, iou_loss = 0.000000, total_loss = 0.000001 \n",
            "v3 (mse loss, Normalizer: (iou: 0.75, cls: 1.00) Region 94 Avg (IOU: 0.580095, GIOU: 0.572064), Class: 0.985959, Obj: 0.625329, No Obj: 0.003616, .5R: 0.684211, .75R: 0.157895, count: 19, class_loss = 1.690095, iou_loss = 2.945400, total_loss = 4.635496 \n",
            "v3 (mse loss, Normalizer: (iou: 0.75, cls: 1.00) Region 106 Avg (IOU: -nan, GIOU: -nan), Class: -nan, Obj: -nan, No Obj: 0.000006, .5R: -nan, .75R: -nan, count: 0, class_loss = 0.000000, iou_loss = 0.000000, total_loss = 0.000000 \n",
            "v3 (mse loss, Normalizer: (iou: 0.75, cls: 1.00) Region 82 Avg (IOU: -nan, GIOU: -nan), Class: -nan, Obj: -nan, No Obj: 0.000031, .5R: -nan, .75R: -nan, count: 0, class_loss = 0.000001, iou_loss = 0.000000, total_loss = 0.000001 \n",
            "v3 (mse loss, Normalizer: (iou: 0.75, cls: 1.00) Region 94 Avg (IOU: 0.576463, GIOU: 0.560096), Class: 0.963678, Obj: 0.530514, No Obj: 0.007087, .5R: 0.604651, .75R: 0.162791, count: 43, class_loss = 5.167679, iou_loss = 7.530658, total_loss = 12.698337 \n",
            "v3 (mse loss, Normalizer: (iou: 0.75, cls: 1.00) Region 106 Avg (IOU: -nan, GIOU: -nan), Class: -nan, Obj: -nan, No Obj: 0.000006, .5R: -nan, .75R: -nan, count: 0, class_loss = 0.000000, iou_loss = 0.000000, total_loss = 0.000000 \n",
            "v3 (mse loss, Normalizer: (iou: 0.75, cls: 1.00) Region 82 Avg (IOU: -nan, GIOU: -nan), Class: -nan, Obj: -nan, No Obj: 0.000031, .5R: -nan, .75R: -nan, count: 0, class_loss = 0.000001, iou_loss = 0.000000, total_loss = 0.000001 \n",
            "v3 (mse loss, Normalizer: (iou: 0.75, cls: 1.00) Region 94 Avg (IOU: 0.544963, GIOU: 0.515861), Class: 0.904288, Obj: 0.463344, No Obj: 0.006784, .5R: 0.604167, .75R: 0.187500, count: 48, class_loss = 6.964057, iou_loss = 6.354788, total_loss = 13.318846 \n",
            "v3 (mse loss, Normalizer: (iou: 0.75, cls: 1.00) Region 106 Avg (IOU: -nan, GIOU: -nan), Class: -nan, Obj: -nan, No Obj: 0.000006, .5R: -nan, .75R: -nan, count: 0, class_loss = 0.000000, iou_loss = 0.000000, total_loss = 0.000000 \n",
            "v3 (mse loss, Normalizer: (iou: 0.75, cls: 1.00) Region 82 Avg (IOU: -nan, GIOU: -nan), Class: -nan, Obj: -nan, No Obj: 0.000030, .5R: -nan, .75R: -nan, count: 0, class_loss = 0.000000, iou_loss = 0.000000, total_loss = 0.000000 \n",
            "v3 (mse loss, Normalizer: (iou: 0.75, cls: 1.00) Region 94 Avg (IOU: 0.552355, GIOU: 0.540035), Class: 0.916010, Obj: 0.465661, No Obj: 0.004343, .5R: 0.695652, .75R: 0.086957, count: 23, class_loss = 4.008103, iou_loss = 3.810717, total_loss = 7.818820 \n",
            "v3 (mse loss, Normalizer: (iou: 0.75, cls: 1.00) Region 106 Avg (IOU: -nan, GIOU: -nan), Class: -nan, Obj: -nan, No Obj: 0.000006, .5R: -nan, .75R: -nan, count: 0, class_loss = 0.000000, iou_loss = 0.000000, total_loss = 0.000000 \n",
            "v3 (mse loss, Normalizer: (iou: 0.75, cls: 1.00) Region 82 Avg (IOU: -nan, GIOU: -nan), Class: -nan, Obj: -nan, No Obj: 0.000031, .5R: -nan, .75R: -nan, count: 0, class_loss = 0.000001, iou_loss = 0.000000, total_loss = 0.000001 \n",
            "v3 (mse loss, Normalizer: (iou: 0.75, cls: 1.00) Region 94 Avg (IOU: 0.580890, GIOU: 0.563750), Class: 0.824100, Obj: 0.411175, No Obj: 0.001916, .5R: 0.900000, .75R: 0.100000, count: 10, class_loss = 1.904844, iou_loss = 1.645684, total_loss = 3.550528 \n",
            "v3 (mse loss, Normalizer: (iou: 0.75, cls: 1.00) Region 106 Avg (IOU: -nan, GIOU: -nan), Class: -nan, Obj: -nan, No Obj: 0.000006, .5R: -nan, .75R: -nan, count: 0, class_loss = 0.000000, iou_loss = 0.000000, total_loss = 0.000000 \n",
            "v3 (mse loss, Normalizer: (iou: 0.75, cls: 1.00) Region 82 Avg (IOU: -nan, GIOU: -nan), Class: -nan, Obj: -nan, No Obj: 0.000032, .5R: -nan, .75R: -nan, count: 0, class_loss = 0.000001, iou_loss = 0.000000, total_loss = 0.000001 \n",
            "v3 (mse loss, Normalizer: (iou: 0.75, cls: 1.00) Region 94 Avg (IOU: 0.585506, GIOU: 0.568399), Class: 0.951426, Obj: 0.716543, No Obj: 0.002295, .5R: 0.800000, .75R: 0.300000, count: 10, class_loss = 0.855288, iou_loss = 1.440070, total_loss = 2.295358 \n",
            "v3 (mse loss, Normalizer: (iou: 0.75, cls: 1.00) Region 106 Avg (IOU: -nan, GIOU: -nan), Class: -nan, Obj: -nan, No Obj: 0.000006, .5R: -nan, .75R: -nan, count: 0, class_loss = 0.000000, iou_loss = 0.000000, total_loss = 0.000000 \n",
            "v3 (mse loss, Normalizer: (iou: 0.75, cls: 1.00) Region 82 Avg (IOU: -nan, GIOU: -nan), Class: -nan, Obj: -nan, No Obj: 0.000032, .5R: -nan, .75R: -nan, count: 0, class_loss = 0.000001, iou_loss = 0.000000, total_loss = 0.000001 \n",
            "v3 (mse loss, Normalizer: (iou: 0.75, cls: 1.00) Region 94 Avg (IOU: 0.534349, GIOU: 0.516772), Class: 0.933797, Obj: 0.587844, No Obj: 0.005071, .5R: 0.656250, .75R: 0.093750, count: 32, class_loss = 3.167193, iou_loss = 10.204293, total_loss = 13.371486 \n",
            "v3 (mse loss, Normalizer: (iou: 0.75, cls: 1.00) Region 106 Avg (IOU: -nan, GIOU: -nan), Class: -nan, Obj: -nan, No Obj: 0.000006, .5R: -nan, .75R: -nan, count: 0, class_loss = 0.000000, iou_loss = 0.000000, total_loss = 0.000000 \n",
            "v3 (mse loss, Normalizer: (iou: 0.75, cls: 1.00) Region 82 Avg (IOU: -nan, GIOU: -nan), Class: -nan, Obj: -nan, No Obj: 0.000030, .5R: -nan, .75R: -nan, count: 0, class_loss = 0.000001, iou_loss = 0.000000, total_loss = 0.000001 \n",
            "v3 (mse loss, Normalizer: (iou: 0.75, cls: 1.00) Region 94 Avg (IOU: 0.553080, GIOU: 0.546591), Class: 0.953036, Obj: 0.540742, No Obj: 0.004421, .5R: 0.666667, .75R: 0.047619, count: 21, class_loss = 2.956469, iou_loss = 3.213786, total_loss = 6.170256 \n",
            "v3 (mse loss, Normalizer: (iou: 0.75, cls: 1.00) Region 106 Avg (IOU: -nan, GIOU: -nan), Class: -nan, Obj: -nan, No Obj: 0.000006, .5R: -nan, .75R: -nan, count: 0, class_loss = 0.000000, iou_loss = 0.000000, total_loss = 0.000000 \n",
            "v3 (mse loss, Normalizer: (iou: 0.75, cls: 1.00) Region 82 Avg (IOU: -nan, GIOU: -nan), Class: -nan, Obj: -nan, No Obj: 0.000030, .5R: -nan, .75R: -nan, count: 0, class_loss = 0.000001, iou_loss = 0.000000, total_loss = 0.000001 \n",
            "v3 (mse loss, Normalizer: (iou: 0.75, cls: 1.00) Region 94 Avg (IOU: 0.534301, GIOU: 0.517436), Class: 0.928665, Obj: 0.452644, No Obj: 0.006440, .5R: 0.585366, .75R: 0.073171, count: 41, class_loss = 5.576501, iou_loss = 8.654766, total_loss = 14.231267 \n",
            "v3 (mse loss, Normalizer: (iou: 0.75, cls: 1.00) Region 106 Avg (IOU: -nan, GIOU: -nan), Class: -nan, Obj: -nan, No Obj: 0.000006, .5R: -nan, .75R: -nan, count: 0, class_loss = 0.000000, iou_loss = 0.000000, total_loss = 0.000000 \n",
            "v3 (mse loss, Normalizer: (iou: 0.75, cls: 1.00) Region 82 Avg (IOU: -nan, GIOU: -nan), Class: -nan, Obj: -nan, No Obj: 0.000031, .5R: -nan, .75R: -nan, count: 0, class_loss = 0.000001, iou_loss = 0.000000, total_loss = 0.000001 \n",
            "v3 (mse loss, Normalizer: (iou: 0.75, cls: 1.00) Region 94 Avg (IOU: 0.522691, GIOU: 0.509894), Class: 0.938326, Obj: 0.619483, No Obj: 0.003086, .5R: 0.444444, .75R: 0.111111, count: 18, class_loss = 1.611758, iou_loss = 3.951598, total_loss = 5.563355 \n",
            "v3 (mse loss, Normalizer: (iou: 0.75, cls: 1.00) Region 106 Avg (IOU: -nan, GIOU: -nan), Class: -nan, Obj: -nan, No Obj: 0.000006, .5R: -nan, .75R: -nan, count: 0, class_loss = 0.000001, iou_loss = 0.000000, total_loss = 0.000001 \n",
            "v3 (mse loss, Normalizer: (iou: 0.75, cls: 1.00) Region 82 Avg (IOU: -nan, GIOU: -nan), Class: -nan, Obj: -nan, No Obj: 0.000030, .5R: -nan, .75R: -nan, count: 0, class_loss = 0.000000, iou_loss = 0.000000, total_loss = 0.000000 \n",
            "v3 (mse loss, Normalizer: (iou: 0.75, cls: 1.00) Region 94 Avg (IOU: 0.570979, GIOU: 0.554119), Class: 0.966071, Obj: 0.484741, No Obj: 0.006162, .5R: 0.685714, .75R: 0.142857, count: 35, class_loss = 4.946797, iou_loss = 7.232924, total_loss = 12.179722 \n",
            "v3 (mse loss, Normalizer: (iou: 0.75, cls: 1.00) Region 106 Avg (IOU: -nan, GIOU: -nan), Class: -nan, Obj: -nan, No Obj: 0.000006, .5R: -nan, .75R: -nan, count: 0, class_loss = 0.000000, iou_loss = 0.000000, total_loss = 0.000000 \n",
            "v3 (mse loss, Normalizer: (iou: 0.75, cls: 1.00) Region 82 Avg (IOU: -nan, GIOU: -nan), Class: -nan, Obj: -nan, No Obj: 0.000030, .5R: -nan, .75R: -nan, count: 0, class_loss = 0.000001, iou_loss = 0.000000, total_loss = 0.000001 \n",
            "v3 (mse loss, Normalizer: (iou: 0.75, cls: 1.00) Region 94 Avg (IOU: 0.446101, GIOU: 0.400455), Class: 0.895549, Obj: 0.463979, No Obj: 0.006095, .5R: 0.391304, .75R: 0.086957, count: 46, class_loss = 5.889032, iou_loss = 14.792650, total_loss = 20.681683 \n",
            "v3 (mse loss, Normalizer: (iou: 0.75, cls: 1.00) Region 106 Avg (IOU: -nan, GIOU: -nan), Class: -nan, Obj: -nan, No Obj: 0.000006, .5R: -nan, .75R: -nan, count: 0, class_loss = 0.000000, iou_loss = 0.000000, total_loss = 0.000000 \n",
            "v3 (mse loss, Normalizer: (iou: 0.75, cls: 1.00) Region 82 Avg (IOU: -nan, GIOU: -nan), Class: -nan, Obj: -nan, No Obj: 0.000031, .5R: -nan, .75R: -nan, count: 0, class_loss = 0.000001, iou_loss = 0.000000, total_loss = 0.000001 \n",
            "v3 (mse loss, Normalizer: (iou: 0.75, cls: 1.00) Region 94 Avg (IOU: 0.593680, GIOU: 0.577945), Class: 0.861561, Obj: 0.662747, No Obj: 0.002890, .5R: 0.692308, .75R: 0.076923, count: 13, class_loss = 1.797385, iou_loss = 2.066710, total_loss = 3.864094 \n",
            "v3 (mse loss, Normalizer: (iou: 0.75, cls: 1.00) Region 106 Avg (IOU: -nan, GIOU: -nan), Class: -nan, Obj: -nan, No Obj: 0.000006, .5R: -nan, .75R: -nan, count: 0, class_loss = 0.000000, iou_loss = 0.000000, total_loss = 0.000000 \n",
            "v3 (mse loss, Normalizer: (iou: 0.75, cls: 1.00) Region 82 Avg (IOU: -nan, GIOU: -nan), Class: -nan, Obj: -nan, No Obj: 0.000031, .5R: -nan, .75R: -nan, count: 0, class_loss = 0.000001, iou_loss = 0.000000, total_loss = 0.000001 \n",
            "v3 (mse loss, Normalizer: (iou: 0.75, cls: 1.00) Region 94 Avg (IOU: 0.620405, GIOU: 0.608280), Class: 0.927251, Obj: 0.461081, No Obj: 0.009898, .5R: 0.774194, .75R: 0.241935, count: 62, class_loss = 8.466097, iou_loss = 11.046183, total_loss = 19.512280 \n",
            "v3 (mse loss, Normalizer: (iou: 0.75, cls: 1.00) Region 106 Avg (IOU: -nan, GIOU: -nan), Class: -nan, Obj: -nan, No Obj: 0.000006, .5R: -nan, .75R: -nan, count: 0, class_loss = 0.000000, iou_loss = 0.000000, total_loss = 0.000000 \n",
            "\n",
            " 908: 3.714165, 3.339373 avg loss, 0.000680 rate, 8.312700 seconds, 58112 images\n",
            "Loaded: 0.000057 seconds\n",
            "v3 (mse loss, Normalizer: (iou: 0.75, cls: 1.00) Region 82 Avg (IOU: -nan, GIOU: -nan), Class: -nan, Obj: -nan, No Obj: 0.000030, .5R: -nan, .75R: -nan, count: 0, class_loss = 0.000000, iou_loss = 0.000000, total_loss = 0.000000 \n",
            "v3 (mse loss, Normalizer: (iou: 0.75, cls: 1.00) Region 94 Avg (IOU: 0.635572, GIOU: 0.612888), Class: 0.953077, Obj: 0.487093, No Obj: 0.011393, .5R: 0.820895, .75R: 0.208955, count: 67, class_loss = 8.783316, iou_loss = 8.902666, total_loss = 17.685982 \n",
            "v3 (mse loss, Normalizer: (iou: 0.75, cls: 1.00) Region 106 Avg (IOU: -nan, GIOU: -nan), Class: -nan, Obj: -nan, No Obj: 0.000006, .5R: -nan, .75R: -nan, count: 0, class_loss = 0.000000, iou_loss = 0.000000, total_loss = 0.000000 \n",
            "v3 (mse loss, Normalizer: (iou: 0.75, cls: 1.00) Region 82 Avg (IOU: -nan, GIOU: -nan), Class: -nan, Obj: -nan, No Obj: 0.000030, .5R: -nan, .75R: -nan, count: 0, class_loss = 0.000000, iou_loss = 0.000000, total_loss = 0.000000 \n",
            "v3 (mse loss, Normalizer: (iou: 0.75, cls: 1.00) Region 94 Avg (IOU: 0.612638, GIOU: 0.599400), Class: 0.996186, Obj: 0.594697, No Obj: 0.003193, .5R: 0.714286, .75R: 0.214286, count: 14, class_loss = 1.568658, iou_loss = 1.779719, total_loss = 3.348377 \n",
            "v3 (mse loss, Normalizer: (iou: 0.75, cls: 1.00) Region 106 Avg (IOU: -nan, GIOU: -nan), Class: -nan, Obj: -nan, No Obj: 0.000006, .5R: -nan, .75R: -nan, count: 0, class_loss = 0.000000, iou_loss = 0.000000, total_loss = 0.000000 \n",
            "v3 (mse loss, Normalizer: (iou: 0.75, cls: 1.00) Region 82 Avg (IOU: -nan, GIOU: -nan), Class: -nan, Obj: -nan, No Obj: 0.000032, .5R: -nan, .75R: -nan, count: 0, class_loss = 0.000001, iou_loss = 0.000000, total_loss = 0.000001 \n",
            "v3 (mse loss, Normalizer: (iou: 0.75, cls: 1.00) Region 94 Avg (IOU: 0.619086, GIOU: 0.616431), Class: 0.925553, Obj: 0.375663, No Obj: 0.001921, .5R: 0.800000, .75R: 0.300000, count: 10, class_loss = 1.599364, iou_loss = 1.372462, total_loss = 2.971826 \n",
            "v3 (mse loss, Normalizer: (iou: 0.75, cls: 1.00) Region 106 Avg (IOU: -nan, GIOU: -nan), Class: -nan, Obj: -nan, No Obj: 0.000006, .5R: -nan, .75R: -nan, count: 0, class_loss = 0.000000, iou_loss = 0.000000, total_loss = 0.000000 \n",
            "v3 (mse loss, Normalizer: (iou: 0.75, cls: 1.00) Region 82 Avg (IOU: -nan, GIOU: -nan), Class: -nan, Obj: -nan, No Obj: 0.000031, .5R: -nan, .75R: -nan, count: 0, class_loss = 0.000001, iou_loss = 0.000000, total_loss = 0.000001 \n",
            "v3 (mse loss, Normalizer: (iou: 0.75, cls: 1.00) Region 94 Avg (IOU: 0.621715, GIOU: 0.603956), Class: 0.894567, Obj: 0.422908, No Obj: 0.002740, .5R: 0.714286, .75R: 0.285714, count: 14, class_loss = 2.411095, iou_loss = 3.153660, total_loss = 5.564755 \n",
            "v3 (mse loss, Normalizer: (iou: 0.75, cls: 1.00) Region 106 Avg (IOU: -nan, GIOU: -nan), Class: -nan, Obj: -nan, No Obj: 0.000006, .5R: -nan, .75R: -nan, count: 0, class_loss = 0.000000, iou_loss = 0.000000, total_loss = 0.000000 \n",
            "v3 (mse loss, Normalizer: (iou: 0.75, cls: 1.00) Region 82 Avg (IOU: -nan, GIOU: -nan), Class: -nan, Obj: -nan, No Obj: 0.000032, .5R: -nan, .75R: -nan, count: 0, class_loss = 0.000001, iou_loss = 0.000000, total_loss = 0.000001 \n",
            "v3 (mse loss, Normalizer: (iou: 0.75, cls: 1.00) Region 94 Avg (IOU: 0.539483, GIOU: 0.521582), Class: 0.964079, Obj: 0.219919, No Obj: 0.001124, .5R: 0.666667, .75R: 0.166667, count: 6, class_loss = 1.181773, iou_loss = 1.371181, total_loss = 2.552955 \n",
            "v3 (mse loss, Normalizer: (iou: 0.75, cls: 1.00) Region 106 Avg (IOU: -nan, GIOU: -nan), Class: -nan, Obj: -nan, No Obj: 0.000006, .5R: -nan, .75R: -nan, count: 0, class_loss = 0.000000, iou_loss = 0.000000, total_loss = 0.000000 \n",
            "v3 (mse loss, Normalizer: (iou: 0.75, cls: 1.00) Region 82 Avg (IOU: -nan, GIOU: -nan), Class: -nan, Obj: -nan, No Obj: 0.000030, .5R: -nan, .75R: -nan, count: 0, class_loss = 0.000001, iou_loss = 0.000000, total_loss = 0.000001 \n",
            "v3 (mse loss, Normalizer: (iou: 0.75, cls: 1.00) Region 94 Avg (IOU: 0.576801, GIOU: 0.551439), Class: 0.937673, Obj: 0.474642, No Obj: 0.013218, .5R: 0.656566, .75R: 0.202020, count: 99, class_loss = 11.747975, iou_loss = 15.793725, total_loss = 27.541700 \n",
            "v3 (mse loss, Normalizer: (iou: 0.75, cls: 1.00) Region 106 Avg (IOU: -nan, GIOU: -nan), Class: -nan, Obj: -nan, No Obj: 0.000007, .5R: -nan, .75R: -nan, count: 0, class_loss = 0.000001, iou_loss = 0.000000, total_loss = 0.000001 \n",
            "v3 (mse loss, Normalizer: (iou: 0.75, cls: 1.00) Region 82 Avg (IOU: -nan, GIOU: -nan), Class: -nan, Obj: -nan, No Obj: 0.000030, .5R: -nan, .75R: -nan, count: 0, class_loss = 0.000001, iou_loss = 0.000000, total_loss = 0.000001 \n",
            "v3 (mse loss, Normalizer: (iou: 0.75, cls: 1.00) Region 94 Avg (IOU: 0.623882, GIOU: 0.611439), Class: 0.927740, Obj: 0.495010, No Obj: 0.003213, .5R: 0.777778, .75R: 0.333333, count: 18, class_loss = 2.666467, iou_loss = 2.609845, total_loss = 5.276312 \n",
            "v3 (mse loss, Normalizer: (iou: 0.75, cls: 1.00) Region 106 Avg (IOU: -nan, GIOU: -nan), Class: -nan, Obj: -nan, No Obj: 0.000006, .5R: -nan, .75R: -nan, count: 0, class_loss = 0.000000, iou_loss = 0.000000, total_loss = 0.000000 \n",
            "v3 (mse loss, Normalizer: (iou: 0.75, cls: 1.00) Region 82 Avg (IOU: -nan, GIOU: -nan), Class: -nan, Obj: -nan, No Obj: 0.000031, .5R: -nan, .75R: -nan, count: 0, class_loss = 0.000001, iou_loss = 0.000000, total_loss = 0.000001 \n",
            "v3 (mse loss, Normalizer: (iou: 0.75, cls: 1.00) Region 94 Avg (IOU: 0.511794, GIOU: 0.481277), Class: 0.903899, Obj: 0.592332, No Obj: 0.007795, .5R: 0.584906, .75R: 0.150943, count: 53, class_loss = 5.580965, iou_loss = 10.437107, total_loss = 16.018072 \n",
            "v3 (mse loss, Normalizer: (iou: 0.75, cls: 1.00) Region 106 Avg (IOU: -nan, GIOU: -nan), Class: -nan, Obj: -nan, No Obj: 0.000006, .5R: -nan, .75R: -nan, count: 0, class_loss = 0.000000, iou_loss = 0.000000, total_loss = 0.000000 \n",
            "v3 (mse loss, Normalizer: (iou: 0.75, cls: 1.00) Region 82 Avg (IOU: -nan, GIOU: -nan), Class: -nan, Obj: -nan, No Obj: 0.000031, .5R: -nan, .75R: -nan, count: 0, class_loss = 0.000001, iou_loss = 0.000000, total_loss = 0.000001 \n",
            "v3 (mse loss, Normalizer: (iou: 0.75, cls: 1.00) Region 94 Avg (IOU: 0.477373, GIOU: 0.426684), Class: 0.918993, Obj: 0.581596, No Obj: 0.007602, .5R: 0.500000, .75R: 0.125000, count: 56, class_loss = 5.615913, iou_loss = 13.773884, total_loss = 19.389797 \n",
            "v3 (mse loss, Normalizer: (iou: 0.75, cls: 1.00) Region 106 Avg (IOU: -nan, GIOU: -nan), Class: -nan, Obj: -nan, No Obj: 0.000006, .5R: -nan, .75R: -nan, count: 0, class_loss = 0.000000, iou_loss = 0.000000, total_loss = 0.000000 \n",
            "v3 (mse loss, Normalizer: (iou: 0.75, cls: 1.00) Region 82 Avg (IOU: -nan, GIOU: -nan), Class: -nan, Obj: -nan, No Obj: 0.000031, .5R: -nan, .75R: -nan, count: 0, class_loss = 0.000001, iou_loss = 0.000000, total_loss = 0.000001 \n",
            "v3 (mse loss, Normalizer: (iou: 0.75, cls: 1.00) Region 94 Avg (IOU: 0.676043, GIOU: 0.665294), Class: 0.970948, Obj: 0.650056, No Obj: 0.002996, .5R: 0.916667, .75R: 0.333333, count: 12, class_loss = 1.047592, iou_loss = 1.011446, total_loss = 2.059038 \n",
            "v3 (mse loss, Normalizer: (iou: 0.75, cls: 1.00) Region 106 Avg (IOU: -nan, GIOU: -nan), Class: -nan, Obj: -nan, No Obj: 0.000007, .5R: -nan, .75R: -nan, count: 0, class_loss = 0.000001, iou_loss = 0.000000, total_loss = 0.000001 \n",
            "v3 (mse loss, Normalizer: (iou: 0.75, cls: 1.00) Region 82 Avg (IOU: -nan, GIOU: -nan), Class: -nan, Obj: -nan, No Obj: 0.000032, .5R: -nan, .75R: -nan, count: 0, class_loss = 0.000001, iou_loss = 0.000000, total_loss = 0.000001 \n",
            "v3 (mse loss, Normalizer: (iou: 0.75, cls: 1.00) Region 94 Avg (IOU: 0.464272, GIOU: 0.412285), Class: 0.741101, Obj: 0.271275, No Obj: 0.001618, .5R: 0.600000, .75R: 0.000000, count: 10, class_loss = 2.392726, iou_loss = 2.228618, total_loss = 4.621344 \n",
            "v3 (mse loss, Normalizer: (iou: 0.75, cls: 1.00) Region 106 Avg (IOU: -nan, GIOU: -nan), Class: -nan, Obj: -nan, No Obj: 0.000006, .5R: -nan, .75R: -nan, count: 0, class_loss = 0.000000, iou_loss = 0.000000, total_loss = 0.000000 \n",
            "v3 (mse loss, Normalizer: (iou: 0.75, cls: 1.00) Region 82 Avg (IOU: -nan, GIOU: -nan), Class: -nan, Obj: -nan, No Obj: 0.000030, .5R: -nan, .75R: -nan, count: 0, class_loss = 0.000001, iou_loss = 0.000000, total_loss = 0.000001 \n",
            "v3 (mse loss, Normalizer: (iou: 0.75, cls: 1.00) Region 94 Avg (IOU: 0.562242, GIOU: 0.511709), Class: 0.954362, Obj: 0.644211, No Obj: 0.004824, .5R: 0.714286, .75R: 0.142857, count: 21, class_loss = 2.255093, iou_loss = 3.020528, total_loss = 5.275620 \n",
            "v3 (mse loss, Normalizer: (iou: 0.75, cls: 1.00) Region 106 Avg (IOU: -nan, GIOU: -nan), Class: -nan, Obj: -nan, No Obj: 0.000006, .5R: -nan, .75R: -nan, count: 0, class_loss = 0.000000, iou_loss = 0.000000, total_loss = 0.000000 \n",
            "v3 (mse loss, Normalizer: (iou: 0.75, cls: 1.00) Region 82 Avg (IOU: -nan, GIOU: -nan), Class: -nan, Obj: -nan, No Obj: 0.000030, .5R: -nan, .75R: -nan, count: 0, class_loss = 0.000001, iou_loss = 0.000000, total_loss = 0.000001 \n",
            "v3 (mse loss, Normalizer: (iou: 0.75, cls: 1.00) Region 94 Avg (IOU: 0.650731, GIOU: 0.640433), Class: 0.950528, Obj: 0.547122, No Obj: 0.006349, .5R: 0.875000, .75R: 0.218750, count: 32, class_loss = 3.949095, iou_loss = 3.739697, total_loss = 7.688791 \n",
            "v3 (mse loss, Normalizer: (iou: 0.75, cls: 1.00) Region 106 Avg (IOU: -nan, GIOU: -nan), Class: -nan, Obj: -nan, No Obj: 0.000006, .5R: -nan, .75R: -nan, count: 0, class_loss = 0.000000, iou_loss = 0.000000, total_loss = 0.000000 \n",
            "v3 (mse loss, Normalizer: (iou: 0.75, cls: 1.00) Region 82 Avg (IOU: -nan, GIOU: -nan), Class: -nan, Obj: -nan, No Obj: 0.000030, .5R: -nan, .75R: -nan, count: 0, class_loss = 0.000001, iou_loss = 0.000000, total_loss = 0.000001 \n",
            "v3 (mse loss, Normalizer: (iou: 0.75, cls: 1.00) Region 94 Avg (IOU: 0.593370, GIOU: 0.563843), Class: 0.911006, Obj: 0.407398, No Obj: 0.014102, .5R: 0.734513, .75R: 0.159292, count: 113, class_loss = 16.939888, iou_loss = 18.735088, total_loss = 35.674976 \n",
            "v3 (mse loss, Normalizer: (iou: 0.75, cls: 1.00) Region 106 Avg (IOU: -nan, GIOU: -nan), Class: -nan, Obj: -nan, No Obj: 0.000006, .5R: -nan, .75R: -nan, count: 0, class_loss = 0.000000, iou_loss = 0.000000, total_loss = 0.000000 \n",
            "v3 (mse loss, Normalizer: (iou: 0.75, cls: 1.00) Region 82 Avg (IOU: -nan, GIOU: -nan), Class: -nan, Obj: -nan, No Obj: 0.000031, .5R: -nan, .75R: -nan, count: 0, class_loss = 0.000001, iou_loss = 0.000000, total_loss = 0.000001 \n",
            "v3 (mse loss, Normalizer: (iou: 0.75, cls: 1.00) Region 94 Avg (IOU: 0.570216, GIOU: 0.544056), Class: 0.888550, Obj: 0.368221, No Obj: 0.004811, .5R: 0.571429, .75R: 0.214286, count: 28, class_loss = 4.924210, iou_loss = 5.121447, total_loss = 10.045657 \n",
            "v3 (mse loss, Normalizer: (iou: 0.75, cls: 1.00) Region 106 Avg (IOU: -nan, GIOU: -nan), Class: -nan, Obj: -nan, No Obj: 0.000006, .5R: -nan, .75R: -nan, count: 0, class_loss = 0.000000, iou_loss = 0.000000, total_loss = 0.000000 \n",
            "v3 (mse loss, Normalizer: (iou: 0.75, cls: 1.00) Region 82 Avg (IOU: -nan, GIOU: -nan), Class: -nan, Obj: -nan, No Obj: 0.000030, .5R: -nan, .75R: -nan, count: 0, class_loss = 0.000001, iou_loss = 0.000000, total_loss = 0.000001 \n",
            "v3 (mse loss, Normalizer: (iou: 0.75, cls: 1.00) Region 94 Avg (IOU: 0.542043, GIOU: 0.493168), Class: 0.937632, Obj: 0.502454, No Obj: 0.010676, .5R: 0.675325, .75R: 0.129870, count: 77, class_loss = 9.343560, iou_loss = 12.690007, total_loss = 22.033567 \n",
            "v3 (mse loss, Normalizer: (iou: 0.75, cls: 1.00) Region 106 Avg (IOU: -nan, GIOU: -nan), Class: -nan, Obj: -nan, No Obj: 0.000006, .5R: -nan, .75R: -nan, count: 0, class_loss = 0.000000, iou_loss = 0.000000, total_loss = 0.000000 \n",
            "\n",
            " 909: 3.911433, 3.396579 avg loss, 0.000683 rate, 8.331833 seconds, 58176 images\n",
            "Loaded: 0.000055 seconds\n",
            "v3 (mse loss, Normalizer: (iou: 0.75, cls: 1.00) Region 82 Avg (IOU: -nan, GIOU: -nan), Class: -nan, Obj: -nan, No Obj: 0.000031, .5R: -nan, .75R: -nan, count: 0, class_loss = 0.000001, iou_loss = 0.000000, total_loss = 0.000001 \n",
            "v3 (mse loss, Normalizer: (iou: 0.75, cls: 1.00) Region 94 Avg (IOU: 0.436379, GIOU: 0.415519), Class: 0.941360, Obj: 0.556789, No Obj: 0.012609, .5R: 0.362069, .75R: 0.000000, count: 58, class_loss = 8.756351, iou_loss = 18.300240, total_loss = 27.056589 \n",
            "v3 (mse loss, Normalizer: (iou: 0.75, cls: 1.00) Region 106 Avg (IOU: -nan, GIOU: -nan), Class: -nan, Obj: -nan, No Obj: 0.000007, .5R: -nan, .75R: -nan, count: 0, class_loss = 0.000001, iou_loss = 0.000000, total_loss = 0.000001 \n",
            "v3 (mse loss, Normalizer: (iou: 0.75, cls: 1.00) Region 82 Avg (IOU: -nan, GIOU: -nan), Class: -nan, Obj: -nan, No Obj: 0.000031, .5R: -nan, .75R: -nan, count: 0, class_loss = 0.000001, iou_loss = 0.000000, total_loss = 0.000001 \n",
            "v3 (mse loss, Normalizer: (iou: 0.75, cls: 1.00) Region 94 Avg (IOU: 0.554706, GIOU: 0.541021), Class: 0.955421, Obj: 0.605159, No Obj: 0.005541, .5R: 0.636364, .75R: 0.090909, count: 22, class_loss = 3.886119, iou_loss = 3.154817, total_loss = 7.040936 \n",
            "v3 (mse loss, Normalizer: (iou: 0.75, cls: 1.00) Region 106 Avg (IOU: -nan, GIOU: -nan), Class: -nan, Obj: -nan, No Obj: 0.000006, .5R: -nan, .75R: -nan, count: 0, class_loss = 0.000000, iou_loss = 0.000000, total_loss = 0.000000 \n",
            "v3 (mse loss, Normalizer: (iou: 0.75, cls: 1.00) Region 82 Avg (IOU: -nan, GIOU: -nan), Class: -nan, Obj: -nan, No Obj: 0.000032, .5R: -nan, .75R: -nan, count: 0, class_loss = 0.000001, iou_loss = 0.000000, total_loss = 0.000001 \n",
            "v3 (mse loss, Normalizer: (iou: 0.75, cls: 1.00) Region 94 Avg (IOU: 0.634951, GIOU: 0.629380), Class: 0.986682, Obj: 0.571882, No Obj: 0.001801, .5R: 0.666667, .75R: 0.333333, count: 6, class_loss = 0.998959, iou_loss = 0.542244, total_loss = 1.541204 \n",
            "v3 (mse loss, Normalizer: (iou: 0.75, cls: 1.00) Region 106 Avg (IOU: -nan, GIOU: -nan), Class: -nan, Obj: -nan, No Obj: 0.000006, .5R: -nan, .75R: -nan, count: 0, class_loss = 0.000000, iou_loss = 0.000000, total_loss = 0.000000 \n",
            "v3 (mse loss, Normalizer: (iou: 0.75, cls: 1.00) Region 82 Avg (IOU: -nan, GIOU: -nan), Class: -nan, Obj: -nan, No Obj: 0.000030, .5R: -nan, .75R: -nan, count: 0, class_loss = 0.000001, iou_loss = 0.000000, total_loss = 0.000001 \n",
            "v3 (mse loss, Normalizer: (iou: 0.75, cls: 1.00) Region 94 Avg (IOU: 0.507430, GIOU: 0.504221), Class: 0.851779, Obj: 0.430761, No Obj: 0.001745, .5R: 0.428571, .75R: 0.000000, count: 7, class_loss = 1.355309, iou_loss = 1.433253, total_loss = 2.788561 \n",
            "v3 (mse loss, Normalizer: (iou: 0.75, cls: 1.00) Region 106 Avg (IOU: -nan, GIOU: -nan), Class: -nan, Obj: -nan, No Obj: 0.000007, .5R: -nan, .75R: -nan, count: 0, class_loss = 0.000001, iou_loss = 0.000000, total_loss = 0.000001 \n",
            "v3 (mse loss, Normalizer: (iou: 0.75, cls: 1.00) Region 82 Avg (IOU: -nan, GIOU: -nan), Class: -nan, Obj: -nan, No Obj: 0.000030, .5R: -nan, .75R: -nan, count: 0, class_loss = 0.000001, iou_loss = 0.000000, total_loss = 0.000001 \n",
            "v3 (mse loss, Normalizer: (iou: 0.75, cls: 1.00) Region 94 Avg (IOU: 0.513817, GIOU: 0.509378), Class: 0.987606, Obj: 0.638693, No Obj: 0.002759, .5R: 0.600000, .75R: 0.000000, count: 10, class_loss = 1.296832, iou_loss = 1.822552, total_loss = 3.119384 \n",
            "v3 (mse loss, Normalizer: (iou: 0.75, cls: 1.00) Region 106 Avg (IOU: -nan, GIOU: -nan), Class: -nan, Obj: -nan, No Obj: 0.000006, .5R: -nan, .75R: -nan, count: 0, class_loss = 0.000000, iou_loss = 0.000000, total_loss = 0.000000 \n",
            "v3 (mse loss, Normalizer: (iou: 0.75, cls: 1.00) Region 82 Avg (IOU: -nan, GIOU: -nan), Class: -nan, Obj: -nan, No Obj: 0.000030, .5R: -nan, .75R: -nan, count: 0, class_loss = 0.000001, iou_loss = 0.000000, total_loss = 0.000001 \n",
            "v3 (mse loss, Normalizer: (iou: 0.75, cls: 1.00) Region 94 Avg (IOU: 0.563103, GIOU: 0.540478), Class: 0.889059, Obj: 0.550063, No Obj: 0.005601, .5R: 0.740741, .75R: 0.148148, count: 27, class_loss = 4.288345, iou_loss = 4.784783, total_loss = 9.073129 \n",
            "v3 (mse loss, Normalizer: (iou: 0.75, cls: 1.00) Region 106 Avg (IOU: -nan, GIOU: -nan), Class: -nan, Obj: -nan, No Obj: 0.000006, .5R: -nan, .75R: -nan, count: 0, class_loss = 0.000000, iou_loss = 0.000000, total_loss = 0.000000 \n",
            "v3 (mse loss, Normalizer: (iou: 0.75, cls: 1.00) Region 82 Avg (IOU: -nan, GIOU: -nan), Class: -nan, Obj: -nan, No Obj: 0.000030, .5R: -nan, .75R: -nan, count: 0, class_loss = 0.000001, iou_loss = 0.000000, total_loss = 0.000001 \n",
            "v3 (mse loss, Normalizer: (iou: 0.75, cls: 1.00) Region 94 Avg (IOU: 0.528202, GIOU: 0.509323), Class: 0.920057, Obj: 0.613658, No Obj: 0.005938, .5R: 0.562500, .75R: 0.062500, count: 32, class_loss = 3.260710, iou_loss = 6.922308, total_loss = 10.183018 \n",
            "v3 (mse loss, Normalizer: (iou: 0.75, cls: 1.00) Region 106 Avg (IOU: -nan, GIOU: -nan), Class: -nan, Obj: -nan, No Obj: 0.000007, .5R: -nan, .75R: -nan, count: 0, class_loss = 0.000001, iou_loss = 0.000000, total_loss = 0.000001 \n",
            "v3 (mse loss, Normalizer: (iou: 0.75, cls: 1.00) Region 82 Avg (IOU: -nan, GIOU: -nan), Class: -nan, Obj: -nan, No Obj: 0.000031, .5R: -nan, .75R: -nan, count: 0, class_loss = 0.000001, iou_loss = 0.000000, total_loss = 0.000001 \n",
            "v3 (mse loss, Normalizer: (iou: 0.75, cls: 1.00) Region 94 Avg (IOU: 0.464335, GIOU: 0.459908), Class: 0.930973, Obj: 0.463686, No Obj: 0.002489, .5R: 0.416667, .75R: 0.000000, count: 12, class_loss = 1.947480, iou_loss = 3.282209, total_loss = 5.229689 \n",
            "v3 (mse loss, Normalizer: (iou: 0.75, cls: 1.00) Region 106 Avg (IOU: -nan, GIOU: -nan), Class: -nan, Obj: -nan, No Obj: 0.000006, .5R: -nan, .75R: -nan, count: 0, class_loss = 0.000000, iou_loss = 0.000000, total_loss = 0.000000 \n",
            "v3 (mse loss, Normalizer: (iou: 0.75, cls: 1.00) Region 82 Avg (IOU: -nan, GIOU: -nan), Class: -nan, Obj: -nan, No Obj: 0.000031, .5R: -nan, .75R: -nan, count: 0, class_loss = 0.000001, iou_loss = 0.000000, total_loss = 0.000001 \n",
            "v3 (mse loss, Normalizer: (iou: 0.75, cls: 1.00) Region 94 Avg (IOU: 0.500193, GIOU: 0.468794), Class: 0.895700, Obj: 0.485216, No Obj: 0.005480, .5R: 0.515152, .75R: 0.000000, count: 33, class_loss = 4.930237, iou_loss = 6.581213, total_loss = 11.511450 \n",
            "v3 (mse loss, Normalizer: (iou: 0.75, cls: 1.00) Region 106 Avg (IOU: -nan, GIOU: -nan), Class: -nan, Obj: -nan, No Obj: 0.000006, .5R: -nan, .75R: -nan, count: 0, class_loss = 0.000000, iou_loss = 0.000000, total_loss = 0.000000 \n",
            "v3 (mse loss, Normalizer: (iou: 0.75, cls: 1.00) Region 82 Avg (IOU: -nan, GIOU: -nan), Class: -nan, Obj: -nan, No Obj: 0.000031, .5R: -nan, .75R: -nan, count: 0, class_loss = 0.000001, iou_loss = 0.000000, total_loss = 0.000001 \n",
            "v3 (mse loss, Normalizer: (iou: 0.75, cls: 1.00) Region 94 Avg (IOU: 0.533277, GIOU: 0.504271), Class: 0.933925, Obj: 0.450799, No Obj: 0.008739, .5R: 0.583333, .75R: 0.083333, count: 48, class_loss = 7.978070, iou_loss = 8.694020, total_loss = 16.672091 \n",
            "v3 (mse loss, Normalizer: (iou: 0.75, cls: 1.00) Region 106 Avg (IOU: -nan, GIOU: -nan), Class: -nan, Obj: -nan, No Obj: 0.000006, .5R: -nan, .75R: -nan, count: 0, class_loss = 0.000000, iou_loss = 0.000000, total_loss = 0.000000 \n",
            "v3 (mse loss, Normalizer: (iou: 0.75, cls: 1.00) Region 82 Avg (IOU: -nan, GIOU: -nan), Class: -nan, Obj: -nan, No Obj: 0.000031, .5R: -nan, .75R: -nan, count: 0, class_loss = 0.000001, iou_loss = 0.000000, total_loss = 0.000001 \n",
            "v3 (mse loss, Normalizer: (iou: 0.75, cls: 1.00) Region 94 Avg (IOU: 0.486710, GIOU: 0.443597), Class: 0.948997, Obj: 0.667016, No Obj: 0.008107, .5R: 0.617647, .75R: 0.058824, count: 34, class_loss = 4.709551, iou_loss = 6.269126, total_loss = 10.978678 \n",
            "v3 (mse loss, Normalizer: (iou: 0.75, cls: 1.00) Region 106 Avg (IOU: -nan, GIOU: -nan), Class: -nan, Obj: -nan, No Obj: 0.000006, .5R: -nan, .75R: -nan, count: 0, class_loss = 0.000000, iou_loss = 0.000000, total_loss = 0.000000 \n",
            "v3 (mse loss, Normalizer: (iou: 0.75, cls: 1.00) Region 82 Avg (IOU: -nan, GIOU: -nan), Class: -nan, Obj: -nan, No Obj: 0.000030, .5R: -nan, .75R: -nan, count: 0, class_loss = 0.000001, iou_loss = 0.000000, total_loss = 0.000001 \n",
            "v3 (mse loss, Normalizer: (iou: 0.75, cls: 1.00) Region 94 Avg (IOU: 0.569737, GIOU: 0.539620), Class: 0.967928, Obj: 0.549094, No Obj: 0.011441, .5R: 0.728571, .75R: 0.157143, count: 70, class_loss = 8.092241, iou_loss = 8.872250, total_loss = 16.964491 \n",
            "v3 (mse loss, Normalizer: (iou: 0.75, cls: 1.00) Region 106 Avg (IOU: -nan, GIOU: -nan), Class: -nan, Obj: -nan, No Obj: 0.000006, .5R: -nan, .75R: -nan, count: 0, class_loss = 0.000000, iou_loss = 0.000000, total_loss = 0.000000 \n",
            "v3 (mse loss, Normalizer: (iou: 0.75, cls: 1.00) Region 82 Avg (IOU: -nan, GIOU: -nan), Class: -nan, Obj: -nan, No Obj: 0.000030, .5R: -nan, .75R: -nan, count: 0, class_loss = 0.000000, iou_loss = 0.000000, total_loss = 0.000000 \n",
            "v3 (mse loss, Normalizer: (iou: 0.75, cls: 1.00) Region 94 Avg (IOU: 0.413043, GIOU: 0.337576), Class: 0.850974, Obj: 0.434657, No Obj: 0.002516, .5R: 0.300000, .75R: 0.100000, count: 10, class_loss = 2.009475, iou_loss = 6.309714, total_loss = 8.319189 \n",
            "v3 (mse loss, Normalizer: (iou: 0.75, cls: 1.00) Region 106 Avg (IOU: -nan, GIOU: -nan), Class: -nan, Obj: -nan, No Obj: 0.000006, .5R: -nan, .75R: -nan, count: 0, class_loss = 0.000000, iou_loss = 0.000000, total_loss = 0.000000 \n",
            "v3 (mse loss, Normalizer: (iou: 0.75, cls: 1.00) Region 82 Avg (IOU: -nan, GIOU: -nan), Class: -nan, Obj: -nan, No Obj: 0.000030, .5R: -nan, .75R: -nan, count: 0, class_loss = 0.000001, iou_loss = 0.000000, total_loss = 0.000001 \n",
            "v3 (mse loss, Normalizer: (iou: 0.75, cls: 1.00) Region 94 Avg (IOU: 0.507055, GIOU: 0.500250), Class: 0.993696, Obj: 0.616116, No Obj: 0.004794, .5R: 0.470588, .75R: 0.000000, count: 17, class_loss = 2.387915, iou_loss = 3.455130, total_loss = 5.843045 \n",
            "v3 (mse loss, Normalizer: (iou: 0.75, cls: 1.00) Region 106 Avg (IOU: -nan, GIOU: -nan), Class: -nan, Obj: -nan, No Obj: 0.000006, .5R: -nan, .75R: -nan, count: 0, class_loss = 0.000000, iou_loss = 0.000000, total_loss = 0.000000 \n",
            "v3 (mse loss, Normalizer: (iou: 0.75, cls: 1.00) Region 82 Avg (IOU: -nan, GIOU: -nan), Class: -nan, Obj: -nan, No Obj: 0.000031, .5R: -nan, .75R: -nan, count: 0, class_loss = 0.000001, iou_loss = 0.000000, total_loss = 0.000001 \n",
            "v3 (mse loss, Normalizer: (iou: 0.75, cls: 1.00) Region 94 Avg (IOU: 0.439826, GIOU: 0.415301), Class: 0.938046, Obj: 0.402030, No Obj: 0.003780, .5R: 0.466667, .75R: 0.066667, count: 15, class_loss = 3.154774, iou_loss = 3.188800, total_loss = 6.343574 \n",
            "v3 (mse loss, Normalizer: (iou: 0.75, cls: 1.00) Region 106 Avg (IOU: -nan, GIOU: -nan), Class: -nan, Obj: -nan, No Obj: 0.000006, .5R: -nan, .75R: -nan, count: 0, class_loss = 0.000000, iou_loss = 0.000000, total_loss = 0.000000 \n",
            "v3 (mse loss, Normalizer: (iou: 0.75, cls: 1.00) Region 82 Avg (IOU: -nan, GIOU: -nan), Class: -nan, Obj: -nan, No Obj: 0.000030, .5R: -nan, .75R: -nan, count: 0, class_loss = 0.000001, iou_loss = 0.000000, total_loss = 0.000001 \n",
            "v3 (mse loss, Normalizer: (iou: 0.75, cls: 1.00) Region 94 Avg (IOU: 0.461241, GIOU: 0.401780), Class: 0.911102, Obj: 0.586820, No Obj: 0.010253, .5R: 0.519231, .75R: 0.038462, count: 52, class_loss = 7.418989, iou_loss = 11.752728, total_loss = 19.171717 \n",
            "v3 (mse loss, Normalizer: (iou: 0.75, cls: 1.00) Region 106 Avg (IOU: -nan, GIOU: -nan), Class: -nan, Obj: -nan, No Obj: 0.000006, .5R: -nan, .75R: -nan, count: 0, class_loss = 0.000000, iou_loss = 0.000000, total_loss = 0.000000 \n",
            "\n",
            " 910: 3.371599, 3.394081 avg loss, 0.000686 rate, 8.293036 seconds, 58240 images\n",
            "Resizing, random_coef = 1.40 \n",
            "416 x 416 \n",
            " try to allocate additional workspace_size = 49.84 MB \n",
            " CUDA allocate done! \n",
            "Loaded: 0.000073 seconds\n",
            "v3 (mse loss, Normalizer: (iou: 0.75, cls: 1.00) Region 82 Avg (IOU: -nan, GIOU: -nan), Class: -nan, Obj: -nan, No Obj: 0.000030, .5R: -nan, .75R: -nan, count: 0, class_loss = 0.000001, iou_loss = 0.000000, total_loss = 0.000001 \n",
            "v3 (mse loss, Normalizer: (iou: 0.75, cls: 1.00) Region 94 Avg (IOU: 0.505483, GIOU: 0.477963), Class: 0.925085, Obj: 0.483333, No Obj: 0.009124, .5R: 0.541667, .75R: 0.041667, count: 48, class_loss = 9.449967, iou_loss = 10.885921, total_loss = 20.335888 \n",
            "v3 (mse loss, Normalizer: (iou: 0.75, cls: 1.00) Region 106 Avg (IOU: -nan, GIOU: -nan), Class: -nan, Obj: -nan, No Obj: 0.000006, .5R: -nan, .75R: -nan, count: 0, class_loss = 0.000001, iou_loss = 0.000000, total_loss = 0.000001 \n",
            "v3 (mse loss, Normalizer: (iou: 0.75, cls: 1.00) Region 82 Avg (IOU: -nan, GIOU: -nan), Class: -nan, Obj: -nan, No Obj: 0.000030, .5R: -nan, .75R: -nan, count: 0, class_loss = 0.000001, iou_loss = 0.000000, total_loss = 0.000001 \n",
            "v3 (mse loss, Normalizer: (iou: 0.75, cls: 1.00) Region 94 Avg (IOU: 0.603426, GIOU: 0.580033), Class: 0.911518, Obj: 0.665443, No Obj: 0.003491, .5R: 0.700000, .75R: 0.200000, count: 20, class_loss = 2.286531, iou_loss = 2.862366, total_loss = 5.148897 \n",
            "v3 (mse loss, Normalizer: (iou: 0.75, cls: 1.00) Region 106 Avg (IOU: -nan, GIOU: -nan), Class: -nan, Obj: -nan, No Obj: 0.000006, .5R: -nan, .75R: -nan, count: 0, class_loss = 0.000001, iou_loss = 0.000000, total_loss = 0.000001 \n",
            "v3 (mse loss, Normalizer: (iou: 0.75, cls: 1.00) Region 82 Avg (IOU: -nan, GIOU: -nan), Class: -nan, Obj: -nan, No Obj: 0.000031, .5R: -nan, .75R: -nan, count: 0, class_loss = 0.000001, iou_loss = 0.000000, total_loss = 0.000001 \n",
            "v3 (mse loss, Normalizer: (iou: 0.75, cls: 1.00) Region 94 Avg (IOU: 0.626202, GIOU: 0.610709), Class: 0.880028, Obj: 0.548346, No Obj: 0.003119, .5R: 0.750000, .75R: 0.300000, count: 20, class_loss = 3.049650, iou_loss = 2.591492, total_loss = 5.641142 \n",
            "v3 (mse loss, Normalizer: (iou: 0.75, cls: 1.00) Region 106 Avg (IOU: -nan, GIOU: -nan), Class: -nan, Obj: -nan, No Obj: 0.000006, .5R: -nan, .75R: -nan, count: 0, class_loss = 0.000001, iou_loss = 0.000000, total_loss = 0.000001 \n",
            "v3 (mse loss, Normalizer: (iou: 0.75, cls: 1.00) Region 82 Avg (IOU: -nan, GIOU: -nan), Class: -nan, Obj: -nan, No Obj: 0.000030, .5R: -nan, .75R: -nan, count: 0, class_loss = 0.000001, iou_loss = 0.000000, total_loss = 0.000001 \n",
            "v3 (mse loss, Normalizer: (iou: 0.75, cls: 1.00) Region 94 Avg (IOU: 0.576396, GIOU: 0.548768), Class: 0.999435, Obj: 0.453981, No Obj: 0.002679, .5R: 0.687500, .75R: 0.125000, count: 16, class_loss = 2.369201, iou_loss = 3.506935, total_loss = 5.876136 \n",
            "v3 (mse loss, Normalizer: (iou: 0.75, cls: 1.00) Region 106 Avg (IOU: -nan, GIOU: -nan), Class: -nan, Obj: -nan, No Obj: 0.000006, .5R: -nan, .75R: -nan, count: 0, class_loss = 0.000001, iou_loss = 0.000000, total_loss = 0.000001 \n",
            "v3 (mse loss, Normalizer: (iou: 0.75, cls: 1.00) Region 82 Avg (IOU: -nan, GIOU: -nan), Class: -nan, Obj: -nan, No Obj: 0.000030, .5R: -nan, .75R: -nan, count: 0, class_loss = 0.000001, iou_loss = 0.000000, total_loss = 0.000001 \n",
            "v3 (mse loss, Normalizer: (iou: 0.75, cls: 1.00) Region 94 Avg (IOU: 0.470387, GIOU: 0.391313), Class: 0.914742, Obj: 0.419834, No Obj: 0.002942, .5R: 0.400000, .75R: 0.066667, count: 15, class_loss = 2.686008, iou_loss = 3.285611, total_loss = 5.971619 \n",
            "v3 (mse loss, Normalizer: (iou: 0.75, cls: 1.00) Region 106 Avg (IOU: -nan, GIOU: -nan), Class: -nan, Obj: -nan, No Obj: 0.000006, .5R: -nan, .75R: -nan, count: 0, class_loss = 0.000001, iou_loss = 0.000000, total_loss = 0.000001 \n",
            "v3 (mse loss, Normalizer: (iou: 0.75, cls: 1.00) Region 82 Avg (IOU: -nan, GIOU: -nan), Class: -nan, Obj: -nan, No Obj: 0.000030, .5R: -nan, .75R: -nan, count: 0, class_loss = 0.000001, iou_loss = 0.000000, total_loss = 0.000001 \n",
            "v3 (mse loss, Normalizer: (iou: 0.75, cls: 1.00) Region 94 Avg (IOU: 0.574807, GIOU: 0.551320), Class: 0.977358, Obj: 0.571082, No Obj: 0.002601, .5R: 0.600000, .75R: 0.266667, count: 15, class_loss = 1.793925, iou_loss = 2.961284, total_loss = 4.755209 \n",
            "v3 (mse loss, Normalizer: (iou: 0.75, cls: 1.00) Region 106 Avg (IOU: -nan, GIOU: -nan), Class: -nan, Obj: -nan, No Obj: 0.000006, .5R: -nan, .75R: -nan, count: 0, class_loss = 0.000001, iou_loss = 0.000000, total_loss = 0.000001 \n",
            "v3 (mse loss, Normalizer: (iou: 0.75, cls: 1.00) Region 82 Avg (IOU: -nan, GIOU: -nan), Class: -nan, Obj: -nan, No Obj: 0.000030, .5R: -nan, .75R: -nan, count: 0, class_loss = 0.000001, iou_loss = 0.000000, total_loss = 0.000001 \n",
            "v3 (mse loss, Normalizer: (iou: 0.75, cls: 1.00) Region 94 Avg (IOU: 0.613781, GIOU: 0.588741), Class: 0.983460, Obj: 0.767760, No Obj: 0.004921, .5R: 0.782609, .75R: 0.260870, count: 23, class_loss = 2.421688, iou_loss = 1.961231, total_loss = 4.382919 \n",
            "v3 (mse loss, Normalizer: (iou: 0.75, cls: 1.00) Region 106 Avg (IOU: -nan, GIOU: -nan), Class: -nan, Obj: -nan, No Obj: 0.000006, .5R: -nan, .75R: -nan, count: 0, class_loss = 0.000001, iou_loss = 0.000000, total_loss = 0.000001 \n",
            "v3 (mse loss, Normalizer: (iou: 0.75, cls: 1.00) Region 82 Avg (IOU: -nan, GIOU: -nan), Class: -nan, Obj: -nan, No Obj: 0.000031, .5R: -nan, .75R: -nan, count: 0, class_loss = 0.000001, iou_loss = 0.000000, total_loss = 0.000001 \n",
            "v3 (mse loss, Normalizer: (iou: 0.75, cls: 1.00) Region 94 Avg (IOU: 0.601776, GIOU: 0.567980), Class: 0.883196, Obj: 0.503653, No Obj: 0.006592, .5R: 0.820513, .75R: 0.256410, count: 39, class_loss = 7.180047, iou_loss = 10.523079, total_loss = 17.703125 \n",
            "v3 (mse loss, Normalizer: (iou: 0.75, cls: 1.00) Region 106 Avg (IOU: -nan, GIOU: -nan), Class: -nan, Obj: -nan, No Obj: 0.000006, .5R: -nan, .75R: -nan, count: 0, class_loss = 0.000001, iou_loss = 0.000000, total_loss = 0.000001 \n",
            "v3 (mse loss, Normalizer: (iou: 0.75, cls: 1.00) Region 82 Avg (IOU: -nan, GIOU: -nan), Class: -nan, Obj: -nan, No Obj: 0.000031, .5R: -nan, .75R: -nan, count: 0, class_loss = 0.000001, iou_loss = 0.000000, total_loss = 0.000001 \n",
            "v3 (mse loss, Normalizer: (iou: 0.75, cls: 1.00) Region 94 Avg (IOU: 0.579722, GIOU: 0.554115), Class: 0.940691, Obj: 0.592170, No Obj: 0.011055, .5R: 0.693333, .75R: 0.146667, count: 75, class_loss = 9.771036, iou_loss = 14.629040, total_loss = 24.400076 \n",
            "v3 (mse loss, Normalizer: (iou: 0.75, cls: 1.00) Region 106 Avg (IOU: -nan, GIOU: -nan), Class: -nan, Obj: -nan, No Obj: 0.000007, .5R: -nan, .75R: -nan, count: 0, class_loss = 0.000001, iou_loss = 0.000000, total_loss = 0.000001 \n",
            "v3 (mse loss, Normalizer: (iou: 0.75, cls: 1.00) Region 82 Avg (IOU: -nan, GIOU: -nan), Class: -nan, Obj: -nan, No Obj: 0.000030, .5R: -nan, .75R: -nan, count: 0, class_loss = 0.000001, iou_loss = 0.000000, total_loss = 0.000001 \n",
            "v3 (mse loss, Normalizer: (iou: 0.75, cls: 1.00) Region 94 Avg (IOU: 0.612298, GIOU: 0.599868), Class: 0.961223, Obj: 0.609920, No Obj: 0.011102, .5R: 0.757143, .75R: 0.142857, count: 70, class_loss = 8.068504, iou_loss = 10.223360, total_loss = 18.291864 \n",
            "v3 (mse loss, Normalizer: (iou: 0.75, cls: 1.00) Region 106 Avg (IOU: -nan, GIOU: -nan), Class: -nan, Obj: -nan, No Obj: 0.000006, .5R: -nan, .75R: -nan, count: 0, class_loss = 0.000001, iou_loss = 0.000000, total_loss = 0.000001 \n",
            "v3 (mse loss, Normalizer: (iou: 0.75, cls: 1.00) Region 82 Avg (IOU: -nan, GIOU: -nan), Class: -nan, Obj: -nan, No Obj: 0.000030, .5R: -nan, .75R: -nan, count: 0, class_loss = 0.000001, iou_loss = 0.000000, total_loss = 0.000001 \n",
            "v3 (mse loss, Normalizer: (iou: 0.75, cls: 1.00) Region 94 Avg (IOU: 0.594055, GIOU: 0.554544), Class: 0.915954, Obj: 0.669757, No Obj: 0.003289, .5R: 0.750000, .75R: 0.200000, count: 20, class_loss = 2.098298, iou_loss = 3.699164, total_loss = 5.797462 \n",
            "v3 (mse loss, Normalizer: (iou: 0.75, cls: 1.00) Region 106 Avg (IOU: -nan, GIOU: -nan), Class: -nan, Obj: -nan, No Obj: 0.000006, .5R: -nan, .75R: -nan, count: 0, class_loss = 0.000001, iou_loss = 0.000000, total_loss = 0.000001 \n",
            "v3 (mse loss, Normalizer: (iou: 0.75, cls: 1.00) Region 82 Avg (IOU: -nan, GIOU: -nan), Class: -nan, Obj: -nan, No Obj: 0.000030, .5R: -nan, .75R: -nan, count: 0, class_loss = 0.000001, iou_loss = 0.000000, total_loss = 0.000001 \n",
            "v3 (mse loss, Normalizer: (iou: 0.75, cls: 1.00) Region 94 Avg (IOU: 0.538924, GIOU: 0.493454), Class: 0.951896, Obj: 0.733910, No Obj: 0.009755, .5R: 0.655738, .75R: 0.098361, count: 61, class_loss = 5.707462, iou_loss = 9.182682, total_loss = 14.890143 \n",
            "v3 (mse loss, Normalizer: (iou: 0.75, cls: 1.00) Region 106 Avg (IOU: -nan, GIOU: -nan), Class: -nan, Obj: -nan, No Obj: 0.000006, .5R: -nan, .75R: -nan, count: 0, class_loss = 0.000001, iou_loss = 0.000000, total_loss = 0.000001 \n",
            "v3 (mse loss, Normalizer: (iou: 0.75, cls: 1.00) Region 82 Avg (IOU: -nan, GIOU: -nan), Class: -nan, Obj: -nan, No Obj: 0.000031, .5R: -nan, .75R: -nan, count: 0, class_loss = 0.000001, iou_loss = 0.000000, total_loss = 0.000001 \n",
            "v3 (mse loss, Normalizer: (iou: 0.75, cls: 1.00) Region 94 Avg (IOU: 0.605852, GIOU: 0.577479), Class: 0.931966, Obj: 0.525066, No Obj: 0.002560, .5R: 0.769231, .75R: 0.230769, count: 13, class_loss = 2.263330, iou_loss = 1.982116, total_loss = 4.245446 \n",
            "v3 (mse loss, Normalizer: (iou: 0.75, cls: 1.00) Region 106 Avg (IOU: -nan, GIOU: -nan), Class: -nan, Obj: -nan, No Obj: 0.000006, .5R: -nan, .75R: -nan, count: 0, class_loss = 0.000001, iou_loss = 0.000000, total_loss = 0.000001 \n",
            "v3 (mse loss, Normalizer: (iou: 0.75, cls: 1.00) Region 82 Avg (IOU: -nan, GIOU: -nan), Class: -nan, Obj: -nan, No Obj: 0.000030, .5R: -nan, .75R: -nan, count: 0, class_loss = 0.000001, iou_loss = 0.000000, total_loss = 0.000001 \n",
            "v3 (mse loss, Normalizer: (iou: 0.75, cls: 1.00) Region 94 Avg (IOU: 0.531846, GIOU: 0.484905), Class: 0.928169, Obj: 0.633866, No Obj: 0.010251, .5R: 0.583333, .75R: 0.152778, count: 72, class_loss = 9.212385, iou_loss = 10.148203, total_loss = 19.360588 \n",
            "v3 (mse loss, Normalizer: (iou: 0.75, cls: 1.00) Region 106 Avg (IOU: -nan, GIOU: -nan), Class: -nan, Obj: -nan, No Obj: 0.000006, .5R: -nan, .75R: -nan, count: 0, class_loss = 0.000001, iou_loss = 0.000000, total_loss = 0.000001 \n",
            "v3 (mse loss, Normalizer: (iou: 0.75, cls: 1.00) Region 82 Avg (IOU: -nan, GIOU: -nan), Class: -nan, Obj: -nan, No Obj: 0.000032, .5R: -nan, .75R: -nan, count: 0, class_loss = 0.000001, iou_loss = 0.000000, total_loss = 0.000001 \n",
            "v3 (mse loss, Normalizer: (iou: 0.75, cls: 1.00) Region 94 Avg (IOU: 0.559995, GIOU: 0.525135), Class: 0.942183, Obj: 0.757959, No Obj: 0.006336, .5R: 0.631579, .75R: 0.184211, count: 38, class_loss = 4.114972, iou_loss = 5.026368, total_loss = 9.141340 \n",
            "v3 (mse loss, Normalizer: (iou: 0.75, cls: 1.00) Region 106 Avg (IOU: -nan, GIOU: -nan), Class: -nan, Obj: -nan, No Obj: 0.000006, .5R: -nan, .75R: -nan, count: 0, class_loss = 0.000001, iou_loss = 0.000000, total_loss = 0.000001 \n",
            "v3 (mse loss, Normalizer: (iou: 0.75, cls: 1.00) Region 82 Avg (IOU: -nan, GIOU: -nan), Class: -nan, Obj: -nan, No Obj: 0.000031, .5R: -nan, .75R: -nan, count: 0, class_loss = 0.000001, iou_loss = 0.000000, total_loss = 0.000001 \n",
            "v3 (mse loss, Normalizer: (iou: 0.75, cls: 1.00) Region 94 Avg (IOU: 0.663317, GIOU: 0.657958), Class: 0.982558, Obj: 0.608917, No Obj: 0.003362, .5R: 0.882353, .75R: 0.352941, count: 17, class_loss = 1.801321, iou_loss = 1.952380, total_loss = 3.753701 \n",
            "v3 (mse loss, Normalizer: (iou: 0.75, cls: 1.00) Region 106 Avg (IOU: -nan, GIOU: -nan), Class: -nan, Obj: -nan, No Obj: 0.000006, .5R: -nan, .75R: -nan, count: 0, class_loss = 0.000001, iou_loss = 0.000000, total_loss = 0.000001 \n",
            "\n",
            " 911: 3.535325, 3.408206 avg loss, 0.000689 rate, 11.114364 seconds, 58304 images\n",
            "Loaded: 0.000056 seconds\n",
            "v3 (mse loss, Normalizer: (iou: 0.75, cls: 1.00) Region 82 Avg (IOU: -nan, GIOU: -nan), Class: -nan, Obj: -nan, No Obj: 0.000030, .5R: -nan, .75R: -nan, count: 0, class_loss = 0.000001, iou_loss = 0.000000, total_loss = 0.000001 \n",
            "v3 (mse loss, Normalizer: (iou: 0.75, cls: 1.00) Region 94 Avg (IOU: 0.553436, GIOU: 0.533499), Class: 0.970685, Obj: 0.522405, No Obj: 0.005327, .5R: 0.558140, .75R: 0.186047, count: 43, class_loss = 5.491519, iou_loss = 7.135755, total_loss = 12.627274 \n",
            "v3 (mse loss, Normalizer: (iou: 0.75, cls: 1.00) Region 106 Avg (IOU: -nan, GIOU: -nan), Class: -nan, Obj: -nan, No Obj: 0.000006, .5R: -nan, .75R: -nan, count: 0, class_loss = 0.000001, iou_loss = 0.000000, total_loss = 0.000001 \n",
            "v3 (mse loss, Normalizer: (iou: 0.75, cls: 1.00) Region 82 Avg (IOU: -nan, GIOU: -nan), Class: -nan, Obj: -nan, No Obj: 0.000030, .5R: -nan, .75R: -nan, count: 0, class_loss = 0.000001, iou_loss = 0.000000, total_loss = 0.000001 \n",
            "v3 (mse loss, Normalizer: (iou: 0.75, cls: 1.00) Region 94 Avg (IOU: 0.482241, GIOU: 0.433887), Class: 0.970745, Obj: 0.313975, No Obj: 0.001636, .5R: 0.571429, .75R: 0.000000, count: 14, class_loss = 2.332712, iou_loss = 2.845482, total_loss = 5.178195 \n",
            "v3 (mse loss, Normalizer: (iou: 0.75, cls: 1.00) Region 106 Avg (IOU: -nan, GIOU: -nan), Class: -nan, Obj: -nan, No Obj: 0.000006, .5R: -nan, .75R: -nan, count: 0, class_loss = 0.000001, iou_loss = 0.000000, total_loss = 0.000001 \n",
            "v3 (mse loss, Normalizer: (iou: 0.75, cls: 1.00) Region 82 Avg (IOU: -nan, GIOU: -nan), Class: -nan, Obj: -nan, No Obj: 0.000030, .5R: -nan, .75R: -nan, count: 0, class_loss = 0.000001, iou_loss = 0.000000, total_loss = 0.000001 \n",
            "v3 (mse loss, Normalizer: (iou: 0.75, cls: 1.00) Region 94 Avg (IOU: 0.513404, GIOU: 0.493847), Class: 0.940077, Obj: 0.436716, No Obj: 0.006406, .5R: 0.553191, .75R: 0.063830, count: 47, class_loss = 7.549286, iou_loss = 10.957390, total_loss = 18.506676 \n",
            "v3 (mse loss, Normalizer: (iou: 0.75, cls: 1.00) Region 106 Avg (IOU: -nan, GIOU: -nan), Class: -nan, Obj: -nan, No Obj: 0.000006, .5R: -nan, .75R: -nan, count: 0, class_loss = 0.000001, iou_loss = 0.000000, total_loss = 0.000001 \n",
            "v3 (mse loss, Normalizer: (iou: 0.75, cls: 1.00) Region 82 Avg (IOU: -nan, GIOU: -nan), Class: -nan, Obj: -nan, No Obj: 0.000030, .5R: -nan, .75R: -nan, count: 0, class_loss = 0.000001, iou_loss = 0.000000, total_loss = 0.000001 \n",
            "v3 (mse loss, Normalizer: (iou: 0.75, cls: 1.00) Region 94 Avg (IOU: 0.522180, GIOU: 0.514054), Class: 0.952151, Obj: 0.574054, No Obj: 0.006696, .5R: 0.545455, .75R: 0.054545, count: 55, class_loss = 5.487088, iou_loss = 11.361541, total_loss = 16.848629 \n",
            "v3 (mse loss, Normalizer: (iou: 0.75, cls: 1.00) Region 106 Avg (IOU: -nan, GIOU: -nan), Class: -nan, Obj: -nan, No Obj: 0.000006, .5R: -nan, .75R: -nan, count: 0, class_loss = 0.000001, iou_loss = 0.000000, total_loss = 0.000001 \n",
            "v3 (mse loss, Normalizer: (iou: 0.75, cls: 1.00) Region 82 Avg (IOU: -nan, GIOU: -nan), Class: -nan, Obj: -nan, No Obj: 0.000031, .5R: -nan, .75R: -nan, count: 0, class_loss = 0.000001, iou_loss = 0.000000, total_loss = 0.000001 \n",
            "v3 (mse loss, Normalizer: (iou: 0.75, cls: 1.00) Region 94 Avg (IOU: 0.459927, GIOU: 0.437454), Class: 0.935624, Obj: 0.585596, No Obj: 0.006844, .5R: 0.413793, .75R: 0.068966, count: 58, class_loss = 6.658187, iou_loss = 11.598175, total_loss = 18.256363 \n",
            "v3 (mse loss, Normalizer: (iou: 0.75, cls: 1.00) Region 106 Avg (IOU: -nan, GIOU: -nan), Class: -nan, Obj: -nan, No Obj: 0.000006, .5R: -nan, .75R: -nan, count: 0, class_loss = 0.000001, iou_loss = 0.000000, total_loss = 0.000001 \n",
            "v3 (mse loss, Normalizer: (iou: 0.75, cls: 1.00) Region 82 Avg (IOU: -nan, GIOU: -nan), Class: -nan, Obj: -nan, No Obj: 0.000032, .5R: -nan, .75R: -nan, count: 0, class_loss = 0.000001, iou_loss = 0.000000, total_loss = 0.000001 \n",
            "v3 (mse loss, Normalizer: (iou: 0.75, cls: 1.00) Region 94 Avg (IOU: 0.625024, GIOU: 0.619924), Class: 0.973427, Obj: 0.512013, No Obj: 0.002929, .5R: 0.800000, .75R: 0.200000, count: 25, class_loss = 2.429271, iou_loss = 2.860712, total_loss = 5.289983 \n",
            "v3 (mse loss, Normalizer: (iou: 0.75, cls: 1.00) Region 106 Avg (IOU: -nan, GIOU: -nan), Class: -nan, Obj: -nan, No Obj: 0.000006, .5R: -nan, .75R: -nan, count: 0, class_loss = 0.000001, iou_loss = 0.000000, total_loss = 0.000001 \n",
            "v3 (mse loss, Normalizer: (iou: 0.75, cls: 1.00) Region 82 Avg (IOU: -nan, GIOU: -nan), Class: -nan, Obj: -nan, No Obj: 0.000031, .5R: -nan, .75R: -nan, count: 0, class_loss = 0.000001, iou_loss = 0.000000, total_loss = 0.000001 \n",
            "v3 (mse loss, Normalizer: (iou: 0.75, cls: 1.00) Region 94 Avg (IOU: 0.494918, GIOU: 0.485764), Class: 0.999309, Obj: 0.546506, No Obj: 0.001580, .5R: 0.545455, .75R: 0.090909, count: 11, class_loss = 1.223385, iou_loss = 5.996889, total_loss = 7.220274 \n",
            "v3 (mse loss, Normalizer: (iou: 0.75, cls: 1.00) Region 106 Avg (IOU: -nan, GIOU: -nan), Class: -nan, Obj: -nan, No Obj: 0.000006, .5R: -nan, .75R: -nan, count: 0, class_loss = 0.000001, iou_loss = 0.000000, total_loss = 0.000001 \n",
            "v3 (mse loss, Normalizer: (iou: 0.75, cls: 1.00) Region 82 Avg (IOU: -nan, GIOU: -nan), Class: -nan, Obj: -nan, No Obj: 0.000029, .5R: -nan, .75R: -nan, count: 0, class_loss = 0.000001, iou_loss = 0.000000, total_loss = 0.000001 \n",
            "v3 (mse loss, Normalizer: (iou: 0.75, cls: 1.00) Region 94 Avg (IOU: 0.518479, GIOU: 0.501478), Class: 0.944198, Obj: 0.379868, No Obj: 0.004530, .5R: 0.558824, .75R: 0.029412, count: 34, class_loss = 5.913822, iou_loss = 9.026780, total_loss = 14.940602 \n",
            "v3 (mse loss, Normalizer: (iou: 0.75, cls: 1.00) Region 106 Avg (IOU: -nan, GIOU: -nan), Class: -nan, Obj: -nan, No Obj: 0.000006, .5R: -nan, .75R: -nan, count: 0, class_loss = 0.000001, iou_loss = 0.000000, total_loss = 0.000001 \n",
            "v3 (mse loss, Normalizer: (iou: 0.75, cls: 1.00) Region 82 Avg (IOU: -nan, GIOU: -nan), Class: -nan, Obj: -nan, No Obj: 0.000030, .5R: -nan, .75R: -nan, count: 0, class_loss = 0.000001, iou_loss = 0.000000, total_loss = 0.000001 \n",
            "v3 (mse loss, Normalizer: (iou: 0.75, cls: 1.00) Region 94 Avg (IOU: 0.496923, GIOU: 0.487857), Class: 0.962041, Obj: 0.478897, No Obj: 0.003780, .5R: 0.500000, .75R: 0.000000, count: 36, class_loss = 4.136282, iou_loss = 7.422608, total_loss = 11.558890 \n",
            "v3 (mse loss, Normalizer: (iou: 0.75, cls: 1.00) Region 106 Avg (IOU: -nan, GIOU: -nan), Class: -nan, Obj: -nan, No Obj: 0.000006, .5R: -nan, .75R: -nan, count: 0, class_loss = 0.000001, iou_loss = 0.000000, total_loss = 0.000001 \n",
            "v3 (mse loss, Normalizer: (iou: 0.75, cls: 1.00) Region 82 Avg (IOU: -nan, GIOU: -nan), Class: -nan, Obj: -nan, No Obj: 0.000029, .5R: -nan, .75R: -nan, count: 0, class_loss = 0.000001, iou_loss = 0.000000, total_loss = 0.000001 \n",
            "v3 (mse loss, Normalizer: (iou: 0.75, cls: 1.00) Region 94 Avg (IOU: 0.528821, GIOU: 0.498793), Class: 0.940924, Obj: 0.307449, No Obj: 0.002545, .5R: 0.600000, .75R: 0.160000, count: 25, class_loss = 4.517292, iou_loss = 6.545364, total_loss = 11.062656 \n",
            "v3 (mse loss, Normalizer: (iou: 0.75, cls: 1.00) Region 106 Avg (IOU: -nan, GIOU: -nan), Class: -nan, Obj: -nan, No Obj: 0.000006, .5R: -nan, .75R: -nan, count: 0, class_loss = 0.000001, iou_loss = 0.000000, total_loss = 0.000001 \n",
            "v3 (mse loss, Normalizer: (iou: 0.75, cls: 1.00) Region 82 Avg (IOU: -nan, GIOU: -nan), Class: -nan, Obj: -nan, No Obj: 0.000031, .5R: -nan, .75R: -nan, count: 0, class_loss = 0.000001, iou_loss = 0.000000, total_loss = 0.000001 \n",
            "v3 (mse loss, Normalizer: (iou: 0.75, cls: 1.00) Region 94 Avg (IOU: 0.463792, GIOU: 0.455672), Class: 0.969261, Obj: 0.495719, No Obj: 0.002592, .5R: 0.347826, .75R: 0.000000, count: 23, class_loss = 2.790771, iou_loss = 6.030890, total_loss = 8.821661 \n",
            "v3 (mse loss, Normalizer: (iou: 0.75, cls: 1.00) Region 106 Avg (IOU: -nan, GIOU: -nan), Class: -nan, Obj: -nan, No Obj: 0.000006, .5R: -nan, .75R: -nan, count: 0, class_loss = 0.000001, iou_loss = 0.000000, total_loss = 0.000001 \n",
            "v3 (mse loss, Normalizer: (iou: 0.75, cls: 1.00) Region 82 Avg (IOU: -nan, GIOU: -nan), Class: -nan, Obj: -nan, No Obj: 0.000030, .5R: -nan, .75R: -nan, count: 0, class_loss = 0.000001, iou_loss = 0.000000, total_loss = 0.000001 \n",
            "v3 (mse loss, Normalizer: (iou: 0.75, cls: 1.00) Region 94 Avg (IOU: 0.534453, GIOU: 0.529637), Class: 0.988105, Obj: 0.512598, No Obj: 0.002983, .5R: 0.500000, .75R: 0.153846, count: 26, class_loss = 2.731636, iou_loss = 4.794059, total_loss = 7.525695 \n",
            "v3 (mse loss, Normalizer: (iou: 0.75, cls: 1.00) Region 106 Avg (IOU: -nan, GIOU: -nan), Class: -nan, Obj: -nan, No Obj: 0.000006, .5R: -nan, .75R: -nan, count: 0, class_loss = 0.000001, iou_loss = 0.000000, total_loss = 0.000001 \n",
            "v3 (mse loss, Normalizer: (iou: 0.75, cls: 1.00) Region 82 Avg (IOU: -nan, GIOU: -nan), Class: -nan, Obj: -nan, No Obj: 0.000030, .5R: -nan, .75R: -nan, count: 0, class_loss = 0.000001, iou_loss = 0.000000, total_loss = 0.000001 \n",
            "v3 (mse loss, Normalizer: (iou: 0.75, cls: 1.00) Region 94 Avg (IOU: 0.524279, GIOU: 0.515074), Class: 0.995393, Obj: 0.683176, No Obj: 0.003891, .5R: 0.666667, .75R: 0.000000, count: 30, class_loss = 1.926839, iou_loss = 5.840791, total_loss = 7.767629 \n",
            "v3 (mse loss, Normalizer: (iou: 0.75, cls: 1.00) Region 106 Avg (IOU: -nan, GIOU: -nan), Class: -nan, Obj: -nan, No Obj: 0.000006, .5R: -nan, .75R: -nan, count: 0, class_loss = 0.000001, iou_loss = 0.000000, total_loss = 0.000001 \n",
            "v3 (mse loss, Normalizer: (iou: 0.75, cls: 1.00) Region 82 Avg (IOU: -nan, GIOU: -nan), Class: -nan, Obj: -nan, No Obj: 0.000030, .5R: -nan, .75R: -nan, count: 0, class_loss = 0.000001, iou_loss = 0.000000, total_loss = 0.000001 \n",
            "v3 (mse loss, Normalizer: (iou: 0.75, cls: 1.00) Region 94 Avg (IOU: 0.544374, GIOU: 0.531717), Class: 0.936619, Obj: 0.541514, No Obj: 0.006995, .5R: 0.596491, .75R: 0.122807, count: 57, class_loss = 6.928844, iou_loss = 10.425781, total_loss = 17.354626 \n",
            "v3 (mse loss, Normalizer: (iou: 0.75, cls: 1.00) Region 106 Avg (IOU: -nan, GIOU: -nan), Class: -nan, Obj: -nan, No Obj: 0.000006, .5R: -nan, .75R: -nan, count: 0, class_loss = 0.000001, iou_loss = 0.000000, total_loss = 0.000001 \n",
            "v3 (mse loss, Normalizer: (iou: 0.75, cls: 1.00) Region 82 Avg (IOU: -nan, GIOU: -nan), Class: -nan, Obj: -nan, No Obj: 0.000030, .5R: -nan, .75R: -nan, count: 0, class_loss = 0.000001, iou_loss = 0.000000, total_loss = 0.000001 \n",
            "v3 (mse loss, Normalizer: (iou: 0.75, cls: 1.00) Region 94 Avg (IOU: 0.491441, GIOU: 0.479662), Class: 0.949947, Obj: 0.473204, No Obj: 0.003190, .5R: 0.473684, .75R: 0.105263, count: 19, class_loss = 2.880421, iou_loss = 4.758948, total_loss = 7.639369 \n",
            "v3 (mse loss, Normalizer: (iou: 0.75, cls: 1.00) Region 106 Avg (IOU: -nan, GIOU: -nan), Class: -nan, Obj: -nan, No Obj: 0.000006, .5R: -nan, .75R: -nan, count: 0, class_loss = 0.000001, iou_loss = 0.000000, total_loss = 0.000001 \n",
            "v3 (mse loss, Normalizer: (iou: 0.75, cls: 1.00) Region 82 Avg (IOU: -nan, GIOU: -nan), Class: -nan, Obj: -nan, No Obj: 0.000030, .5R: -nan, .75R: -nan, count: 0, class_loss = 0.000001, iou_loss = 0.000000, total_loss = 0.000001 \n",
            "v3 (mse loss, Normalizer: (iou: 0.75, cls: 1.00) Region 94 Avg (IOU: 0.598112, GIOU: 0.590397), Class: 0.958105, Obj: 0.410316, No Obj: 0.001955, .5R: 0.866667, .75R: 0.066667, count: 15, class_loss = 2.369925, iou_loss = 2.435302, total_loss = 4.805226 \n",
            "v3 (mse loss, Normalizer: (iou: 0.75, cls: 1.00) Region 106 Avg (IOU: -nan, GIOU: -nan), Class: -nan, Obj: -nan, No Obj: 0.000006, .5R: -nan, .75R: -nan, count: 0, class_loss = 0.000001, iou_loss = 0.000000, total_loss = 0.000001 \n",
            "\n",
            " 912: 3.654245, 3.432810 avg loss, 0.000692 rate, 11.407867 seconds, 58368 images\n",
            "Loaded: 0.000061 seconds\n",
            "v3 (mse loss, Normalizer: (iou: 0.75, cls: 1.00) Region 82 Avg (IOU: -nan, GIOU: -nan), Class: -nan, Obj: -nan, No Obj: 0.000029, .5R: -nan, .75R: -nan, count: 0, class_loss = 0.000001, iou_loss = 0.000000, total_loss = 0.000001 \n",
            "v3 (mse loss, Normalizer: (iou: 0.75, cls: 1.00) Region 94 Avg (IOU: 0.541643, GIOU: 0.503954), Class: 0.951887, Obj: 0.509862, No Obj: 0.004524, .5R: 0.611111, .75R: 0.129630, count: 54, class_loss = 6.007445, iou_loss = 6.275826, total_loss = 12.283271 \n",
            "v3 (mse loss, Normalizer: (iou: 0.75, cls: 1.00) Region 106 Avg (IOU: -nan, GIOU: -nan), Class: -nan, Obj: -nan, No Obj: 0.000006, .5R: -nan, .75R: -nan, count: 0, class_loss = 0.000000, iou_loss = 0.000000, total_loss = 0.000000 \n",
            "v3 (mse loss, Normalizer: (iou: 0.75, cls: 1.00) Region 82 Avg (IOU: -nan, GIOU: -nan), Class: -nan, Obj: -nan, No Obj: 0.000030, .5R: -nan, .75R: -nan, count: 0, class_loss = 0.000001, iou_loss = 0.000000, total_loss = 0.000001 \n",
            "v3 (mse loss, Normalizer: (iou: 0.75, cls: 1.00) Region 94 Avg (IOU: 0.574479, GIOU: 0.545707), Class: 0.947382, Obj: 0.433695, No Obj: 0.003742, .5R: 0.720930, .75R: 0.186047, count: 43, class_loss = 5.671464, iou_loss = 6.207538, total_loss = 11.879002 \n",
            "v3 (mse loss, Normalizer: (iou: 0.75, cls: 1.00) Region 106 Avg (IOU: -nan, GIOU: -nan), Class: -nan, Obj: -nan, No Obj: 0.000006, .5R: -nan, .75R: -nan, count: 0, class_loss = 0.000001, iou_loss = 0.000000, total_loss = 0.000001 \n",
            "v3 (mse loss, Normalizer: (iou: 0.75, cls: 1.00) Region 82 Avg (IOU: -nan, GIOU: -nan), Class: -nan, Obj: -nan, No Obj: 0.000031, .5R: -nan, .75R: -nan, count: 0, class_loss = 0.000001, iou_loss = 0.000000, total_loss = 0.000001 \n",
            "v3 (mse loss, Normalizer: (iou: 0.75, cls: 1.00) Region 94 Avg (IOU: 0.613942, GIOU: 0.594504), Class: 0.996062, Obj: 0.459667, No Obj: 0.001239, .5R: 0.666667, .75R: 0.250000, count: 12, class_loss = 1.301376, iou_loss = 1.613878, total_loss = 2.915254 \n",
            "v3 (mse loss, Normalizer: (iou: 0.75, cls: 1.00) Region 106 Avg (IOU: -nan, GIOU: -nan), Class: -nan, Obj: -nan, No Obj: 0.000006, .5R: -nan, .75R: -nan, count: 0, class_loss = 0.000001, iou_loss = 0.000000, total_loss = 0.000001 \n",
            "v3 (mse loss, Normalizer: (iou: 0.75, cls: 1.00) Region 82 Avg (IOU: -nan, GIOU: -nan), Class: -nan, Obj: -nan, No Obj: 0.000030, .5R: -nan, .75R: -nan, count: 0, class_loss = 0.000001, iou_loss = 0.000000, total_loss = 0.000001 \n",
            "v3 (mse loss, Normalizer: (iou: 0.75, cls: 1.00) Region 94 Avg (IOU: 0.599033, GIOU: 0.555223), Class: 0.882945, Obj: 0.390571, No Obj: 0.002829, .5R: 0.771429, .75R: 0.228571, count: 35, class_loss = 5.128740, iou_loss = 6.753569, total_loss = 11.882309 \n",
            "v3 (mse loss, Normalizer: (iou: 0.75, cls: 1.00) Region 106 Avg (IOU: -nan, GIOU: -nan), Class: -nan, Obj: -nan, No Obj: 0.000006, .5R: -nan, .75R: -nan, count: 0, class_loss = 0.000001, iou_loss = 0.000000, total_loss = 0.000001 \n",
            "v3 (mse loss, Normalizer: (iou: 0.75, cls: 1.00) Region 82 Avg (IOU: -nan, GIOU: -nan), Class: -nan, Obj: -nan, No Obj: 0.000030, .5R: -nan, .75R: -nan, count: 0, class_loss = 0.000001, iou_loss = 0.000000, total_loss = 0.000001 \n",
            "v3 (mse loss, Normalizer: (iou: 0.75, cls: 1.00) Region 94 Avg (IOU: 0.653830, GIOU: 0.641094), Class: 0.988553, Obj: 0.407250, No Obj: 0.001514, .5R: 0.923077, .75R: 0.230769, count: 13, class_loss = 1.622349, iou_loss = 1.607410, total_loss = 3.229759 \n",
            "v3 (mse loss, Normalizer: (iou: 0.75, cls: 1.00) Region 106 Avg (IOU: -nan, GIOU: -nan), Class: -nan, Obj: -nan, No Obj: 0.000006, .5R: -nan, .75R: -nan, count: 0, class_loss = 0.000001, iou_loss = 0.000000, total_loss = 0.000001 \n",
            "v3 (mse loss, Normalizer: (iou: 0.75, cls: 1.00) Region 82 Avg (IOU: -nan, GIOU: -nan), Class: -nan, Obj: -nan, No Obj: 0.000030, .5R: -nan, .75R: -nan, count: 0, class_loss = 0.000001, iou_loss = 0.000000, total_loss = 0.000001 \n",
            "v3 (mse loss, Normalizer: (iou: 0.75, cls: 1.00) Region 94 Avg (IOU: 0.420893, GIOU: 0.415060), Class: 0.988262, Obj: 0.359437, No Obj: 0.001294, .5R: 0.363636, .75R: 0.090909, count: 11, class_loss = 1.616881, iou_loss = 3.899964, total_loss = 5.516844 \n",
            "v3 (mse loss, Normalizer: (iou: 0.75, cls: 1.00) Region 106 Avg (IOU: -nan, GIOU: -nan), Class: -nan, Obj: -nan, No Obj: 0.000006, .5R: -nan, .75R: -nan, count: 0, class_loss = 0.000001, iou_loss = 0.000000, total_loss = 0.000001 \n",
            "v3 (mse loss, Normalizer: (iou: 0.75, cls: 1.00) Region 82 Avg (IOU: -nan, GIOU: -nan), Class: -nan, Obj: -nan, No Obj: 0.000029, .5R: -nan, .75R: -nan, count: 0, class_loss = 0.000001, iou_loss = 0.000000, total_loss = 0.000001 \n",
            "v3 (mse loss, Normalizer: (iou: 0.75, cls: 1.00) Region 94 Avg (IOU: 0.495734, GIOU: 0.433047), Class: 0.944406, Obj: 0.525955, No Obj: 0.005432, .5R: 0.596491, .75R: 0.140351, count: 57, class_loss = 6.592403, iou_loss = 11.218462, total_loss = 17.810865 \n",
            "v3 (mse loss, Normalizer: (iou: 0.75, cls: 1.00) Region 106 Avg (IOU: -nan, GIOU: -nan), Class: -nan, Obj: -nan, No Obj: 0.000006, .5R: -nan, .75R: -nan, count: 0, class_loss = 0.000001, iou_loss = 0.000000, total_loss = 0.000001 \n",
            "v3 (mse loss, Normalizer: (iou: 0.75, cls: 1.00) Region 82 Avg (IOU: -nan, GIOU: -nan), Class: -nan, Obj: -nan, No Obj: 0.000030, .5R: -nan, .75R: -nan, count: 0, class_loss = 0.000001, iou_loss = 0.000000, total_loss = 0.000001 \n",
            "v3 (mse loss, Normalizer: (iou: 0.75, cls: 1.00) Region 94 Avg (IOU: 0.611288, GIOU: 0.573008), Class: 0.947157, Obj: 0.585164, No Obj: 0.004550, .5R: 0.847826, .75R: 0.217391, count: 46, class_loss = 3.950075, iou_loss = 8.488876, total_loss = 12.438951 \n",
            "v3 (mse loss, Normalizer: (iou: 0.75, cls: 1.00) Region 106 Avg (IOU: -nan, GIOU: -nan), Class: -nan, Obj: -nan, No Obj: 0.000006, .5R: -nan, .75R: -nan, count: 0, class_loss = 0.000001, iou_loss = 0.000000, total_loss = 0.000001 \n",
            "v3 (mse loss, Normalizer: (iou: 0.75, cls: 1.00) Region 82 Avg (IOU: -nan, GIOU: -nan), Class: -nan, Obj: -nan, No Obj: 0.000030, .5R: -nan, .75R: -nan, count: 0, class_loss = 0.000001, iou_loss = 0.000000, total_loss = 0.000001 \n",
            "v3 (mse loss, Normalizer: (iou: 0.75, cls: 1.00) Region 94 Avg (IOU: 0.584047, GIOU: 0.551641), Class: 0.926572, Obj: 0.540985, No Obj: 0.009380, .5R: 0.701149, .75R: 0.218391, count: 87, class_loss = 9.955651, iou_loss = 12.665210, total_loss = 22.620861 \n",
            "v3 (mse loss, Normalizer: (iou: 0.75, cls: 1.00) Region 106 Avg (IOU: -nan, GIOU: -nan), Class: -nan, Obj: -nan, No Obj: 0.000006, .5R: -nan, .75R: -nan, count: 0, class_loss = 0.000000, iou_loss = 0.000000, total_loss = 0.000000 \n",
            "v3 (mse loss, Normalizer: (iou: 0.75, cls: 1.00) Region 82 Avg (IOU: -nan, GIOU: -nan), Class: -nan, Obj: -nan, No Obj: 0.000029, .5R: -nan, .75R: -nan, count: 0, class_loss = 0.000001, iou_loss = 0.000000, total_loss = 0.000001 \n",
            "v3 (mse loss, Normalizer: (iou: 0.75, cls: 1.00) Region 94 Avg (IOU: 0.628009, GIOU: 0.601261), Class: 0.922578, Obj: 0.478764, No Obj: 0.004707, .5R: 0.765957, .75R: 0.234043, count: 47, class_loss = 5.833728, iou_loss = 8.727411, total_loss = 14.561139 \n",
            "v3 (mse loss, Normalizer: (iou: 0.75, cls: 1.00) Region 106 Avg (IOU: -nan, GIOU: -nan), Class: -nan, Obj: -nan, No Obj: 0.000006, .5R: -nan, .75R: -nan, count: 0, class_loss = 0.000001, iou_loss = 0.000000, total_loss = 0.000001 \n",
            "v3 (mse loss, Normalizer: (iou: 0.75, cls: 1.00) Region 82 Avg (IOU: -nan, GIOU: -nan), Class: -nan, Obj: -nan, No Obj: 0.000030, .5R: -nan, .75R: -nan, count: 0, class_loss = 0.000001, iou_loss = 0.000000, total_loss = 0.000001 \n",
            "v3 (mse loss, Normalizer: (iou: 0.75, cls: 1.00) Region 94 Avg (IOU: 0.657065, GIOU: 0.623191), Class: 0.894313, Obj: 0.390294, No Obj: 0.001446, .5R: 1.000000, .75R: 0.266667, count: 15, class_loss = 2.132575, iou_loss = 2.437683, total_loss = 4.570258 \n",
            "v3 (mse loss, Normalizer: (iou: 0.75, cls: 1.00) Region 106 Avg (IOU: -nan, GIOU: -nan), Class: -nan, Obj: -nan, No Obj: 0.000006, .5R: -nan, .75R: -nan, count: 0, class_loss = 0.000001, iou_loss = 0.000000, total_loss = 0.000001 \n",
            "v3 (mse loss, Normalizer: (iou: 0.75, cls: 1.00) Region 82 Avg (IOU: -nan, GIOU: -nan), Class: -nan, Obj: -nan, No Obj: 0.000029, .5R: -nan, .75R: -nan, count: 0, class_loss = 0.000001, iou_loss = 0.000000, total_loss = 0.000001 \n",
            "v3 (mse loss, Normalizer: (iou: 0.75, cls: 1.00) Region 94 Avg (IOU: 0.661940, GIOU: 0.642276), Class: 0.984456, Obj: 0.417167, No Obj: 0.001607, .5R: 0.875000, .75R: 0.250000, count: 16, class_loss = 1.857861, iou_loss = 1.714535, total_loss = 3.572396 \n",
            "v3 (mse loss, Normalizer: (iou: 0.75, cls: 1.00) Region 106 Avg (IOU: -nan, GIOU: -nan), Class: -nan, Obj: -nan, No Obj: 0.000006, .5R: -nan, .75R: -nan, count: 0, class_loss = 0.000001, iou_loss = 0.000000, total_loss = 0.000001 \n",
            "v3 (mse loss, Normalizer: (iou: 0.75, cls: 1.00) Region 82 Avg (IOU: -nan, GIOU: -nan), Class: -nan, Obj: -nan, No Obj: 0.000030, .5R: -nan, .75R: -nan, count: 0, class_loss = 0.000001, iou_loss = 0.000000, total_loss = 0.000001 \n",
            "v3 (mse loss, Normalizer: (iou: 0.75, cls: 1.00) Region 94 Avg (IOU: 0.650342, GIOU: 0.631843), Class: 0.978546, Obj: 0.413522, No Obj: 0.002074, .5R: 0.807692, .75R: 0.307692, count: 26, class_loss = 3.003915, iou_loss = 3.605054, total_loss = 6.608969 \n",
            "v3 (mse loss, Normalizer: (iou: 0.75, cls: 1.00) Region 106 Avg (IOU: -nan, GIOU: -nan), Class: -nan, Obj: -nan, No Obj: 0.000006, .5R: -nan, .75R: -nan, count: 0, class_loss = 0.000000, iou_loss = 0.000000, total_loss = 0.000000 \n",
            "v3 (mse loss, Normalizer: (iou: 0.75, cls: 1.00) Region 82 Avg (IOU: -nan, GIOU: -nan), Class: -nan, Obj: -nan, No Obj: 0.000030, .5R: -nan, .75R: -nan, count: 0, class_loss = 0.000001, iou_loss = 0.000000, total_loss = 0.000001 \n",
            "v3 (mse loss, Normalizer: (iou: 0.75, cls: 1.00) Region 94 Avg (IOU: 0.615358, GIOU: 0.585573), Class: 0.983186, Obj: 0.521620, No Obj: 0.010234, .5R: 0.812500, .75R: 0.197917, count: 96, class_loss = 9.925787, iou_loss = 12.765451, total_loss = 22.691238 \n",
            "v3 (mse loss, Normalizer: (iou: 0.75, cls: 1.00) Region 106 Avg (IOU: -nan, GIOU: -nan), Class: -nan, Obj: -nan, No Obj: 0.000006, .5R: -nan, .75R: -nan, count: 0, class_loss = 0.000001, iou_loss = 0.000000, total_loss = 0.000001 \n",
            "v3 (mse loss, Normalizer: (iou: 0.75, cls: 1.00) Region 82 Avg (IOU: -nan, GIOU: -nan), Class: -nan, Obj: -nan, No Obj: 0.000030, .5R: -nan, .75R: -nan, count: 0, class_loss = 0.000001, iou_loss = 0.000000, total_loss = 0.000001 \n",
            "v3 (mse loss, Normalizer: (iou: 0.75, cls: 1.00) Region 94 Avg (IOU: 0.660597, GIOU: 0.647251), Class: 0.918886, Obj: 0.249393, No Obj: 0.001785, .5R: 0.964286, .75R: 0.214286, count: 28, class_loss = 4.765939, iou_loss = 4.371383, total_loss = 9.137322 \n",
            "v3 (mse loss, Normalizer: (iou: 0.75, cls: 1.00) Region 106 Avg (IOU: -nan, GIOU: -nan), Class: -nan, Obj: -nan, No Obj: 0.000006, .5R: -nan, .75R: -nan, count: 0, class_loss = 0.000001, iou_loss = 0.000000, total_loss = 0.000001 \n",
            "v3 (mse loss, Normalizer: (iou: 0.75, cls: 1.00) Region 82 Avg (IOU: -nan, GIOU: -nan), Class: -nan, Obj: -nan, No Obj: 0.000031, .5R: -nan, .75R: -nan, count: 0, class_loss = 0.000001, iou_loss = 0.000000, total_loss = 0.000001 \n",
            "v3 (mse loss, Normalizer: (iou: 0.75, cls: 1.00) Region 94 Avg (IOU: 0.607812, GIOU: 0.582794), Class: 0.969878, Obj: 0.429891, No Obj: 0.001501, .5R: 0.846154, .75R: 0.000000, count: 13, class_loss = 1.865136, iou_loss = 1.621066, total_loss = 3.486202 \n",
            "v3 (mse loss, Normalizer: (iou: 0.75, cls: 1.00) Region 106 Avg (IOU: -nan, GIOU: -nan), Class: -nan, Obj: -nan, No Obj: 0.000006, .5R: -nan, .75R: -nan, count: 0, class_loss = 0.000001, iou_loss = 0.000000, total_loss = 0.000001 \n",
            "\n",
            " 913: 3.441764, 3.433705 avg loss, 0.000695 rate, 11.428634 seconds, 58432 images\n",
            "Loaded: 0.000059 seconds\n",
            "v3 (mse loss, Normalizer: (iou: 0.75, cls: 1.00) Region 82 Avg (IOU: -nan, GIOU: -nan), Class: -nan, Obj: -nan, No Obj: 0.000029, .5R: -nan, .75R: -nan, count: 0, class_loss = 0.000001, iou_loss = 0.000000, total_loss = 0.000001 \n",
            "v3 (mse loss, Normalizer: (iou: 0.75, cls: 1.00) Region 94 Avg (IOU: 0.432110, GIOU: 0.379185), Class: 0.956685, Obj: 0.667331, No Obj: 0.006196, .5R: 0.425926, .75R: 0.055556, count: 54, class_loss = 4.478512, iou_loss = 9.919912, total_loss = 14.398425 \n",
            "v3 (mse loss, Normalizer: (iou: 0.75, cls: 1.00) Region 106 Avg (IOU: -nan, GIOU: -nan), Class: -nan, Obj: -nan, No Obj: 0.000006, .5R: -nan, .75R: -nan, count: 0, class_loss = 0.000000, iou_loss = 0.000000, total_loss = 0.000000 \n",
            "v3 (mse loss, Normalizer: (iou: 0.75, cls: 1.00) Region 82 Avg (IOU: -nan, GIOU: -nan), Class: -nan, Obj: -nan, No Obj: 0.000030, .5R: -nan, .75R: -nan, count: 0, class_loss = 0.000001, iou_loss = 0.000000, total_loss = 0.000001 \n",
            "v3 (mse loss, Normalizer: (iou: 0.75, cls: 1.00) Region 94 Avg (IOU: 0.553780, GIOU: 0.536814), Class: 0.939742, Obj: 0.558058, No Obj: 0.006171, .5R: 0.642857, .75R: 0.089286, count: 56, class_loss = 6.175444, iou_loss = 11.058779, total_loss = 17.234222 \n",
            "v3 (mse loss, Normalizer: (iou: 0.75, cls: 1.00) Region 106 Avg (IOU: -nan, GIOU: -nan), Class: -nan, Obj: -nan, No Obj: 0.000006, .5R: -nan, .75R: -nan, count: 0, class_loss = 0.000001, iou_loss = 0.000000, total_loss = 0.000001 \n",
            "v3 (mse loss, Normalizer: (iou: 0.75, cls: 1.00) Region 82 Avg (IOU: -nan, GIOU: -nan), Class: -nan, Obj: -nan, No Obj: 0.000030, .5R: -nan, .75R: -nan, count: 0, class_loss = 0.000001, iou_loss = 0.000000, total_loss = 0.000001 \n",
            "v3 (mse loss, Normalizer: (iou: 0.75, cls: 1.00) Region 94 Avg (IOU: 0.452763, GIOU: 0.415769), Class: 0.953950, Obj: 0.542486, No Obj: 0.004746, .5R: 0.434783, .75R: 0.043478, count: 46, class_loss = 5.135588, iou_loss = 8.086088, total_loss = 13.221676 \n",
            "v3 (mse loss, Normalizer: (iou: 0.75, cls: 1.00) Region 106 Avg (IOU: -nan, GIOU: -nan), Class: -nan, Obj: -nan, No Obj: 0.000006, .5R: -nan, .75R: -nan, count: 0, class_loss = 0.000001, iou_loss = 0.000000, total_loss = 0.000001 \n",
            "v3 (mse loss, Normalizer: (iou: 0.75, cls: 1.00) Region 82 Avg (IOU: -nan, GIOU: -nan), Class: -nan, Obj: -nan, No Obj: 0.000029, .5R: -nan, .75R: -nan, count: 0, class_loss = 0.000001, iou_loss = 0.000000, total_loss = 0.000001 \n",
            "v3 (mse loss, Normalizer: (iou: 0.75, cls: 1.00) Region 94 Avg (IOU: 0.585709, GIOU: 0.576696), Class: 0.988992, Obj: 0.521253, No Obj: 0.003543, .5R: 0.709677, .75R: 0.129032, count: 31, class_loss = 3.498506, iou_loss = 4.518372, total_loss = 8.016877 \n",
            "v3 (mse loss, Normalizer: (iou: 0.75, cls: 1.00) Region 106 Avg (IOU: -nan, GIOU: -nan), Class: -nan, Obj: -nan, No Obj: 0.000006, .5R: -nan, .75R: -nan, count: 0, class_loss = 0.000001, iou_loss = 0.000000, total_loss = 0.000001 \n",
            "v3 (mse loss, Normalizer: (iou: 0.75, cls: 1.00) Region 82 Avg (IOU: -nan, GIOU: -nan), Class: -nan, Obj: -nan, No Obj: 0.000030, .5R: -nan, .75R: -nan, count: 0, class_loss = 0.000001, iou_loss = 0.000000, total_loss = 0.000001 \n",
            "v3 (mse loss, Normalizer: (iou: 0.75, cls: 1.00) Region 94 Avg (IOU: 0.427900, GIOU: 0.427900), Class: 0.999637, Obj: 0.533325, No Obj: 0.001010, .5R: 0.333333, .75R: 0.000000, count: 6, class_loss = 0.631526, iou_loss = 1.743882, total_loss = 2.375408 \n",
            "v3 (mse loss, Normalizer: (iou: 0.75, cls: 1.00) Region 106 Avg (IOU: -nan, GIOU: -nan), Class: -nan, Obj: -nan, No Obj: 0.000006, .5R: -nan, .75R: -nan, count: 0, class_loss = 0.000001, iou_loss = 0.000000, total_loss = 0.000001 \n",
            "v3 (mse loss, Normalizer: (iou: 0.75, cls: 1.00) Region 82 Avg (IOU: -nan, GIOU: -nan), Class: -nan, Obj: -nan, No Obj: 0.000030, .5R: -nan, .75R: -nan, count: 0, class_loss = 0.000001, iou_loss = 0.000000, total_loss = 0.000001 \n",
            "v3 (mse loss, Normalizer: (iou: 0.75, cls: 1.00) Region 94 Avg (IOU: 0.580448, GIOU: 0.576219), Class: 0.978023, Obj: 0.483103, No Obj: 0.003026, .5R: 0.666667, .75R: 0.222222, count: 27, class_loss = 3.305138, iou_loss = 4.086235, total_loss = 7.391372 \n",
            "v3 (mse loss, Normalizer: (iou: 0.75, cls: 1.00) Region 106 Avg (IOU: -nan, GIOU: -nan), Class: -nan, Obj: -nan, No Obj: 0.000006, .5R: -nan, .75R: -nan, count: 0, class_loss = 0.000001, iou_loss = 0.000000, total_loss = 0.000001 \n",
            "v3 (mse loss, Normalizer: (iou: 0.75, cls: 1.00) Region 82 Avg (IOU: -nan, GIOU: -nan), Class: -nan, Obj: -nan, No Obj: 0.000029, .5R: -nan, .75R: -nan, count: 0, class_loss = 0.000001, iou_loss = 0.000000, total_loss = 0.000001 \n",
            "v3 (mse loss, Normalizer: (iou: 0.75, cls: 1.00) Region 94 Avg (IOU: 0.442473, GIOU: 0.386545), Class: 0.906918, Obj: 0.597027, No Obj: 0.003641, .5R: 0.432432, .75R: 0.054054, count: 37, class_loss = 3.903910, iou_loss = 6.467368, total_loss = 10.371278 \n",
            "v3 (mse loss, Normalizer: (iou: 0.75, cls: 1.00) Region 106 Avg (IOU: -nan, GIOU: -nan), Class: -nan, Obj: -nan, No Obj: 0.000006, .5R: -nan, .75R: -nan, count: 0, class_loss = 0.000001, iou_loss = 0.000000, total_loss = 0.000001 \n",
            "v3 (mse loss, Normalizer: (iou: 0.75, cls: 1.00) Region 82 Avg (IOU: -nan, GIOU: -nan), Class: -nan, Obj: -nan, No Obj: 0.000030, .5R: -nan, .75R: -nan, count: 0, class_loss = 0.000001, iou_loss = 0.000000, total_loss = 0.000001 \n",
            "v3 (mse loss, Normalizer: (iou: 0.75, cls: 1.00) Region 94 Avg (IOU: 0.384506, GIOU: 0.316328), Class: 0.951577, Obj: 0.479391, No Obj: 0.004503, .5R: 0.269231, .75R: 0.000000, count: 52, class_loss = 6.331827, iou_loss = 11.014658, total_loss = 17.346485 \n",
            "v3 (mse loss, Normalizer: (iou: 0.75, cls: 1.00) Region 106 Avg (IOU: -nan, GIOU: -nan), Class: -nan, Obj: -nan, No Obj: 0.000006, .5R: -nan, .75R: -nan, count: 0, class_loss = 0.000001, iou_loss = 0.000000, total_loss = 0.000001 \n",
            "v3 (mse loss, Normalizer: (iou: 0.75, cls: 1.00) Region 82 Avg (IOU: -nan, GIOU: -nan), Class: -nan, Obj: -nan, No Obj: 0.000030, .5R: -nan, .75R: -nan, count: 0, class_loss = 0.000001, iou_loss = 0.000000, total_loss = 0.000001 \n",
            "v3 (mse loss, Normalizer: (iou: 0.75, cls: 1.00) Region 94 Avg (IOU: 0.584660, GIOU: 0.576240), Class: 0.994613, Obj: 0.507870, No Obj: 0.001402, .5R: 0.800000, .75R: 0.000000, count: 10, class_loss = 1.282296, iou_loss = 1.482089, total_loss = 2.764384 \n",
            "v3 (mse loss, Normalizer: (iou: 0.75, cls: 1.00) Region 106 Avg (IOU: -nan, GIOU: -nan), Class: -nan, Obj: -nan, No Obj: 0.000006, .5R: -nan, .75R: -nan, count: 0, class_loss = 0.000001, iou_loss = 0.000000, total_loss = 0.000001 \n",
            "v3 (mse loss, Normalizer: (iou: 0.75, cls: 1.00) Region 82 Avg (IOU: -nan, GIOU: -nan), Class: -nan, Obj: -nan, No Obj: 0.000029, .5R: -nan, .75R: -nan, count: 0, class_loss = 0.000001, iou_loss = 0.000000, total_loss = 0.000001 \n",
            "v3 (mse loss, Normalizer: (iou: 0.75, cls: 1.00) Region 94 Avg (IOU: 0.487969, GIOU: 0.460202), Class: 0.906812, Obj: 0.539747, No Obj: 0.006548, .5R: 0.442623, .75R: 0.114754, count: 61, class_loss = 7.432336, iou_loss = 14.421655, total_loss = 21.853991 \n",
            "v3 (mse loss, Normalizer: (iou: 0.75, cls: 1.00) Region 106 Avg (IOU: -nan, GIOU: -nan), Class: -nan, Obj: -nan, No Obj: 0.000006, .5R: -nan, .75R: -nan, count: 0, class_loss = 0.000001, iou_loss = 0.000000, total_loss = 0.000001 \n",
            "v3 (mse loss, Normalizer: (iou: 0.75, cls: 1.00) Region 82 Avg (IOU: -nan, GIOU: -nan), Class: -nan, Obj: -nan, No Obj: 0.000030, .5R: -nan, .75R: -nan, count: 0, class_loss = 0.000001, iou_loss = 0.000000, total_loss = 0.000001 \n",
            "v3 (mse loss, Normalizer: (iou: 0.75, cls: 1.00) Region 94 Avg (IOU: 0.507902, GIOU: 0.506547), Class: 0.998107, Obj: 0.344573, No Obj: 0.001593, .5R: 0.583333, .75R: 0.000000, count: 12, class_loss = 2.330932, iou_loss = 2.691541, total_loss = 5.022473 \n",
            "v3 (mse loss, Normalizer: (iou: 0.75, cls: 1.00) Region 106 Avg (IOU: -nan, GIOU: -nan), Class: -nan, Obj: -nan, No Obj: 0.000006, .5R: -nan, .75R: -nan, count: 0, class_loss = 0.000001, iou_loss = 0.000000, total_loss = 0.000001 \n",
            "v3 (mse loss, Normalizer: (iou: 0.75, cls: 1.00) Region 82 Avg (IOU: -nan, GIOU: -nan), Class: -nan, Obj: -nan, No Obj: 0.000029, .5R: -nan, .75R: -nan, count: 0, class_loss = 0.000001, iou_loss = 0.000000, total_loss = 0.000001 \n",
            "v3 (mse loss, Normalizer: (iou: 0.75, cls: 1.00) Region 94 Avg (IOU: 0.504391, GIOU: 0.483680), Class: 0.979486, Obj: 0.679124, No Obj: 0.005571, .5R: 0.395349, .75R: 0.069767, count: 43, class_loss = 3.463162, iou_loss = 7.293974, total_loss = 10.757136 \n",
            "v3 (mse loss, Normalizer: (iou: 0.75, cls: 1.00) Region 106 Avg (IOU: -nan, GIOU: -nan), Class: -nan, Obj: -nan, No Obj: 0.000006, .5R: -nan, .75R: -nan, count: 0, class_loss = 0.000001, iou_loss = 0.000000, total_loss = 0.000001 \n",
            "v3 (mse loss, Normalizer: (iou: 0.75, cls: 1.00) Region 82 Avg (IOU: -nan, GIOU: -nan), Class: -nan, Obj: -nan, No Obj: 0.000029, .5R: -nan, .75R: -nan, count: 0, class_loss = 0.000001, iou_loss = 0.000000, total_loss = 0.000001 \n",
            "v3 (mse loss, Normalizer: (iou: 0.75, cls: 1.00) Region 94 Avg (IOU: 0.487745, GIOU: 0.467518), Class: 0.988263, Obj: 0.512319, No Obj: 0.003149, .5R: 0.541667, .75R: 0.041667, count: 24, class_loss = 3.164782, iou_loss = 5.604279, total_loss = 8.769060 \n",
            "v3 (mse loss, Normalizer: (iou: 0.75, cls: 1.00) Region 106 Avg (IOU: -nan, GIOU: -nan), Class: -nan, Obj: -nan, No Obj: 0.000006, .5R: -nan, .75R: -nan, count: 0, class_loss = 0.000001, iou_loss = 0.000000, total_loss = 0.000001 \n",
            "v3 (mse loss, Normalizer: (iou: 0.75, cls: 1.00) Region 82 Avg (IOU: -nan, GIOU: -nan), Class: -nan, Obj: -nan, No Obj: 0.000030, .5R: -nan, .75R: -nan, count: 0, class_loss = 0.000001, iou_loss = 0.000000, total_loss = 0.000001 \n",
            "v3 (mse loss, Normalizer: (iou: 0.75, cls: 1.00) Region 94 Avg (IOU: 0.414375, GIOU: 0.365111), Class: 0.953229, Obj: 0.414484, No Obj: 0.002118, .5R: 0.352941, .75R: 0.000000, count: 17, class_loss = 2.211975, iou_loss = 4.240302, total_loss = 6.452277 \n",
            "v3 (mse loss, Normalizer: (iou: 0.75, cls: 1.00) Region 106 Avg (IOU: -nan, GIOU: -nan), Class: -nan, Obj: -nan, No Obj: 0.000006, .5R: -nan, .75R: -nan, count: 0, class_loss = 0.000001, iou_loss = 0.000000, total_loss = 0.000001 \n",
            "v3 (mse loss, Normalizer: (iou: 0.75, cls: 1.00) Region 82 Avg (IOU: -nan, GIOU: -nan), Class: -nan, Obj: -nan, No Obj: 0.000031, .5R: -nan, .75R: -nan, count: 0, class_loss = 0.000001, iou_loss = 0.000000, total_loss = 0.000001 \n",
            "v3 (mse loss, Normalizer: (iou: 0.75, cls: 1.00) Region 94 Avg (IOU: 0.350818, GIOU: 0.350818), Class: 0.923634, Obj: 0.442438, No Obj: 0.001618, .5R: 0.000000, .75R: 0.000000, count: 11, class_loss = 1.660930, iou_loss = 3.648659, total_loss = 5.309589 \n",
            "v3 (mse loss, Normalizer: (iou: 0.75, cls: 1.00) Region 106 Avg (IOU: -nan, GIOU: -nan), Class: -nan, Obj: -nan, No Obj: 0.000006, .5R: -nan, .75R: -nan, count: 0, class_loss = 0.000001, iou_loss = 0.000000, total_loss = 0.000001 \n",
            "v3 (mse loss, Normalizer: (iou: 0.75, cls: 1.00) Region 82 Avg (IOU: -nan, GIOU: -nan), Class: -nan, Obj: -nan, No Obj: 0.000029, .5R: -nan, .75R: -nan, count: 0, class_loss = 0.000001, iou_loss = 0.000000, total_loss = 0.000001 \n",
            "v3 (mse loss, Normalizer: (iou: 0.75, cls: 1.00) Region 94 Avg (IOU: 0.472579, GIOU: 0.436013), Class: 0.957601, Obj: 0.490481, No Obj: 0.005481, .5R: 0.480000, .75R: 0.060000, count: 50, class_loss = 6.800963, iou_loss = 10.939482, total_loss = 17.740444 \n",
            "v3 (mse loss, Normalizer: (iou: 0.75, cls: 1.00) Region 106 Avg (IOU: -nan, GIOU: -nan), Class: -nan, Obj: -nan, No Obj: 0.000006, .5R: -nan, .75R: -nan, count: 0, class_loss = 0.000001, iou_loss = 0.000000, total_loss = 0.000001 \n",
            "\n",
            " 914: 3.521356, 3.442470 avg loss, 0.000698 rate, 11.413484 seconds, 58496 images\n",
            "Loaded: 0.000058 seconds\n",
            "v3 (mse loss, Normalizer: (iou: 0.75, cls: 1.00) Region 82 Avg (IOU: -nan, GIOU: -nan), Class: -nan, Obj: -nan, No Obj: 0.000030, .5R: -nan, .75R: -nan, count: 0, class_loss = 0.000001, iou_loss = 0.000000, total_loss = 0.000001 \n",
            "v3 (mse loss, Normalizer: (iou: 0.75, cls: 1.00) Region 94 Avg (IOU: 0.630976, GIOU: 0.623064), Class: 0.969581, Obj: 0.634281, No Obj: 0.002835, .5R: 0.842105, .75R: 0.263158, count: 19, class_loss = 1.580265, iou_loss = 2.369425, total_loss = 3.949690 \n",
            "v3 (mse loss, Normalizer: (iou: 0.75, cls: 1.00) Region 106 Avg (IOU: -nan, GIOU: -nan), Class: -nan, Obj: -nan, No Obj: 0.000006, .5R: -nan, .75R: -nan, count: 0, class_loss = 0.000001, iou_loss = 0.000000, total_loss = 0.000001 \n",
            "v3 (mse loss, Normalizer: (iou: 0.75, cls: 1.00) Region 82 Avg (IOU: -nan, GIOU: -nan), Class: -nan, Obj: -nan, No Obj: 0.000029, .5R: -nan, .75R: -nan, count: 0, class_loss = 0.000001, iou_loss = 0.000000, total_loss = 0.000001 \n",
            "v3 (mse loss, Normalizer: (iou: 0.75, cls: 1.00) Region 94 Avg (IOU: 0.706838, GIOU: 0.692571), Class: 0.991008, Obj: 0.739928, No Obj: 0.002014, .5R: 1.000000, .75R: 0.300000, count: 10, class_loss = 0.928240, iou_loss = 0.963253, total_loss = 1.891492 \n",
            "v3 (mse loss, Normalizer: (iou: 0.75, cls: 1.00) Region 106 Avg (IOU: -nan, GIOU: -nan), Class: -nan, Obj: -nan, No Obj: 0.000006, .5R: -nan, .75R: -nan, count: 0, class_loss = 0.000001, iou_loss = 0.000000, total_loss = 0.000001 \n",
            "v3 (mse loss, Normalizer: (iou: 0.75, cls: 1.00) Region 82 Avg (IOU: -nan, GIOU: -nan), Class: -nan, Obj: -nan, No Obj: 0.000031, .5R: -nan, .75R: -nan, count: 0, class_loss = 0.000001, iou_loss = 0.000000, total_loss = 0.000001 \n",
            "v3 (mse loss, Normalizer: (iou: 0.75, cls: 1.00) Region 94 Avg (IOU: 0.634884, GIOU: 0.627267), Class: 0.981438, Obj: 0.631477, No Obj: 0.002887, .5R: 0.882353, .75R: 0.235294, count: 17, class_loss = 1.850633, iou_loss = 1.935752, total_loss = 3.786385 \n",
            "v3 (mse loss, Normalizer: (iou: 0.75, cls: 1.00) Region 106 Avg (IOU: -nan, GIOU: -nan), Class: -nan, Obj: -nan, No Obj: 0.000006, .5R: -nan, .75R: -nan, count: 0, class_loss = 0.000001, iou_loss = 0.000000, total_loss = 0.000001 \n",
            "v3 (mse loss, Normalizer: (iou: 0.75, cls: 1.00) Region 82 Avg (IOU: -nan, GIOU: -nan), Class: -nan, Obj: -nan, No Obj: 0.000030, .5R: -nan, .75R: -nan, count: 0, class_loss = 0.000001, iou_loss = 0.000000, total_loss = 0.000001 \n",
            "v3 (mse loss, Normalizer: (iou: 0.75, cls: 1.00) Region 94 Avg (IOU: 0.636189, GIOU: 0.613359), Class: 0.913804, Obj: 0.415908, No Obj: 0.004109, .5R: 0.777778, .75R: 0.296296, count: 27, class_loss = 4.410599, iou_loss = 5.354456, total_loss = 9.765056 \n",
            "v3 (mse loss, Normalizer: (iou: 0.75, cls: 1.00) Region 106 Avg (IOU: -nan, GIOU: -nan), Class: -nan, Obj: -nan, No Obj: 0.000006, .5R: -nan, .75R: -nan, count: 0, class_loss = 0.000001, iou_loss = 0.000000, total_loss = 0.000001 \n",
            "v3 (mse loss, Normalizer: (iou: 0.75, cls: 1.00) Region 82 Avg (IOU: -nan, GIOU: -nan), Class: -nan, Obj: -nan, No Obj: 0.000031, .5R: -nan, .75R: -nan, count: 0, class_loss = 0.000001, iou_loss = 0.000000, total_loss = 0.000001 \n",
            "v3 (mse loss, Normalizer: (iou: 0.75, cls: 1.00) Region 94 Avg (IOU: 0.638929, GIOU: 0.616993), Class: 0.981613, Obj: 0.573048, No Obj: 0.002438, .5R: 0.764706, .75R: 0.470588, count: 17, class_loss = 1.887119, iou_loss = 2.406650, total_loss = 4.293769 \n",
            "v3 (mse loss, Normalizer: (iou: 0.75, cls: 1.00) Region 106 Avg (IOU: -nan, GIOU: -nan), Class: -nan, Obj: -nan, No Obj: 0.000006, .5R: -nan, .75R: -nan, count: 0, class_loss = 0.000001, iou_loss = 0.000000, total_loss = 0.000001 \n",
            "v3 (mse loss, Normalizer: (iou: 0.75, cls: 1.00) Region 82 Avg (IOU: -nan, GIOU: -nan), Class: -nan, Obj: -nan, No Obj: 0.000030, .5R: -nan, .75R: -nan, count: 0, class_loss = 0.000001, iou_loss = 0.000000, total_loss = 0.000001 \n",
            "v3 (mse loss, Normalizer: (iou: 0.75, cls: 1.00) Region 94 Avg (IOU: 0.658795, GIOU: 0.640878), Class: 0.959150, Obj: 0.483214, No Obj: 0.003899, .5R: 0.884615, .75R: 0.269231, count: 26, class_loss = 3.754428, iou_loss = 2.887970, total_loss = 6.642398 \n",
            "v3 (mse loss, Normalizer: (iou: 0.75, cls: 1.00) Region 106 Avg (IOU: -nan, GIOU: -nan), Class: -nan, Obj: -nan, No Obj: 0.000006, .5R: -nan, .75R: -nan, count: 0, class_loss = 0.000001, iou_loss = 0.000000, total_loss = 0.000001 \n",
            "v3 (mse loss, Normalizer: (iou: 0.75, cls: 1.00) Region 82 Avg (IOU: -nan, GIOU: -nan), Class: -nan, Obj: -nan, No Obj: 0.000029, .5R: -nan, .75R: -nan, count: 0, class_loss = 0.000001, iou_loss = 0.000000, total_loss = 0.000001 \n",
            "v3 (mse loss, Normalizer: (iou: 0.75, cls: 1.00) Region 94 Avg (IOU: 0.598385, GIOU: 0.571427), Class: 0.974612, Obj: 0.626910, No Obj: 0.005677, .5R: 0.711111, .75R: 0.200000, count: 45, class_loss = 4.092369, iou_loss = 5.986353, total_loss = 10.078722 \n",
            "v3 (mse loss, Normalizer: (iou: 0.75, cls: 1.00) Region 106 Avg (IOU: -nan, GIOU: -nan), Class: -nan, Obj: -nan, No Obj: 0.000006, .5R: -nan, .75R: -nan, count: 0, class_loss = 0.000000, iou_loss = 0.000000, total_loss = 0.000000 \n",
            "v3 (mse loss, Normalizer: (iou: 0.75, cls: 1.00) Region 82 Avg (IOU: -nan, GIOU: -nan), Class: -nan, Obj: -nan, No Obj: 0.000030, .5R: -nan, .75R: -nan, count: 0, class_loss = 0.000001, iou_loss = 0.000000, total_loss = 0.000001 \n",
            "v3 (mse loss, Normalizer: (iou: 0.75, cls: 1.00) Region 94 Avg (IOU: 0.675769, GIOU: 0.670222), Class: 0.989910, Obj: 0.543395, No Obj: 0.002047, .5R: 0.909091, .75R: 0.363636, count: 11, class_loss = 1.351215, iou_loss = 1.142357, total_loss = 2.493572 \n",
            "v3 (mse loss, Normalizer: (iou: 0.75, cls: 1.00) Region 106 Avg (IOU: -nan, GIOU: -nan), Class: -nan, Obj: -nan, No Obj: 0.000006, .5R: -nan, .75R: -nan, count: 0, class_loss = 0.000001, iou_loss = 0.000000, total_loss = 0.000001 \n",
            "v3 (mse loss, Normalizer: (iou: 0.75, cls: 1.00) Region 82 Avg (IOU: -nan, GIOU: -nan), Class: -nan, Obj: -nan, No Obj: 0.000031, .5R: -nan, .75R: -nan, count: 0, class_loss = 0.000001, iou_loss = 0.000000, total_loss = 0.000001 \n",
            "v3 (mse loss, Normalizer: (iou: 0.75, cls: 1.00) Region 94 Avg (IOU: 0.528413, GIOU: 0.484470), Class: 0.925269, Obj: 0.510888, No Obj: 0.004848, .5R: 0.625000, .75R: 0.150000, count: 40, class_loss = 5.973221, iou_loss = 5.372278, total_loss = 11.345499 \n",
            "v3 (mse loss, Normalizer: (iou: 0.75, cls: 1.00) Region 106 Avg (IOU: -nan, GIOU: -nan), Class: -nan, Obj: -nan, No Obj: 0.000006, .5R: -nan, .75R: -nan, count: 0, class_loss = 0.000001, iou_loss = 0.000000, total_loss = 0.000001 \n",
            "v3 (mse loss, Normalizer: (iou: 0.75, cls: 1.00) Region 82 Avg (IOU: -nan, GIOU: -nan), Class: -nan, Obj: -nan, No Obj: 0.000030, .5R: -nan, .75R: -nan, count: 0, class_loss = 0.000001, iou_loss = 0.000000, total_loss = 0.000001 \n",
            "v3 (mse loss, Normalizer: (iou: 0.75, cls: 1.00) Region 94 Avg (IOU: 0.641122, GIOU: 0.623131), Class: 0.958640, Obj: 0.511529, No Obj: 0.002561, .5R: 0.823529, .75R: 0.294118, count: 17, class_loss = 1.915393, iou_loss = 3.094160, total_loss = 5.009552 \n",
            "v3 (mse loss, Normalizer: (iou: 0.75, cls: 1.00) Region 106 Avg (IOU: -nan, GIOU: -nan), Class: -nan, Obj: -nan, No Obj: 0.000006, .5R: -nan, .75R: -nan, count: 0, class_loss = 0.000001, iou_loss = 0.000000, total_loss = 0.000001 \n",
            "v3 (mse loss, Normalizer: (iou: 0.75, cls: 1.00) Region 82 Avg (IOU: -nan, GIOU: -nan), Class: -nan, Obj: -nan, No Obj: 0.000029, .5R: -nan, .75R: -nan, count: 0, class_loss = 0.000001, iou_loss = 0.000000, total_loss = 0.000001 \n",
            "v3 (mse loss, Normalizer: (iou: 0.75, cls: 1.00) Region 94 Avg (IOU: 0.516591, GIOU: 0.476216), Class: 0.993777, Obj: 0.471413, No Obj: 0.001578, .5R: 0.636364, .75R: 0.090909, count: 11, class_loss = 1.420334, iou_loss = 2.612640, total_loss = 4.032973 \n",
            "v3 (mse loss, Normalizer: (iou: 0.75, cls: 1.00) Region 106 Avg (IOU: -nan, GIOU: -nan), Class: -nan, Obj: -nan, No Obj: 0.000006, .5R: -nan, .75R: -nan, count: 0, class_loss = 0.000001, iou_loss = 0.000000, total_loss = 0.000001 \n",
            "v3 (mse loss, Normalizer: (iou: 0.75, cls: 1.00) Region 82 Avg (IOU: -nan, GIOU: -nan), Class: -nan, Obj: -nan, No Obj: 0.000030, .5R: -nan, .75R: -nan, count: 0, class_loss = 0.000001, iou_loss = 0.000000, total_loss = 0.000001 \n",
            "v3 (mse loss, Normalizer: (iou: 0.75, cls: 1.00) Region 94 Avg (IOU: 0.633037, GIOU: 0.610319), Class: 0.953671, Obj: 0.504546, No Obj: 0.008233, .5R: 0.865672, .75R: 0.253731, count: 67, class_loss = 8.343712, iou_loss = 10.472525, total_loss = 18.816236 \n",
            "v3 (mse loss, Normalizer: (iou: 0.75, cls: 1.00) Region 106 Avg (IOU: -nan, GIOU: -nan), Class: -nan, Obj: -nan, No Obj: 0.000006, .5R: -nan, .75R: -nan, count: 0, class_loss = 0.000001, iou_loss = 0.000000, total_loss = 0.000001 \n",
            "v3 (mse loss, Normalizer: (iou: 0.75, cls: 1.00) Region 82 Avg (IOU: -nan, GIOU: -nan), Class: -nan, Obj: -nan, No Obj: 0.000031, .5R: -nan, .75R: -nan, count: 0, class_loss = 0.000001, iou_loss = 0.000000, total_loss = 0.000001 \n",
            "v3 (mse loss, Normalizer: (iou: 0.75, cls: 1.00) Region 94 Avg (IOU: 0.595802, GIOU: 0.560252), Class: 0.918351, Obj: 0.555362, No Obj: 0.002149, .5R: 0.846154, .75R: 0.153846, count: 13, class_loss = 1.848809, iou_loss = 2.128601, total_loss = 3.977410 \n",
            "v3 (mse loss, Normalizer: (iou: 0.75, cls: 1.00) Region 106 Avg (IOU: -nan, GIOU: -nan), Class: -nan, Obj: -nan, No Obj: 0.000006, .5R: -nan, .75R: -nan, count: 0, class_loss = 0.000001, iou_loss = 0.000000, total_loss = 0.000001 \n",
            "v3 (mse loss, Normalizer: (iou: 0.75, cls: 1.00) Region 82 Avg (IOU: -nan, GIOU: -nan), Class: -nan, Obj: -nan, No Obj: 0.000029, .5R: -nan, .75R: -nan, count: 0, class_loss = 0.000001, iou_loss = 0.000000, total_loss = 0.000001 \n",
            "v3 (mse loss, Normalizer: (iou: 0.75, cls: 1.00) Region 94 Avg (IOU: 0.651807, GIOU: 0.638472), Class: 0.952940, Obj: 0.562682, No Obj: 0.005388, .5R: 0.885714, .75R: 0.257143, count: 35, class_loss = 3.867360, iou_loss = 4.120843, total_loss = 7.988203 \n",
            "v3 (mse loss, Normalizer: (iou: 0.75, cls: 1.00) Region 106 Avg (IOU: -nan, GIOU: -nan), Class: -nan, Obj: -nan, No Obj: 0.000006, .5R: -nan, .75R: -nan, count: 0, class_loss = 0.000001, iou_loss = 0.000000, total_loss = 0.000001 \n",
            "v3 (mse loss, Normalizer: (iou: 0.75, cls: 1.00) Region 82 Avg (IOU: -nan, GIOU: -nan), Class: -nan, Obj: -nan, No Obj: 0.000030, .5R: -nan, .75R: -nan, count: 0, class_loss = 0.000001, iou_loss = 0.000000, total_loss = 0.000001 \n",
            "v3 (mse loss, Normalizer: (iou: 0.75, cls: 1.00) Region 94 Avg (IOU: 0.695539, GIOU: 0.685033), Class: 0.914592, Obj: 0.565954, No Obj: 0.002107, .5R: 0.818182, .75R: 0.454545, count: 11, class_loss = 1.801390, iou_loss = 1.373503, total_loss = 3.174893 \n",
            "v3 (mse loss, Normalizer: (iou: 0.75, cls: 1.00) Region 106 Avg (IOU: -nan, GIOU: -nan), Class: -nan, Obj: -nan, No Obj: 0.000006, .5R: -nan, .75R: -nan, count: 0, class_loss = 0.000001, iou_loss = 0.000000, total_loss = 0.000001 \n",
            "v3 (mse loss, Normalizer: (iou: 0.75, cls: 1.00) Region 82 Avg (IOU: -nan, GIOU: -nan), Class: -nan, Obj: -nan, No Obj: 0.000030, .5R: -nan, .75R: -nan, count: 0, class_loss = 0.000001, iou_loss = 0.000000, total_loss = 0.000001 \n",
            "v3 (mse loss, Normalizer: (iou: 0.75, cls: 1.00) Region 94 Avg (IOU: 0.678962, GIOU: 0.654986), Class: 0.977971, Obj: 0.536477, No Obj: 0.004653, .5R: 0.862069, .75R: 0.275862, count: 29, class_loss = 4.137718, iou_loss = 3.142587, total_loss = 7.280305 \n",
            "v3 (mse loss, Normalizer: (iou: 0.75, cls: 1.00) Region 106 Avg (IOU: -nan, GIOU: -nan), Class: -nan, Obj: -nan, No Obj: 0.000006, .5R: -nan, .75R: -nan, count: 0, class_loss = 0.000001, iou_loss = 0.000000, total_loss = 0.000001 \n",
            "\n",
            " 915: 2.177629, 3.315986 avg loss, 0.000701 rate, 11.310284 seconds, 58560 images\n",
            "Loaded: 0.000053 seconds\n",
            "v3 (mse loss, Normalizer: (iou: 0.75, cls: 1.00) Region 82 Avg (IOU: -nan, GIOU: -nan), Class: -nan, Obj: -nan, No Obj: 0.000031, .5R: -nan, .75R: -nan, count: 0, class_loss = 0.000001, iou_loss = 0.000000, total_loss = 0.000001 \n",
            "v3 (mse loss, Normalizer: (iou: 0.75, cls: 1.00) Region 94 Avg (IOU: 0.496656, GIOU: 0.478599), Class: 0.975307, Obj: 0.604502, No Obj: 0.010310, .5R: 0.493333, .75R: 0.066667, count: 75, class_loss = 8.239519, iou_loss = 18.558260, total_loss = 26.797779 \n",
            "v3 (mse loss, Normalizer: (iou: 0.75, cls: 1.00) Region 106 Avg (IOU: -nan, GIOU: -nan), Class: -nan, Obj: -nan, No Obj: 0.000006, .5R: -nan, .75R: -nan, count: 0, class_loss = 0.000001, iou_loss = 0.000000, total_loss = 0.000001 \n",
            "v3 (mse loss, Normalizer: (iou: 0.75, cls: 1.00) Region 82 Avg (IOU: -nan, GIOU: -nan), Class: -nan, Obj: -nan, No Obj: 0.000030, .5R: -nan, .75R: -nan, count: 0, class_loss = 0.000001, iou_loss = 0.000000, total_loss = 0.000001 \n",
            "v3 (mse loss, Normalizer: (iou: 0.75, cls: 1.00) Region 94 Avg (IOU: 0.582618, GIOU: 0.561079), Class: 0.914698, Obj: 0.526151, No Obj: 0.004614, .5R: 0.666667, .75R: 0.148148, count: 27, class_loss = 4.042099, iou_loss = 4.887276, total_loss = 8.929376 \n",
            "v3 (mse loss, Normalizer: (iou: 0.75, cls: 1.00) Region 106 Avg (IOU: -nan, GIOU: -nan), Class: -nan, Obj: -nan, No Obj: 0.000006, .5R: -nan, .75R: -nan, count: 0, class_loss = 0.000001, iou_loss = 0.000000, total_loss = 0.000001 \n"
          ],
          "name": "stdout"
        }
      ]
    },
    {
      "cell_type": "code",
      "metadata": {
        "id": "pegoVTe7uWgY",
        "colab_type": "code",
        "colab": {}
      },
      "source": [
        "#copy yolo weight to drive as backup\n",
        "\n",
        "!rm /content/darknet/backup -r\n",
        "!ln -s /content/drive/'My Drive'/project/backup /content/darknet"
      ],
      "execution_count": 0,
      "outputs": []
    },
    {
      "cell_type": "code",
      "metadata": {
        "id": "nZ7o5LWxvnCd",
        "colab_type": "code",
        "colab": {}
      },
      "source": [
        "#upload a test image to check if working\n",
        "from google.colab import files\n",
        "uploaded = files.upload() \n",
        "for name, data in uploaded.items():\n",
        "  with open(name, 'wb') as f:\n",
        "    f.write(data)\n",
        "    print ('saved file', name)"
      ],
      "execution_count": 0,
      "outputs": []
    },
    {
      "cell_type": "code",
      "metadata": {
        "id": "uviBmAgwvxyK",
        "colab_type": "code",
        "colab": {}
      },
      "source": [
        "!./darknet detector test data_for_colab/obj.data data_for_colab/yolov3.cfg backup/yolov3_last.weights 0_Traffic-Wales-CCTV-A55-J8a-Britannia-Bridge-Island-Eastbound.jpg -i 0 -thresh 0.5"
      ],
      "execution_count": 0,
      "outputs": []
    },
    {
      "cell_type": "code",
      "metadata": {
        "id": "gUcWxNYYwNQ-",
        "colab_type": "code",
        "colab": {}
      },
      "source": [
        "imShow('predictions.jpg')\n"
      ],
      "execution_count": 0,
      "outputs": []
    },
    {
      "cell_type": "code",
      "metadata": {
        "id": "SAwV_jiJwPe6",
        "colab_type": "code",
        "colab": {}
      },
      "source": [
        "cd ../"
      ],
      "execution_count": 0,
      "outputs": []
    },
    {
      "cell_type": "code",
      "metadata": {
        "id": "RTbrHwlxwSCW",
        "colab_type": "code",
        "colab": {}
      },
      "source": [
        "cp /content/drive/\"My Drive\"/project/Yolo_Train/dataacci.mp4 /content/darknet"
      ],
      "execution_count": 0,
      "outputs": []
    },
    {
      "cell_type": "code",
      "metadata": {
        "id": "nQNYCKKEwTFg",
        "colab_type": "code",
        "colab": {}
      },
      "source": [
        "cd darknet"
      ],
      "execution_count": 0,
      "outputs": []
    },
    {
      "cell_type": "code",
      "metadata": {
        "id": "cR0DMiZ0wUNN",
        "colab_type": "code",
        "colab": {}
      },
      "source": [
        "ls"
      ],
      "execution_count": 0,
      "outputs": []
    },
    {
      "cell_type": "code",
      "metadata": {
        "id": "i-3l8VA6wUsB",
        "colab_type": "code",
        "colab": {}
      },
      "source": [
        "!./darknet detector demo data_for_colab/obj.data data_for_colab/yolov3-tiny-obj.cfg backup/yolov3-tiny-obj_1000.weights  -dont_show dataacci.mp4 -i 0 -out_filename veout.avi"
      ],
      "execution_count": 0,
      "outputs": []
    },
    {
      "cell_type": "code",
      "metadata": {
        "id": "Tao9xPPWwXRG",
        "colab_type": "code",
        "colab": {}
      },
      "source": [
        "download('veout.avi') "
      ],
      "execution_count": 0,
      "outputs": []
    }
  ]
}